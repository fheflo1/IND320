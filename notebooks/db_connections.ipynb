{
 "cells": [
  {
   "cell_type": "code",
   "execution_count": 5,
   "id": "fede9861",
   "metadata": {},
   "outputs": [],
   "source": [
    "from pyspark.sql import SparkSession\n",
    "import pandas as pd\n",
    "from pymongo.mongo_client import MongoClient"
   ]
  },
  {
   "cell_type": "code",
   "execution_count": 2,
   "id": "6ceaabdb",
   "metadata": {},
   "outputs": [
    {
     "name": "stderr",
     "output_type": "stream",
     "text": [
      "25/10/14 09:57:25 WARN Utils: Your hostname, Fabians-MacBook-Pro.local resolves to a loopback address: 127.0.0.1; using 10.20.7.114 instead (on interface en0)\n",
      "25/10/14 09:57:25 WARN Utils: Set SPARK_LOCAL_IP if you need to bind to another address\n",
      "Ivy Default Cache set to: /Users/fabianheflo/.ivy2/cache\n",
      "The jars for the packages stored in: /Users/fabianheflo/.ivy2/jars\n",
      "com.datastax.spark#spark-cassandra-connector_2.12 added as a dependency\n",
      ":: resolving dependencies :: org.apache.spark#spark-submit-parent-77133874-d36f-4717-8d31-62dbfd4b13c9;1.0\n",
      "\tconfs: [default]\n",
      "\tfound com.datastax.spark#spark-cassandra-connector_2.12;3.5.1 in central\n",
      "\tfound com.datastax.spark#spark-cassandra-connector-driver_2.12;3.5.1 in central\n"
     ]
    },
    {
     "name": "stdout",
     "output_type": "stream",
     "text": [
      ":: loading settings :: url = jar:file:/Users/fabianheflo/UNI_courses/IND320/IND320/.venv/lib/python3.12/site-packages/pyspark/jars/ivy-2.5.1.jar!/org/apache/ivy/core/settings/ivysettings.xml\n"
     ]
    },
    {
     "name": "stderr",
     "output_type": "stream",
     "text": [
      "\tfound org.scala-lang.modules#scala-collection-compat_2.12;2.11.0 in central\n",
      "\tfound org.apache.cassandra#java-driver-core-shaded;4.18.1 in central\n",
      "\tfound com.datastax.oss#native-protocol;1.5.1 in central\n",
      "\tfound com.datastax.oss#java-driver-shaded-guava;25.1-jre-graal-sub-1 in central\n",
      "\tfound com.typesafe#config;1.4.1 in central\n",
      "\tfound org.slf4j#slf4j-api;1.7.26 in central\n",
      "\tfound io.dropwizard.metrics#metrics-core;4.1.18 in central\n",
      "\tfound org.hdrhistogram#HdrHistogram;2.1.12 in central\n",
      "\tfound org.reactivestreams#reactive-streams;1.0.3 in central\n",
      "\tfound org.apache.cassandra#java-driver-mapper-runtime;4.18.1 in central\n",
      "\tfound org.apache.cassandra#java-driver-query-builder;4.18.1 in central\n",
      "\tfound org.apache.commons#commons-lang3;3.10 in central\n",
      "\tfound com.thoughtworks.paranamer#paranamer;2.8 in central\n",
      "\tfound org.scala-lang#scala-reflect;2.12.19 in central\n",
      ":: resolution report :: resolve 224ms :: artifacts dl 8ms\n",
      "\t:: modules in use:\n",
      "\tcom.datastax.oss#java-driver-shaded-guava;25.1-jre-graal-sub-1 from central in [default]\n",
      "\tcom.datastax.oss#native-protocol;1.5.1 from central in [default]\n",
      "\tcom.datastax.spark#spark-cassandra-connector-driver_2.12;3.5.1 from central in [default]\n",
      "\tcom.datastax.spark#spark-cassandra-connector_2.12;3.5.1 from central in [default]\n",
      "\tcom.thoughtworks.paranamer#paranamer;2.8 from central in [default]\n",
      "\tcom.typesafe#config;1.4.1 from central in [default]\n",
      "\tio.dropwizard.metrics#metrics-core;4.1.18 from central in [default]\n",
      "\torg.apache.cassandra#java-driver-core-shaded;4.18.1 from central in [default]\n",
      "\torg.apache.cassandra#java-driver-mapper-runtime;4.18.1 from central in [default]\n",
      "\torg.apache.cassandra#java-driver-query-builder;4.18.1 from central in [default]\n",
      "\torg.apache.commons#commons-lang3;3.10 from central in [default]\n",
      "\torg.hdrhistogram#HdrHistogram;2.1.12 from central in [default]\n",
      "\torg.reactivestreams#reactive-streams;1.0.3 from central in [default]\n",
      "\torg.scala-lang#scala-reflect;2.12.19 from central in [default]\n",
      "\torg.scala-lang.modules#scala-collection-compat_2.12;2.11.0 from central in [default]\n",
      "\torg.slf4j#slf4j-api;1.7.26 from central in [default]\n",
      "\t---------------------------------------------------------------------\n",
      "\t|                  |            modules            ||   artifacts   |\n",
      "\t|       conf       | number| search|dwnlded|evicted|| number|dwnlded|\n",
      "\t---------------------------------------------------------------------\n",
      "\t|      default     |   16  |   0   |   0   |   0   ||   16  |   0   |\n",
      "\t---------------------------------------------------------------------\n",
      ":: retrieving :: org.apache.spark#spark-submit-parent-77133874-d36f-4717-8d31-62dbfd4b13c9\n",
      "\tconfs: [default]\n",
      "\t0 artifacts copied, 16 already retrieved (0kB/5ms)\n",
      "25/10/14 09:57:25 WARN NativeCodeLoader: Unable to load native-hadoop library for your platform... using builtin-java classes where applicable\n",
      "Setting default log level to \"WARN\".\n",
      "To adjust logging level use sc.setLogLevel(newLevel). For SparkR, use setLogLevel(newLevel).\n"
     ]
    },
    {
     "name": "stdout",
     "output_type": "stream",
     "text": [
      "✅ SparkSession started with Cassandra integration\n"
     ]
    }
   ],
   "source": [
    "spark = SparkSession.builder \\\n",
    "    .appName(\"Elhub MongoDB Upload\") \\\n",
    "    .master(\"local[*]\") \\\n",
    "    .config(\"spark.jars.packages\", \"com.datastax.spark:spark-cassandra-connector_2.12:3.5.1\") \\\n",
    "    .config(\"spark.cassandra.connection.host\", \"127.0.0.1\") \\\n",
    "    .config(\"spark.cassandra.connection.port\", \"9042\") \\\n",
    "    .config(\"spark.sql.extensions\", \"com.datastax.spark.connector.CassandraSparkExtensions\") \\\n",
    "    .config(\"spark.sql.catalog.mycatalog\", \"com.datastax.spark.connector.datasource.CassandraCatalog\") \\\n",
    "    .config(\"spark.cassandra.output.consistency.level\", \"ONE\") \\\n",
    "    .config(\"spark.cassandra.connection.keepAliveMS\", \"60000\") \\\n",
    "    .getOrCreate()\n",
    "\n",
    "print(\"✅ SparkSession started with Cassandra integration\")"
   ]
  },
  {
   "cell_type": "markdown",
   "id": "0ebd6cce",
   "metadata": {},
   "source": [
    "### Reading production_silver table from Cassandra"
   ]
  },
  {
   "cell_type": "code",
   "execution_count": 3,
   "id": "3988b57a",
   "metadata": {},
   "outputs": [
    {
     "name": "stderr",
     "output_type": "stream",
     "text": [
      "                                                                                \r"
     ]
    }
   ],
   "source": [
    "silver_df = (\n",
    "    spark.read\n",
    "    .format(\"org.apache.spark.sql.cassandra\")\n",
    "    .options(table=\"production_silver\", keyspace=\"elhub_data\")\n",
    "    .load()\n",
    ")\n",
    "\n",
    "pdf = silver_df.toPandas()"
   ]
  },
  {
   "cell_type": "markdown",
   "id": "0ccf060c",
   "metadata": {},
   "source": [
    "### The dataset ready to be inserted into MongoDB"
   ]
  },
  {
   "cell_type": "code",
   "execution_count": 4,
   "id": "612652b4",
   "metadata": {},
   "outputs": [
    {
     "data": {
      "text/html": [
       "<div>\n",
       "<style scoped>\n",
       "    .dataframe tbody tr th:only-of-type {\n",
       "        vertical-align: middle;\n",
       "    }\n",
       "\n",
       "    .dataframe tbody tr th {\n",
       "        vertical-align: top;\n",
       "    }\n",
       "\n",
       "    .dataframe thead th {\n",
       "        text-align: right;\n",
       "    }\n",
       "</style>\n",
       "<table border=\"1\" class=\"dataframe\">\n",
       "  <thead>\n",
       "    <tr style=\"text-align: right;\">\n",
       "      <th></th>\n",
       "      <th>pricearea</th>\n",
       "      <th>productiongroup</th>\n",
       "      <th>starttime</th>\n",
       "      <th>quantitykwh</th>\n",
       "    </tr>\n",
       "  </thead>\n",
       "  <tbody>\n",
       "    <tr>\n",
       "      <th>0</th>\n",
       "      <td>NO5</td>\n",
       "      <td>hydro</td>\n",
       "      <td>2021-01-01 00:00:00</td>\n",
       "      <td>4068096.500</td>\n",
       "    </tr>\n",
       "    <tr>\n",
       "      <th>1</th>\n",
       "      <td>NO5</td>\n",
       "      <td>hydro</td>\n",
       "      <td>2021-01-01 01:00:00</td>\n",
       "      <td>4104306.000</td>\n",
       "    </tr>\n",
       "    <tr>\n",
       "      <th>2</th>\n",
       "      <td>NO5</td>\n",
       "      <td>hydro</td>\n",
       "      <td>2021-01-01 02:00:00</td>\n",
       "      <td>3948634.500</td>\n",
       "    </tr>\n",
       "    <tr>\n",
       "      <th>3</th>\n",
       "      <td>NO5</td>\n",
       "      <td>hydro</td>\n",
       "      <td>2021-01-01 03:00:00</td>\n",
       "      <td>3789087.200</td>\n",
       "    </tr>\n",
       "    <tr>\n",
       "      <th>4</th>\n",
       "      <td>NO5</td>\n",
       "      <td>hydro</td>\n",
       "      <td>2021-01-01 04:00:00</td>\n",
       "      <td>3911464.800</td>\n",
       "    </tr>\n",
       "    <tr>\n",
       "      <th>...</th>\n",
       "      <td>...</td>\n",
       "      <td>...</td>\n",
       "      <td>...</td>\n",
       "      <td>...</td>\n",
       "    </tr>\n",
       "    <tr>\n",
       "      <th>215348</th>\n",
       "      <td>NO1</td>\n",
       "      <td>wind</td>\n",
       "      <td>2021-12-31 19:00:00</td>\n",
       "      <td>124853.266</td>\n",
       "    </tr>\n",
       "    <tr>\n",
       "      <th>215349</th>\n",
       "      <td>NO1</td>\n",
       "      <td>wind</td>\n",
       "      <td>2021-12-31 20:00:00</td>\n",
       "      <td>108218.266</td>\n",
       "    </tr>\n",
       "    <tr>\n",
       "      <th>215350</th>\n",
       "      <td>NO1</td>\n",
       "      <td>wind</td>\n",
       "      <td>2021-12-31 21:00:00</td>\n",
       "      <td>108086.266</td>\n",
       "    </tr>\n",
       "    <tr>\n",
       "      <th>215351</th>\n",
       "      <td>NO1</td>\n",
       "      <td>wind</td>\n",
       "      <td>2021-12-31 22:00:00</td>\n",
       "      <td>121983.266</td>\n",
       "    </tr>\n",
       "    <tr>\n",
       "      <th>215352</th>\n",
       "      <td>NO1</td>\n",
       "      <td>wind</td>\n",
       "      <td>2021-12-31 23:00:00</td>\n",
       "      <td>130779.270</td>\n",
       "    </tr>\n",
       "  </tbody>\n",
       "</table>\n",
       "<p>215353 rows × 4 columns</p>\n",
       "</div>"
      ],
      "text/plain": [
       "       pricearea productiongroup           starttime  quantitykwh\n",
       "0            NO5           hydro 2021-01-01 00:00:00  4068096.500\n",
       "1            NO5           hydro 2021-01-01 01:00:00  4104306.000\n",
       "2            NO5           hydro 2021-01-01 02:00:00  3948634.500\n",
       "3            NO5           hydro 2021-01-01 03:00:00  3789087.200\n",
       "4            NO5           hydro 2021-01-01 04:00:00  3911464.800\n",
       "...          ...             ...                 ...          ...\n",
       "215348       NO1            wind 2021-12-31 19:00:00   124853.266\n",
       "215349       NO1            wind 2021-12-31 20:00:00   108218.266\n",
       "215350       NO1            wind 2021-12-31 21:00:00   108086.266\n",
       "215351       NO1            wind 2021-12-31 22:00:00   121983.266\n",
       "215352       NO1            wind 2021-12-31 23:00:00   130779.270\n",
       "\n",
       "[215353 rows x 4 columns]"
      ]
     },
     "execution_count": 4,
     "metadata": {},
     "output_type": "execute_result"
    }
   ],
   "source": [
    "pdf"
   ]
  },
  {
   "cell_type": "markdown",
   "id": "4335a4be",
   "metadata": {},
   "source": [
    "### MongoDB Connection\n"
   ]
  },
  {
   "cell_type": "code",
   "execution_count": 10,
   "id": "48a06887",
   "metadata": {},
   "outputs": [],
   "source": [
    "USR, PWD = open('../No_sync/MongoDB').read().splitlines()\n",
    "\n",
    "# Build the URI using an f-string to avoid accidental TypeError when variables are None.\n",
    "uri = (\"mongodb+srv://{}:{}@ind320-cluster-fh.93gnbd4.mongodb.net/?retryWrites=true&w=majority&appName=IND320-cluster-fh\")\n",
    "\n",
    "# Create a new client and connect to the server\n",
    "client = MongoClient(uri.format(USR, PWD))\n",
    "\n",
    "database = client[\"elhub\"]\n",
    "collection = database[\"production_silver\"]"
   ]
  },
  {
   "cell_type": "markdown",
   "id": "382f3748",
   "metadata": {},
   "source": [
    "### Insterting to MongoDB "
   ]
  },
  {
   "cell_type": "code",
   "execution_count": 11,
   "id": "f8266bf3",
   "metadata": {},
   "outputs": [
    {
     "name": "stdout",
     "output_type": "stream",
     "text": [
      "✅ 215353 records inserted into MongoDB.\n"
     ]
    }
   ],
   "source": [
    "records = pdf.to_dict(orient='records')\n",
    "collection.insert_many(records)\n",
    "print(f\"✅ {len(records)} records inserted into MongoDB.\")"
   ]
  }
 ],
 "metadata": {
  "kernelspec": {
   "display_name": ".venv",
   "language": "python",
   "name": "python3"
  },
  "language_info": {
   "codemirror_mode": {
    "name": "ipython",
    "version": 3
   },
   "file_extension": ".py",
   "mimetype": "text/x-python",
   "name": "python",
   "nbconvert_exporter": "python",
   "pygments_lexer": "ipython3",
   "version": "3.12.9"
  }
 },
 "nbformat": 4,
 "nbformat_minor": 5
}

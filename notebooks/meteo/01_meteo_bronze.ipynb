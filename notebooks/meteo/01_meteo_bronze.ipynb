{
 "cells": [
  {
   "cell_type": "markdown",
   "id": "99977ca4",
   "metadata": {},
   "source": [
    "# Meteo Bronze Pipeline\n",
    "\n",
    "This notebook handles the *Bronze* stage of the Meteo data pipeline.  \n",
    "It is responsible for fetching **raw weather data** from the [Open-Meteo API](https://open-meteo.com/en/docs)  \n",
    "and saving it locally for later cleaning and processing in the Silver stage.\n",
    "\n",
    "---\n",
    "\n",
    "### 📋 Objectives\n",
    "1. Define reference data for Norwegian price areas and their representative cities.\n",
    "2. Create a function to fetch weather data from Open-Meteo’s ERA5 reanalysis model.\n",
    "3. Download and store raw JSON/CSV responses for each city and year.\n",
    "\n",
    "---\n",
    "\n",
    "**Outputs:**\n",
    "- `data/bronze/df_cities.csv` – city reference table  \n",
    "- `data/bronze/meteo_<city>_<year>.json` – raw downloaded data\n"
   ]
  },
  {
   "cell_type": "code",
   "execution_count": 1,
   "id": "96c91b3a",
   "metadata": {},
   "outputs": [
    {
     "name": "stdout",
     "output_type": "stream",
     "text": [
      "✅ Data folder ready: /Users/fabianheflo/UNI_courses/IND320/IND320/data/bronze\n"
     ]
    }
   ],
   "source": [
    "import pandas as pd\n",
    "from pathlib import Path\n",
    "import requests\n",
    "import json\n",
    "\n",
    "# Set up paths\n",
    "DATA_DIR = Path(\"../../data/bronze\")\n",
    "DATA_DIR.mkdir(parents=True, exist_ok=True)\n",
    "\n",
    "print(f\"✅ Data folder ready: {DATA_DIR.resolve()}\")"
   ]
  },
  {
   "cell_type": "markdown",
   "id": "fcd4b86f",
   "metadata": {},
   "source": [
    "## Task 1 — Define price areas and representative cities\n",
    "\n",
    "Create a reference table for the five Norwegian price areas (NO1–NO5),  \n",
    "their representative cities, and corresponding latitude/longitude coordinates.\n",
    "This table will be used in later tasks to request weather data from Open-Meteo."
   ]
  },
  {
   "cell_type": "code",
   "execution_count": 2,
   "id": "17e1e3f4",
   "metadata": {},
   "outputs": [
    {
     "data": {
      "text/html": [
       "<div>\n",
       "<style scoped>\n",
       "    .dataframe tbody tr th:only-of-type {\n",
       "        vertical-align: middle;\n",
       "    }\n",
       "\n",
       "    .dataframe tbody tr th {\n",
       "        vertical-align: top;\n",
       "    }\n",
       "\n",
       "    .dataframe thead th {\n",
       "        text-align: right;\n",
       "    }\n",
       "</style>\n",
       "<table border=\"1\" class=\"dataframe\">\n",
       "  <thead>\n",
       "    <tr style=\"text-align: right;\">\n",
       "      <th></th>\n",
       "      <th>price_area</th>\n",
       "      <th>city</th>\n",
       "      <th>latitude</th>\n",
       "      <th>longitude</th>\n",
       "    </tr>\n",
       "  </thead>\n",
       "  <tbody>\n",
       "    <tr>\n",
       "      <th>0</th>\n",
       "      <td>NO1</td>\n",
       "      <td>Oslo</td>\n",
       "      <td>59.9139</td>\n",
       "      <td>10.7522</td>\n",
       "    </tr>\n",
       "    <tr>\n",
       "      <th>1</th>\n",
       "      <td>NO2</td>\n",
       "      <td>Kristiansand</td>\n",
       "      <td>58.1467</td>\n",
       "      <td>7.9956</td>\n",
       "    </tr>\n",
       "    <tr>\n",
       "      <th>2</th>\n",
       "      <td>NO3</td>\n",
       "      <td>Trondheim</td>\n",
       "      <td>63.4305</td>\n",
       "      <td>10.3951</td>\n",
       "    </tr>\n",
       "    <tr>\n",
       "      <th>3</th>\n",
       "      <td>NO4</td>\n",
       "      <td>Tromsø</td>\n",
       "      <td>69.6492</td>\n",
       "      <td>18.9553</td>\n",
       "    </tr>\n",
       "    <tr>\n",
       "      <th>4</th>\n",
       "      <td>NO5</td>\n",
       "      <td>Bergen</td>\n",
       "      <td>60.3913</td>\n",
       "      <td>5.3221</td>\n",
       "    </tr>\n",
       "  </tbody>\n",
       "</table>\n",
       "</div>"
      ],
      "text/plain": [
       "  price_area          city  latitude  longitude\n",
       "0        NO1          Oslo   59.9139    10.7522\n",
       "1        NO2  Kristiansand   58.1467     7.9956\n",
       "2        NO3     Trondheim   63.4305    10.3951\n",
       "3        NO4        Tromsø   69.6492    18.9553\n",
       "4        NO5        Bergen   60.3913     5.3221"
      ]
     },
     "metadata": {},
     "output_type": "display_data"
    },
    {
     "name": "stdout",
     "output_type": "stream",
     "text": [
      "💾 Saved city reference table → ../../data/bronze/df_cities.csv\n"
     ]
    }
   ],
   "source": [
    "# Define cities and price areas\n",
    "cities = [\n",
    "    {\"price_area\": \"NO1\", \"city\": \"Oslo\", \"latitude\": 59.9139, \"longitude\": 10.7522},\n",
    "    {\"price_area\": \"NO2\", \"city\": \"Kristiansand\", \"latitude\": 58.1467, \"longitude\": 7.9956},\n",
    "    {\"price_area\": \"NO3\", \"city\": \"Trondheim\", \"latitude\": 63.4305, \"longitude\": 10.3951},\n",
    "    {\"price_area\": \"NO4\", \"city\": \"Tromsø\", \"latitude\": 69.6492, \"longitude\": 18.9553},\n",
    "    {\"price_area\": \"NO5\", \"city\": \"Bergen\", \"latitude\": 60.3913, \"longitude\": 5.3221},\n",
    "]\n",
    "\n",
    "df_cities = pd.DataFrame(cities)\n",
    "display(df_cities)\n",
    "\n",
    "# Save to bronze folder\n",
    "path = DATA_DIR / \"df_cities.csv\"\n",
    "df_cities.to_csv(path, index=False)\n",
    "print(f\"💾 Saved city reference table → {path}\")"
   ]
  },
  {
   "cell_type": "code",
   "execution_count": 3,
   "id": "16d0ce4e",
   "metadata": {},
   "outputs": [
    {
     "data": {
      "text/html": [
       "<div>\n",
       "<style scoped>\n",
       "    .dataframe tbody tr th:only-of-type {\n",
       "        vertical-align: middle;\n",
       "    }\n",
       "\n",
       "    .dataframe tbody tr th {\n",
       "        vertical-align: top;\n",
       "    }\n",
       "\n",
       "    .dataframe thead th {\n",
       "        text-align: right;\n",
       "    }\n",
       "</style>\n",
       "<table border=\"1\" class=\"dataframe\">\n",
       "  <thead>\n",
       "    <tr style=\"text-align: right;\">\n",
       "      <th></th>\n",
       "      <th>price_area</th>\n",
       "      <th>city</th>\n",
       "      <th>latitude</th>\n",
       "      <th>longitude</th>\n",
       "    </tr>\n",
       "  </thead>\n",
       "  <tbody>\n",
       "    <tr>\n",
       "      <th>0</th>\n",
       "      <td>NO1</td>\n",
       "      <td>Oslo</td>\n",
       "      <td>59.9139</td>\n",
       "      <td>10.7522</td>\n",
       "    </tr>\n",
       "    <tr>\n",
       "      <th>1</th>\n",
       "      <td>NO2</td>\n",
       "      <td>Kristiansand</td>\n",
       "      <td>58.1467</td>\n",
       "      <td>7.9956</td>\n",
       "    </tr>\n",
       "    <tr>\n",
       "      <th>2</th>\n",
       "      <td>NO3</td>\n",
       "      <td>Trondheim</td>\n",
       "      <td>63.4305</td>\n",
       "      <td>10.3951</td>\n",
       "    </tr>\n",
       "    <tr>\n",
       "      <th>3</th>\n",
       "      <td>NO4</td>\n",
       "      <td>Tromsø</td>\n",
       "      <td>69.6492</td>\n",
       "      <td>18.9553</td>\n",
       "    </tr>\n",
       "    <tr>\n",
       "      <th>4</th>\n",
       "      <td>NO5</td>\n",
       "      <td>Bergen</td>\n",
       "      <td>60.3913</td>\n",
       "      <td>5.3221</td>\n",
       "    </tr>\n",
       "  </tbody>\n",
       "</table>\n",
       "</div>"
      ],
      "text/plain": [
       "  price_area          city  latitude  longitude\n",
       "0        NO1          Oslo   59.9139    10.7522\n",
       "1        NO2  Kristiansand   58.1467     7.9956\n",
       "2        NO3     Trondheim   63.4305    10.3951\n",
       "3        NO4        Tromsø   69.6492    18.9553\n",
       "4        NO5        Bergen   60.3913     5.3221"
      ]
     },
     "execution_count": 3,
     "metadata": {},
     "output_type": "execute_result"
    }
   ],
   "source": [
    "# Verify file was saved correctly\n",
    "pd.read_csv(DATA_DIR / \"df_cities.csv\").head()"
   ]
  }
 ],
 "metadata": {
  "kernelspec": {
   "display_name": ".venv",
   "language": "python",
   "name": "python3"
  },
  "language_info": {
   "codemirror_mode": {
    "name": "ipython",
    "version": 3
   },
   "file_extension": ".py",
   "mimetype": "text/x-python",
   "name": "python",
   "nbconvert_exporter": "python",
   "pygments_lexer": "ipython3",
   "version": "3.12.9"
  }
 },
 "nbformat": 4,
 "nbformat_minor": 5
}

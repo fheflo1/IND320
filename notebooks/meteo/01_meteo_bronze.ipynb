{
 "cells": [
  {
   "cell_type": "markdown",
   "id": "99977ca4",
   "metadata": {},
   "source": [
    "# Meteo Bronze Pipeline\n",
    "\n",
    "This notebook handles the *Bronze* stage of the Meteo data pipeline.  \n",
    "It is responsible for fetching **raw weather data** from the [Open-Meteo API](https://open-meteo.com/en/docs)  \n",
    "and saving it locally for later cleaning and processing in the Silver stage.\n",
    "\n",
    "---\n",
    "\n",
    "### 📋 Objectives\n",
    "1. Define reference data for Norwegian price areas and their representative cities.\n",
    "2. Create a function to fetch weather data from Open-Meteo’s ERA5 reanalysis model.\n",
    "3. Download and store raw JSON/CSV responses for each city and year.\n",
    "\n",
    "---\n",
    "\n",
    "**Outputs:**\n",
    "- `data/bronze/df_cities.csv` – city reference table  \n",
    "- `data/bronze/meteo_<city>_<year>.json` – raw downloaded data\n"
   ]
  },
  {
   "cell_type": "code",
   "execution_count": 1,
   "id": "96c91b3a",
   "metadata": {},
   "outputs": [
    {
     "name": "stdout",
     "output_type": "stream",
     "text": [
      "✅ Data folder ready: /Users/fabianheflo/UNI_courses/IND320/IND320/data/bronze\n"
     ]
    }
   ],
   "source": [
    "import pandas as pd\n",
    "from pathlib import Path\n",
    "import requests\n",
    "import json\n",
    "\n",
    "# Set up paths\n",
    "DATA_DIR = Path(\"../../data/bronze\")\n",
    "DATA_DIR.mkdir(parents=True, exist_ok=True)\n",
    "\n",
    "print(f\"✅ Data folder ready: {DATA_DIR.resolve()}\")"
   ]
  },
  {
   "cell_type": "markdown",
   "id": "fcd4b86f",
   "metadata": {},
   "source": [
    "## Task 1 — Define price areas and representative cities\n",
    "\n",
    "Create a reference table for the five Norwegian price areas (NO1–NO5),  \n",
    "their representative cities, and corresponding latitude/longitude coordinates.\n",
    "This table will be used in later tasks to request weather data from Open-Meteo."
   ]
  },
  {
   "cell_type": "code",
   "execution_count": 2,
   "id": "17e1e3f4",
   "metadata": {},
   "outputs": [
    {
     "data": {
      "text/html": [
       "<div>\n",
       "<style scoped>\n",
       "    .dataframe tbody tr th:only-of-type {\n",
       "        vertical-align: middle;\n",
       "    }\n",
       "\n",
       "    .dataframe tbody tr th {\n",
       "        vertical-align: top;\n",
       "    }\n",
       "\n",
       "    .dataframe thead th {\n",
       "        text-align: right;\n",
       "    }\n",
       "</style>\n",
       "<table border=\"1\" class=\"dataframe\">\n",
       "  <thead>\n",
       "    <tr style=\"text-align: right;\">\n",
       "      <th></th>\n",
       "      <th>price_area</th>\n",
       "      <th>city</th>\n",
       "      <th>latitude</th>\n",
       "      <th>longitude</th>\n",
       "    </tr>\n",
       "  </thead>\n",
       "  <tbody>\n",
       "    <tr>\n",
       "      <th>0</th>\n",
       "      <td>NO1</td>\n",
       "      <td>Oslo</td>\n",
       "      <td>59.9139</td>\n",
       "      <td>10.7522</td>\n",
       "    </tr>\n",
       "    <tr>\n",
       "      <th>1</th>\n",
       "      <td>NO2</td>\n",
       "      <td>Kristiansand</td>\n",
       "      <td>58.1467</td>\n",
       "      <td>7.9956</td>\n",
       "    </tr>\n",
       "    <tr>\n",
       "      <th>2</th>\n",
       "      <td>NO3</td>\n",
       "      <td>Trondheim</td>\n",
       "      <td>63.4305</td>\n",
       "      <td>10.3951</td>\n",
       "    </tr>\n",
       "    <tr>\n",
       "      <th>3</th>\n",
       "      <td>NO4</td>\n",
       "      <td>Tromsø</td>\n",
       "      <td>69.6492</td>\n",
       "      <td>18.9553</td>\n",
       "    </tr>\n",
       "    <tr>\n",
       "      <th>4</th>\n",
       "      <td>NO5</td>\n",
       "      <td>Bergen</td>\n",
       "      <td>60.3913</td>\n",
       "      <td>5.3221</td>\n",
       "    </tr>\n",
       "  </tbody>\n",
       "</table>\n",
       "</div>"
      ],
      "text/plain": [
       "  price_area          city  latitude  longitude\n",
       "0        NO1          Oslo   59.9139    10.7522\n",
       "1        NO2  Kristiansand   58.1467     7.9956\n",
       "2        NO3     Trondheim   63.4305    10.3951\n",
       "3        NO4        Tromsø   69.6492    18.9553\n",
       "4        NO5        Bergen   60.3913     5.3221"
      ]
     },
     "metadata": {},
     "output_type": "display_data"
    },
    {
     "name": "stdout",
     "output_type": "stream",
     "text": [
      "💾 Saved city reference table → ../../data/bronze/df_cities.csv\n"
     ]
    }
   ],
   "source": [
    "# Define cities and price areas\n",
    "cities = [\n",
    "    {\"price_area\": \"NO1\", \"city\": \"Oslo\", \"latitude\": 59.9139, \"longitude\": 10.7522},\n",
    "    {\"price_area\": \"NO2\", \"city\": \"Kristiansand\", \"latitude\": 58.1467, \"longitude\": 7.9956},\n",
    "    {\"price_area\": \"NO3\", \"city\": \"Trondheim\", \"latitude\": 63.4305, \"longitude\": 10.3951},\n",
    "    {\"price_area\": \"NO4\", \"city\": \"Tromsø\", \"latitude\": 69.6492, \"longitude\": 18.9553},\n",
    "    {\"price_area\": \"NO5\", \"city\": \"Bergen\", \"latitude\": 60.3913, \"longitude\": 5.3221},\n",
    "]\n",
    "\n",
    "df_cities = pd.DataFrame(cities)\n",
    "display(df_cities)\n",
    "\n",
    "# Save to bronze folder\n",
    "path = DATA_DIR / \"df_cities.csv\"\n",
    "df_cities.to_csv(path, index=False)\n",
    "print(f\"💾 Saved city reference table → {path}\")"
   ]
  },
  {
   "cell_type": "code",
   "execution_count": 3,
   "id": "16d0ce4e",
   "metadata": {},
   "outputs": [
    {
     "data": {
      "text/html": [
       "<div>\n",
       "<style scoped>\n",
       "    .dataframe tbody tr th:only-of-type {\n",
       "        vertical-align: middle;\n",
       "    }\n",
       "\n",
       "    .dataframe tbody tr th {\n",
       "        vertical-align: top;\n",
       "    }\n",
       "\n",
       "    .dataframe thead th {\n",
       "        text-align: right;\n",
       "    }\n",
       "</style>\n",
       "<table border=\"1\" class=\"dataframe\">\n",
       "  <thead>\n",
       "    <tr style=\"text-align: right;\">\n",
       "      <th></th>\n",
       "      <th>price_area</th>\n",
       "      <th>city</th>\n",
       "      <th>latitude</th>\n",
       "      <th>longitude</th>\n",
       "    </tr>\n",
       "  </thead>\n",
       "  <tbody>\n",
       "    <tr>\n",
       "      <th>0</th>\n",
       "      <td>NO1</td>\n",
       "      <td>Oslo</td>\n",
       "      <td>59.9139</td>\n",
       "      <td>10.7522</td>\n",
       "    </tr>\n",
       "    <tr>\n",
       "      <th>1</th>\n",
       "      <td>NO2</td>\n",
       "      <td>Kristiansand</td>\n",
       "      <td>58.1467</td>\n",
       "      <td>7.9956</td>\n",
       "    </tr>\n",
       "    <tr>\n",
       "      <th>2</th>\n",
       "      <td>NO3</td>\n",
       "      <td>Trondheim</td>\n",
       "      <td>63.4305</td>\n",
       "      <td>10.3951</td>\n",
       "    </tr>\n",
       "    <tr>\n",
       "      <th>3</th>\n",
       "      <td>NO4</td>\n",
       "      <td>Tromsø</td>\n",
       "      <td>69.6492</td>\n",
       "      <td>18.9553</td>\n",
       "    </tr>\n",
       "    <tr>\n",
       "      <th>4</th>\n",
       "      <td>NO5</td>\n",
       "      <td>Bergen</td>\n",
       "      <td>60.3913</td>\n",
       "      <td>5.3221</td>\n",
       "    </tr>\n",
       "  </tbody>\n",
       "</table>\n",
       "</div>"
      ],
      "text/plain": [
       "  price_area          city  latitude  longitude\n",
       "0        NO1          Oslo   59.9139    10.7522\n",
       "1        NO2  Kristiansand   58.1467     7.9956\n",
       "2        NO3     Trondheim   63.4305    10.3951\n",
       "3        NO4        Tromsø   69.6492    18.9553\n",
       "4        NO5        Bergen   60.3913     5.3221"
      ]
     },
     "execution_count": 3,
     "metadata": {},
     "output_type": "execute_result"
    }
   ],
   "source": [
    "# Verify file was saved correctly\n",
    "pd.read_csv(DATA_DIR / \"df_cities.csv\").head()"
   ]
  },
  {
   "cell_type": "markdown",
   "id": "fbb802f5",
   "metadata": {},
   "source": [
    "## Task 2 — Fetch historical weather data from Open-Meteo API\n",
    "\n",
    "This task downloads historical *reanalysis* data (ERA5 model) from the Open-Meteo API  \n",
    "for a selected city and year.  \n",
    "\n",
    "**Goal:**  \n",
    "- Build a reusable function that takes `latitude`, `longitude`, and `year` as input.  \n",
    "- Select the same weather variables as used in part 1 of the project (e.g. temperature, precipitation).  \n",
    "- Test the function on Bergen for 2019.  \n",
    "- Save the raw response to the `data/bronze/` folder.\n"
   ]
  },
  {
   "cell_type": "code",
   "execution_count": 4,
   "id": "3b4a75cc",
   "metadata": {},
   "outputs": [],
   "source": [
    "def fetch_meteo_data(latitude: float, longitude: float, year: int) -> pd.DataFrame:\n",
    "    \"\"\"\n",
    "    Download historical weather data (ERA5 reanalysis) from Open-Meteo for a given location and year.\n",
    "    Returns a pandas DataFrame.\n",
    "    \"\"\"\n",
    "    url = \"https://archive-api.open-meteo.com/v1/era5\"\n",
    "\n",
    "    params = {\n",
    "        \"latitude\": latitude,\n",
    "        \"longitude\": longitude,\n",
    "        \"start_date\": f\"{year}-01-01\",\n",
    "        \"end_date\": f\"{year}-12-31\",\n",
    "        # Choose the same variables as in project part 1\n",
    "        \"hourly\": [\"temperature_2m\", \"precipitation\", \"wind_speed_10m\"],\n",
    "        \"timezone\": \"auto\"\n",
    "    }\n",
    "\n",
    "    print(f\"🔄 Fetching {year} data for {latitude=}, {longitude=}\")\n",
    "    response = requests.get(url, params=params)\n",
    "    response.raise_for_status()  # Stop if bad request\n",
    "\n",
    "    data = response.json()\n",
    "\n",
    "    # Convert to DataFrame\n",
    "    df = pd.DataFrame(data[\"hourly\"])\n",
    "    df[\"time\"] = pd.to_datetime(df[\"time\"])\n",
    "    df[\"latitude\"] = latitude\n",
    "    df[\"longitude\"] = longitude\n",
    "    df[\"year\"] = year\n",
    "\n",
    "    return df"
   ]
  },
  {
   "cell_type": "code",
   "execution_count": 5,
   "id": "793a397f",
   "metadata": {},
   "outputs": [
    {
     "name": "stdout",
     "output_type": "stream",
     "text": [
      "🔄 Fetching 2019 data for latitude=60.3913, longitude=5.3221\n"
     ]
    },
    {
     "data": {
      "text/html": [
       "<div>\n",
       "<style scoped>\n",
       "    .dataframe tbody tr th:only-of-type {\n",
       "        vertical-align: middle;\n",
       "    }\n",
       "\n",
       "    .dataframe tbody tr th {\n",
       "        vertical-align: top;\n",
       "    }\n",
       "\n",
       "    .dataframe thead th {\n",
       "        text-align: right;\n",
       "    }\n",
       "</style>\n",
       "<table border=\"1\" class=\"dataframe\">\n",
       "  <thead>\n",
       "    <tr style=\"text-align: right;\">\n",
       "      <th></th>\n",
       "      <th>time</th>\n",
       "      <th>temperature_2m</th>\n",
       "      <th>precipitation</th>\n",
       "      <th>wind_speed_10m</th>\n",
       "      <th>latitude</th>\n",
       "      <th>longitude</th>\n",
       "      <th>year</th>\n",
       "    </tr>\n",
       "  </thead>\n",
       "  <tbody>\n",
       "    <tr>\n",
       "      <th>0</th>\n",
       "      <td>2019-01-01 00:00:00</td>\n",
       "      <td>5.7</td>\n",
       "      <td>0.7</td>\n",
       "      <td>37.0</td>\n",
       "      <td>60.3913</td>\n",
       "      <td>5.3221</td>\n",
       "      <td>2019</td>\n",
       "    </tr>\n",
       "    <tr>\n",
       "      <th>1</th>\n",
       "      <td>2019-01-01 01:00:00</td>\n",
       "      <td>5.8</td>\n",
       "      <td>0.2</td>\n",
       "      <td>41.0</td>\n",
       "      <td>60.3913</td>\n",
       "      <td>5.3221</td>\n",
       "      <td>2019</td>\n",
       "    </tr>\n",
       "    <tr>\n",
       "      <th>2</th>\n",
       "      <td>2019-01-01 02:00:00</td>\n",
       "      <td>6.1</td>\n",
       "      <td>0.7</td>\n",
       "      <td>42.0</td>\n",
       "      <td>60.3913</td>\n",
       "      <td>5.3221</td>\n",
       "      <td>2019</td>\n",
       "    </tr>\n",
       "    <tr>\n",
       "      <th>3</th>\n",
       "      <td>2019-01-01 03:00:00</td>\n",
       "      <td>6.3</td>\n",
       "      <td>0.5</td>\n",
       "      <td>40.9</td>\n",
       "      <td>60.3913</td>\n",
       "      <td>5.3221</td>\n",
       "      <td>2019</td>\n",
       "    </tr>\n",
       "    <tr>\n",
       "      <th>4</th>\n",
       "      <td>2019-01-01 04:00:00</td>\n",
       "      <td>5.8</td>\n",
       "      <td>1.1</td>\n",
       "      <td>41.2</td>\n",
       "      <td>60.3913</td>\n",
       "      <td>5.3221</td>\n",
       "      <td>2019</td>\n",
       "    </tr>\n",
       "  </tbody>\n",
       "</table>\n",
       "</div>"
      ],
      "text/plain": [
       "                 time  temperature_2m  precipitation  wind_speed_10m  \\\n",
       "0 2019-01-01 00:00:00             5.7            0.7            37.0   \n",
       "1 2019-01-01 01:00:00             5.8            0.2            41.0   \n",
       "2 2019-01-01 02:00:00             6.1            0.7            42.0   \n",
       "3 2019-01-01 03:00:00             6.3            0.5            40.9   \n",
       "4 2019-01-01 04:00:00             5.8            1.1            41.2   \n",
       "\n",
       "   latitude  longitude  year  \n",
       "0   60.3913     5.3221  2019  \n",
       "1   60.3913     5.3221  2019  \n",
       "2   60.3913     5.3221  2019  \n",
       "3   60.3913     5.3221  2019  \n",
       "4   60.3913     5.3221  2019  "
      ]
     },
     "execution_count": 5,
     "metadata": {},
     "output_type": "execute_result"
    }
   ],
   "source": [
    "# Coordinates for Bergen (from df_cities)\n",
    "lat, lon = 60.3913, 5.3221\n",
    "year = 2019\n",
    "\n",
    "df_bergen = fetch_meteo_data(lat, lon, year)\n",
    "df_bergen.head()"
   ]
  },
  {
   "cell_type": "code",
   "execution_count": 6,
   "id": "d1481410",
   "metadata": {},
   "outputs": [
    {
     "name": "stdout",
     "output_type": "stream",
     "text": [
      "💾 Saved raw data → ../../data/bronze/meteo_bergen_2019.csv\n"
     ]
    }
   ],
   "source": [
    "# Save raw result\n",
    "output_file = DATA_DIR / f\"meteo_bergen_{year}.csv\"\n",
    "df_bergen.to_csv(output_file, index=False)\n",
    "print(f\"💾 Saved raw data → {output_file}\")"
   ]
  }
 ],
 "metadata": {
  "kernelspec": {
   "display_name": ".venv",
   "language": "python",
   "name": "python3"
  },
  "language_info": {
   "codemirror_mode": {
    "name": "ipython",
    "version": 3
   },
   "file_extension": ".py",
   "mimetype": "text/x-python",
   "name": "python",
   "nbconvert_exporter": "python",
   "pygments_lexer": "ipython3",
   "version": "3.12.9"
  }
 },
 "nbformat": 4,
 "nbformat_minor": 5
}

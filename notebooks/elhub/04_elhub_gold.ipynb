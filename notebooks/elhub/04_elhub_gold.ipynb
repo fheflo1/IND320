{
 "cells": [
  {
   "cell_type": "code",
   "execution_count": null,
   "id": "721de61e",
   "metadata": {},
   "outputs": [],
   "source": [
    "from pyspark.sql import SparkSession\n",
    "\n",
    "import plotly.express as px\n",
    "import ipywidgets as widgets\n",
    "\n",
    "import pandas as pd"
   ]
  },
  {
   "cell_type": "code",
   "execution_count": 2,
   "id": "425f1ef3",
   "metadata": {},
   "outputs": [
    {
     "name": "stderr",
     "output_type": "stream",
     "text": [
      "25/10/13 14:30:57 WARN Utils: Your hostname, Fabians-MacBook-Pro.local resolves to a loopback address: 127.0.0.1; using 192.168.0.22 instead (on interface en0)\n",
      "25/10/13 14:30:57 WARN Utils: Set SPARK_LOCAL_IP if you need to bind to another address\n",
      "Ivy Default Cache set to: /Users/fabianheflo/.ivy2/cache\n",
      "The jars for the packages stored in: /Users/fabianheflo/.ivy2/jars\n",
      "com.datastax.spark#spark-cassandra-connector_2.12 added as a dependency\n",
      ":: resolving dependencies :: org.apache.spark#spark-submit-parent-9a2b0e1c-8ac2-45c4-bf73-fa768bd1c005;1.0\n",
      "\tconfs: [default]\n"
     ]
    },
    {
     "name": "stdout",
     "output_type": "stream",
     "text": [
      ":: loading settings :: url = jar:file:/Users/fabianheflo/UNI_courses/IND320/IND320/.venv/lib/python3.12/site-packages/pyspark/jars/ivy-2.5.1.jar!/org/apache/ivy/core/settings/ivysettings.xml\n"
     ]
    },
    {
     "name": "stderr",
     "output_type": "stream",
     "text": [
      "\tfound com.datastax.spark#spark-cassandra-connector_2.12;3.5.1 in central\n",
      "\tfound com.datastax.spark#spark-cassandra-connector-driver_2.12;3.5.1 in central\n",
      "\tfound org.scala-lang.modules#scala-collection-compat_2.12;2.11.0 in central\n",
      "\tfound org.apache.cassandra#java-driver-core-shaded;4.18.1 in central\n",
      "\tfound com.datastax.oss#native-protocol;1.5.1 in central\n",
      "\tfound com.datastax.oss#java-driver-shaded-guava;25.1-jre-graal-sub-1 in central\n",
      "\tfound com.typesafe#config;1.4.1 in central\n",
      "\tfound org.slf4j#slf4j-api;1.7.26 in central\n",
      "\tfound io.dropwizard.metrics#metrics-core;4.1.18 in central\n",
      "\tfound org.hdrhistogram#HdrHistogram;2.1.12 in central\n",
      "\tfound org.reactivestreams#reactive-streams;1.0.3 in central\n",
      "\tfound org.apache.cassandra#java-driver-mapper-runtime;4.18.1 in central\n",
      "\tfound org.apache.cassandra#java-driver-query-builder;4.18.1 in central\n",
      "\tfound org.apache.commons#commons-lang3;3.10 in central\n",
      "\tfound com.thoughtworks.paranamer#paranamer;2.8 in central\n",
      "\tfound org.scala-lang#scala-reflect;2.12.19 in central\n",
      ":: resolution report :: resolve 243ms :: artifacts dl 7ms\n",
      "\t:: modules in use:\n",
      "\tcom.datastax.oss#java-driver-shaded-guava;25.1-jre-graal-sub-1 from central in [default]\n",
      "\tcom.datastax.oss#native-protocol;1.5.1 from central in [default]\n",
      "\tcom.datastax.spark#spark-cassandra-connector-driver_2.12;3.5.1 from central in [default]\n",
      "\tcom.datastax.spark#spark-cassandra-connector_2.12;3.5.1 from central in [default]\n",
      "\tcom.thoughtworks.paranamer#paranamer;2.8 from central in [default]\n",
      "\tcom.typesafe#config;1.4.1 from central in [default]\n",
      "\tio.dropwizard.metrics#metrics-core;4.1.18 from central in [default]\n",
      "\torg.apache.cassandra#java-driver-core-shaded;4.18.1 from central in [default]\n",
      "\torg.apache.cassandra#java-driver-mapper-runtime;4.18.1 from central in [default]\n",
      "\torg.apache.cassandra#java-driver-query-builder;4.18.1 from central in [default]\n",
      "\torg.apache.commons#commons-lang3;3.10 from central in [default]\n",
      "\torg.hdrhistogram#HdrHistogram;2.1.12 from central in [default]\n",
      "\torg.reactivestreams#reactive-streams;1.0.3 from central in [default]\n",
      "\torg.scala-lang#scala-reflect;2.12.19 from central in [default]\n",
      "\torg.scala-lang.modules#scala-collection-compat_2.12;2.11.0 from central in [default]\n",
      "\torg.slf4j#slf4j-api;1.7.26 from central in [default]\n",
      "\t---------------------------------------------------------------------\n",
      "\t|                  |            modules            ||   artifacts   |\n",
      "\t|       conf       | number| search|dwnlded|evicted|| number|dwnlded|\n",
      "\t---------------------------------------------------------------------\n",
      "\t|      default     |   16  |   0   |   0   |   0   ||   16  |   0   |\n",
      "\t---------------------------------------------------------------------\n",
      ":: retrieving :: org.apache.spark#spark-submit-parent-9a2b0e1c-8ac2-45c4-bf73-fa768bd1c005\n",
      "\tconfs: [default]\n",
      "\t0 artifacts copied, 16 already retrieved (0kB/6ms)\n",
      "25/10/13 14:30:58 WARN NativeCodeLoader: Unable to load native-hadoop library for your platform... using builtin-java classes where applicable\n",
      "Setting default log level to \"WARN\".\n",
      "To adjust logging level use sc.setLogLevel(newLevel). For SparkR, use setLogLevel(newLevel).\n",
      "25/10/13 14:30:58 WARN Utils: Service 'SparkUI' could not bind on port 4040. Attempting port 4041.\n"
     ]
    },
    {
     "name": "stdout",
     "output_type": "stream",
     "text": [
      "✅ SparkSession started with Cassandra integration\n"
     ]
    }
   ],
   "source": [
    "spark = SparkSession.builder \\\n",
    "    .appName(\"ElhubGold\") \\\n",
    "    .master(\"local[*]\") \\\n",
    "    .config(\"spark.jars.packages\", \"com.datastax.spark:spark-cassandra-connector_2.12:3.5.1\") \\\n",
    "    .config(\"spark.cassandra.connection.host\", \"127.0.0.1\") \\\n",
    "    .config(\"spark.cassandra.connection.port\", \"9042\") \\\n",
    "    .config(\"spark.sql.extensions\", \"com.datastax.spark.connector.CassandraSparkExtensions\") \\\n",
    "    .config(\"spark.sql.catalog.mycatalog\", \"com.datastax.spark.connector.datasource.CassandraCatalog\") \\\n",
    "    .config(\"spark.cassandra.output.consistency.level\", \"ONE\") \\\n",
    "    .config(\"spark.cassandra.connection.keepAliveMS\", \"60000\") \\\n",
    "    .getOrCreate()\n",
    "\n",
    "print(\"✅ SparkSession started with Cassandra integration\")"
   ]
  },
  {
   "cell_type": "code",
   "execution_count": 3,
   "id": "9a86ee84",
   "metadata": {},
   "outputs": [
    {
     "name": "stderr",
     "output_type": "stream",
     "text": [
      "                                                                                \r"
     ]
    }
   ],
   "source": [
    "silver_df = (\n",
    "    spark.read\n",
    "    .format(\"org.apache.spark.sql.cassandra\")\n",
    "    .options(table=\"production_silver\", keyspace=\"elhub_data\")\n",
    "    .load()\n",
    ")\n",
    "\n",
    "pdf = silver_df.toPandas()\n",
    "pdf[\"starttime\"] = pd.to_datetime(pdf[\"starttime\"])\n",
    "pdf[\"month\"] = pdf[\"starttime\"].dt.month"
   ]
  },
  {
   "cell_type": "code",
   "execution_count": 8,
   "id": "2dc38572",
   "metadata": {},
   "outputs": [],
   "source": [
    "# Unique price areas\n",
    "price_areas = sorted(pdf[\"pricearea\"].unique())\n",
    "\n",
    "# Month selection\n",
    "month_options = {\n",
    "    \"All year\": 0,\n",
    "    \"January\": 1,\n",
    "    \"February\": 2,\n",
    "    \"March\": 3,\n",
    "    \"April\": 4,\n",
    "    \"May\": 5,\n",
    "    \"June\": 6,\n",
    "    \"July\": 7,\n",
    "    \"August\": 8,\n",
    "    \"September\": 9,\n",
    "    \"October\": 10,\n",
    "    \"November\": 11,\n",
    "    \"December\": 12,\n",
    "}\n",
    "\n",
    "area_dropdown = widgets.Dropdown(\n",
    "    options=price_areas,\n",
    "    value=price_areas[0],\n",
    "    description=\"Area:\",\n",
    ")\n",
    "\n",
    "month_dropdown = widgets.Dropdown(\n",
    "    options=month_options,\n",
    "    value=0,\n",
    "    description=\"Month:\",\n",
    ")"
   ]
  },
  {
   "cell_type": "code",
   "execution_count": 9,
   "id": "2b751842",
   "metadata": {},
   "outputs": [],
   "source": [
    "def update_visuals(price_area, month):\n",
    "    # Filter by selected area\n",
    "    subset = pdf[pdf[\"pricearea\"] == price_area]\n",
    "\n",
    "    # Filter by month (if selected)\n",
    "    if month != 0:\n",
    "        subset = subset[subset[\"month\"] == month]\n",
    "        title_suffix = f\"Month: {month}\"\n",
    "    else:\n",
    "        title_suffix = \"Whole year\"\n",
    "\n",
    "    # --- Pie chart (total production per energy source) ---\n",
    "    pie_data = subset.groupby(\"productiongroup\")[\"quantitykwh\"].sum().reset_index()\n",
    "    fig_pie = px.pie(\n",
    "        pie_data,\n",
    "        values=\"quantitykwh\",\n",
    "        names=\"productiongroup\",\n",
    "        title=f\"Total production in {price_area} ({title_suffix})\",\n",
    "        color_discrete_sequence=px.colors.qualitative.Pastel\n",
    "    )\n",
    "\n",
    "    # --- Line chart (development over time) ---\n",
    "    line_data = (\n",
    "        subset.groupby([\"starttime\", \"productiongroup\"])[\"quantitykwh\"].sum().reset_index()\n",
    "    )\n",
    "    fig_line = px.line(\n",
    "        line_data,\n",
    "        x=\"starttime\",\n",
    "        y=\"quantitykwh\",\n",
    "        color=\"productiongroup\",\n",
    "        title=f\"Production over time in {price_area} ({title_suffix})\",\n",
    "        labels={\"quantitykwh\": \"kWh\", \"starttime\": \"Time\"}\n",
    "    )\n",
    "\n",
    "    # Show both\n",
    "    fig_pie.show()\n",
    "    fig_line.show()"
   ]
  },
  {
   "cell_type": "markdown",
   "id": "e99523bb",
   "metadata": {},
   "source": [
    "### Interactive Plot\n",
    "\n",
    "- Choose area with dropdown. \n",
    "- Choose month wiht dropdown. All year is default.\n",
    "- Click on the colors in the legend to hide it from the plot. Makes it easier to analys the smaller groups.\n"
   ]
  },
  {
   "cell_type": "code",
   "execution_count": 1,
   "id": "89005f44",
   "metadata": {},
   "outputs": [
    {
     "ename": "NameError",
     "evalue": "name 'widgets' is not defined",
     "output_type": "error",
     "traceback": [
      "\u001b[0;31m---------------------------------------------------------------------------\u001b[0m",
      "\u001b[0;31mNameError\u001b[0m                                 Traceback (most recent call last)",
      "Cell \u001b[0;32mIn[1], line 1\u001b[0m\n\u001b[0;32m----> 1\u001b[0m \u001b[43mwidgets\u001b[49m\u001b[38;5;241m.\u001b[39minteractive(\n\u001b[1;32m      2\u001b[0m     update_visuals,\n\u001b[1;32m      3\u001b[0m     price_area\u001b[38;5;241m=\u001b[39marea_dropdown,\n\u001b[1;32m      4\u001b[0m     month\u001b[38;5;241m=\u001b[39mmonth_dropdown\n\u001b[1;32m      5\u001b[0m )\n",
      "\u001b[0;31mNameError\u001b[0m: name 'widgets' is not defined"
     ]
    }
   ],
   "source": [
    "widgets.interactive(\n",
    "    update_visuals,\n",
    "    price_area=area_dropdown,\n",
    "    month=month_dropdown\n",
    ")"
   ]
  }
 ],
 "metadata": {
  "kernelspec": {
   "display_name": ".venv",
   "language": "python",
   "name": "python3"
  },
  "language_info": {
   "codemirror_mode": {
    "name": "ipython",
    "version": 3
   },
   "file_extension": ".py",
   "mimetype": "text/x-python",
   "name": "python",
   "nbconvert_exporter": "python",
   "pygments_lexer": "ipython3",
   "version": "3.12.9"
  }
 },
 "nbformat": 4,
 "nbformat_minor": 5
}

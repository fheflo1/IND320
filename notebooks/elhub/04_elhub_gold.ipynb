{
 "cells": [
  {
   "cell_type": "code",
   "execution_count": 1,
   "id": "721de61e",
   "metadata": {},
   "outputs": [],
   "source": [
    "from pyspark.sql import SparkSession\n",
    "\n",
    "import plotly.express as px\n",
    "import ipywidgets as widgets\n",
    "\n",
    "import pandas as pd"
   ]
  },
  {
   "cell_type": "code",
   "execution_count": 2,
   "id": "425f1ef3",
   "metadata": {},
   "outputs": [
    {
     "name": "stderr",
     "output_type": "stream",
     "text": [
      "25/10/31 11:26:00 WARN Utils: Your hostname, Fabians-MacBook-Pro.local resolves to a loopback address: 127.0.0.1; using 172.20.10.3 instead (on interface en0)\n",
      "25/10/31 11:26:00 WARN Utils: Set SPARK_LOCAL_IP if you need to bind to another address\n",
      "Ivy Default Cache set to: /Users/fabianheflo/.ivy2/cache\n",
      "The jars for the packages stored in: /Users/fabianheflo/.ivy2/jars\n",
      "com.datastax.spark#spark-cassandra-connector_2.12 added as a dependency\n",
      ":: resolving dependencies :: org.apache.spark#spark-submit-parent-6d471439-ae1d-4441-8da0-6f0e33bc642b;1.0\n",
      "\tconfs: [default]\n"
     ]
    },
    {
     "name": "stdout",
     "output_type": "stream",
     "text": [
      ":: loading settings :: url = jar:file:/Users/fabianheflo/UNI_courses/IND320/IND320/.venv/lib/python3.12/site-packages/pyspark/jars/ivy-2.5.1.jar!/org/apache/ivy/core/settings/ivysettings.xml\n"
     ]
    },
    {
     "name": "stderr",
     "output_type": "stream",
     "text": [
      "\tfound com.datastax.spark#spark-cassandra-connector_2.12;3.5.1 in central\n",
      "\tfound com.datastax.spark#spark-cassandra-connector-driver_2.12;3.5.1 in central\n",
      "\tfound org.scala-lang.modules#scala-collection-compat_2.12;2.11.0 in central\n",
      "\tfound org.apache.cassandra#java-driver-core-shaded;4.18.1 in central\n",
      "\tfound com.datastax.oss#native-protocol;1.5.1 in central\n",
      "\tfound com.datastax.oss#java-driver-shaded-guava;25.1-jre-graal-sub-1 in central\n",
      "\tfound com.typesafe#config;1.4.1 in central\n",
      "\tfound org.slf4j#slf4j-api;1.7.26 in central\n",
      "\tfound io.dropwizard.metrics#metrics-core;4.1.18 in central\n",
      "\tfound org.hdrhistogram#HdrHistogram;2.1.12 in central\n",
      "\tfound org.reactivestreams#reactive-streams;1.0.3 in central\n",
      "\tfound org.apache.cassandra#java-driver-mapper-runtime;4.18.1 in central\n",
      "\tfound org.apache.cassandra#java-driver-query-builder;4.18.1 in central\n",
      "\tfound org.apache.commons#commons-lang3;3.10 in central\n",
      "\tfound com.thoughtworks.paranamer#paranamer;2.8 in central\n",
      "\tfound org.scala-lang#scala-reflect;2.12.19 in central\n",
      ":: resolution report :: resolve 247ms :: artifacts dl 7ms\n",
      "\t:: modules in use:\n",
      "\tcom.datastax.oss#java-driver-shaded-guava;25.1-jre-graal-sub-1 from central in [default]\n",
      "\tcom.datastax.oss#native-protocol;1.5.1 from central in [default]\n",
      "\tcom.datastax.spark#spark-cassandra-connector-driver_2.12;3.5.1 from central in [default]\n",
      "\tcom.datastax.spark#spark-cassandra-connector_2.12;3.5.1 from central in [default]\n",
      "\tcom.thoughtworks.paranamer#paranamer;2.8 from central in [default]\n",
      "\tcom.typesafe#config;1.4.1 from central in [default]\n",
      "\tio.dropwizard.metrics#metrics-core;4.1.18 from central in [default]\n",
      "\torg.apache.cassandra#java-driver-core-shaded;4.18.1 from central in [default]\n",
      "\torg.apache.cassandra#java-driver-mapper-runtime;4.18.1 from central in [default]\n",
      "\torg.apache.cassandra#java-driver-query-builder;4.18.1 from central in [default]\n",
      "\torg.apache.commons#commons-lang3;3.10 from central in [default]\n",
      "\torg.hdrhistogram#HdrHistogram;2.1.12 from central in [default]\n",
      "\torg.reactivestreams#reactive-streams;1.0.3 from central in [default]\n",
      "\torg.scala-lang#scala-reflect;2.12.19 from central in [default]\n",
      "\torg.scala-lang.modules#scala-collection-compat_2.12;2.11.0 from central in [default]\n",
      "\torg.slf4j#slf4j-api;1.7.26 from central in [default]\n",
      "\t---------------------------------------------------------------------\n",
      "\t|                  |            modules            ||   artifacts   |\n",
      "\t|       conf       | number| search|dwnlded|evicted|| number|dwnlded|\n",
      "\t---------------------------------------------------------------------\n",
      "\t|      default     |   16  |   0   |   0   |   0   ||   16  |   0   |\n",
      "\t---------------------------------------------------------------------\n",
      ":: retrieving :: org.apache.spark#spark-submit-parent-6d471439-ae1d-4441-8da0-6f0e33bc642b\n",
      "\tconfs: [default]\n",
      "\t0 artifacts copied, 16 already retrieved (0kB/4ms)\n",
      "25/10/31 11:26:00 WARN NativeCodeLoader: Unable to load native-hadoop library for your platform... using builtin-java classes where applicable\n",
      "Setting default log level to \"WARN\".\n",
      "To adjust logging level use sc.setLogLevel(newLevel). For SparkR, use setLogLevel(newLevel).\n"
     ]
    },
    {
     "name": "stdout",
     "output_type": "stream",
     "text": [
      "✅ SparkSession started with Cassandra integration\n"
     ]
    }
   ],
   "source": [
    "spark = SparkSession.builder \\\n",
    "    .appName(\"ElhubGold\") \\\n",
    "    .master(\"local[*]\") \\\n",
    "    .config(\"spark.jars.packages\", \"com.datastax.spark:spark-cassandra-connector_2.12:3.5.1\") \\\n",
    "    .config(\"spark.cassandra.connection.host\", \"127.0.0.1\") \\\n",
    "    .config(\"spark.cassandra.connection.port\", \"9042\") \\\n",
    "    .config(\"spark.sql.extensions\", \"com.datastax.spark.connector.CassandraSparkExtensions\") \\\n",
    "    .config(\"spark.sql.catalog.mycatalog\", \"com.datastax.spark.connector.datasource.CassandraCatalog\") \\\n",
    "    .config(\"spark.cassandra.output.consistency.level\", \"ONE\") \\\n",
    "    .config(\"spark.cassandra.connection.keepAliveMS\", \"60000\") \\\n",
    "    .getOrCreate()\n",
    "\n",
    "print(\"✅ SparkSession started with Cassandra integration\")"
   ]
  },
  {
   "cell_type": "code",
   "execution_count": 3,
   "id": "9a86ee84",
   "metadata": {},
   "outputs": [
    {
     "name": "stderr",
     "output_type": "stream",
     "text": [
      "                                                                                \r"
     ]
    }
   ],
   "source": [
    "silver_df = (\n",
    "    spark.read\n",
    "    .format(\"org.apache.spark.sql.cassandra\")\n",
    "    .options(table=\"production_silver\", keyspace=\"elhub_data\")\n",
    "    .load()\n",
    ")\n",
    "\n",
    "pdf = silver_df.toPandas()\n",
    "pdf[\"starttime\"] = pd.to_datetime(pdf[\"starttime\"])\n",
    "pdf[\"month\"] = pdf[\"starttime\"].dt.month"
   ]
  },
  {
   "cell_type": "code",
   "execution_count": 4,
   "id": "2dc38572",
   "metadata": {},
   "outputs": [],
   "source": [
    "# Unique price areas\n",
    "price_areas = sorted(pdf[\"pricearea\"].unique())\n",
    "\n",
    "# Month selection\n",
    "month_options = {\n",
    "    \"All year\": 0,\n",
    "    \"January\": 1,\n",
    "    \"February\": 2,\n",
    "    \"March\": 3,\n",
    "    \"April\": 4,\n",
    "    \"May\": 5,\n",
    "    \"June\": 6,\n",
    "    \"July\": 7,\n",
    "    \"August\": 8,\n",
    "    \"September\": 9,\n",
    "    \"October\": 10,\n",
    "    \"November\": 11,\n",
    "    \"December\": 12,\n",
    "}\n",
    "\n",
    "area_dropdown = widgets.Dropdown(\n",
    "    options=price_areas,\n",
    "    value=price_areas[0],\n",
    "    description=\"Area:\",\n",
    ")\n",
    "\n",
    "month_dropdown = widgets.Dropdown(\n",
    "    options=month_options,\n",
    "    value=0,\n",
    "    description=\"Month:\",\n",
    ")"
   ]
  },
  {
   "cell_type": "code",
   "execution_count": 5,
   "id": "2b751842",
   "metadata": {},
   "outputs": [],
   "source": [
    "def update_visuals(price_area, month):\n",
    "    # Filter by selected area\n",
    "    subset = pdf[pdf[\"pricearea\"] == price_area]\n",
    "\n",
    "    # Filter by month (if selected)\n",
    "    if month != 0:\n",
    "        subset = subset[subset[\"month\"] == month]\n",
    "        title_suffix = f\"Month: {month}\"\n",
    "    else:\n",
    "        title_suffix = \"Whole year\"\n",
    "\n",
    "    # --- Pie chart (total production per energy source) ---\n",
    "    pie_data = subset.groupby(\"productiongroup\")[\"quantitykwh\"].sum().reset_index()\n",
    "    fig_pie = px.pie(\n",
    "        pie_data,\n",
    "        values=\"quantitykwh\",\n",
    "        names=\"productiongroup\",\n",
    "        title=f\"Total production in {price_area} ({title_suffix})\",\n",
    "        color_discrete_sequence=px.colors.qualitative.Pastel\n",
    "    )\n",
    "\n",
    "    # --- Line chart (development over time) ---\n",
    "    line_data = (\n",
    "        subset.groupby([\"starttime\", \"productiongroup\"])[\"quantitykwh\"].sum().reset_index()\n",
    "    )\n",
    "    fig_line = px.line(\n",
    "        line_data,\n",
    "        x=\"starttime\",\n",
    "        y=\"quantitykwh\",\n",
    "        color=\"productiongroup\",\n",
    "        title=f\"Production over time in {price_area} ({title_suffix})\",\n",
    "        labels={\"quantitykwh\": \"kWh\", \"starttime\": \"Time\"}\n",
    "    )\n",
    "\n",
    "    # Show both\n",
    "    fig_pie.show()\n",
    "    fig_line.show()"
   ]
  },
  {
   "cell_type": "markdown",
   "id": "e99523bb",
   "metadata": {},
   "source": [
    "### Interactive Plot\n",
    "\n",
    "- Choose area with dropdown. \n",
    "- Choose month wiht dropdown. All year is default.\n",
    "- Click on the colors in the legend to hide it from the plot. Makes it easier to analys the smaller groups.\n"
   ]
  },
  {
   "cell_type": "code",
   "execution_count": 6,
   "id": "89005f44",
   "metadata": {},
   "outputs": [
    {
     "data": {
      "application/vnd.jupyter.widget-view+json": {
       "model_id": "385465590a394754a1d7bf569b18dfd1",
       "version_major": 2,
       "version_minor": 0
      },
      "text/plain": [
       "interactive(children=(Dropdown(description='Area:', options=('NO1', 'NO2', 'NO3', 'NO4', 'NO5'), value='NO1'),…"
      ]
     },
     "execution_count": 6,
     "metadata": {},
     "output_type": "execute_result"
    }
   ],
   "source": [
    "widgets.interactive(\n",
    "    update_visuals,\n",
    "    price_area=area_dropdown,\n",
    "    month=month_dropdown\n",
    ")"
   ]
  },
  {
   "cell_type": "markdown",
   "id": "f1449cf8",
   "metadata": {},
   "source": [
    "# Assignment 3 Parts:"
   ]
  },
  {
   "cell_type": "markdown",
   "id": "1c3f42e1",
   "metadata": {},
   "source": [
    "## STL and Spectrogram "
   ]
  },
  {
   "cell_type": "code",
   "execution_count": 65,
   "id": "9d0b1dc0",
   "metadata": {},
   "outputs": [],
   "source": [
    "import plotly.graph_objects as go\n",
    "from plotly.subplots import make_subplots\n",
    "from statsmodels.tsa.seasonal import STL\n",
    "from scipy import signal\n",
    "import numpy as np\n",
    "import ipywidgets as widgets\n",
    "from IPython.display import display\n",
    "from functools import lru_cache"
   ]
  },
  {
   "cell_type": "code",
   "execution_count": 36,
   "id": "e74809c8",
   "metadata": {},
   "outputs": [],
   "source": [
    "def prepare_production_series(df, pricearea=\"NO3\", productiongroup=\"hydro\"):\n",
    "    df_sel = df[(df[\"pricearea\"] == pricearea) & (df[\"productiongroup\"] == productiongroup)].copy()\n",
    "    df_sel[\"time\"] = pd.to_datetime(df_sel[\"time\"])\n",
    "    df_sel = df_sel.groupby(\"time\", as_index=False)[\"quantitykwh\"].sum()\n",
    "    df_sel[\"production_mwh\"] = df_sel[\"quantitykwh\"] / 1000  # convert for readability\n",
    "    df_sel = df_sel.set_index(\"time\").asfreq(\"h\")  # ensure hourly continuity\n",
    "    return df_sel"
   ]
  },
  {
   "cell_type": "code",
   "execution_count": null,
   "id": "57293086",
   "metadata": {},
   "outputs": [],
   "source": [
    "@lru_cache(maxsize=128)\n",
    "def prepare_data(area, group, period=24, seasonal=13, trend=169):\n",
    "    df_sel = df[(df[\"pricearea\"] == area) & (df[\"productiongroup\"] == group)].copy()\n",
    "    df_sel = df_sel.groupby(\"time\", as_index=False)[\"quantitykwh\"].sum()\n",
    "    df_sel[\"production_mwh\"] = df_sel[\"quantitykwh\"] / 1000\n",
    "    df_sel = df_sel.set_index(\"time\").asfreq(\"h\")\n",
    "    series = df_sel[\"production_mwh\"].interpolate()\n",
    "    \n",
    "    if trend <= period:\n",
    "        trend = period + 1 if (period + 1) % 2 else period + 2\n",
    "    \n",
    "    stl = STL(series, period=period, seasonal=seasonal, trend=trend, robust=True)\n",
    "    res = stl.fit()\n",
    "    \n",
    "    df_sel[\"trend\"] = res.trend\n",
    "    df_sel[\"seasonal\"] = res.seasonal\n",
    "    df_sel[\"resid\"] = res.resid\n",
    "    \n",
    "    return df_sel\n",
    "\n",
    "def interactive_stl_decomposition(df, priceareas=None, groups=None,\n",
    "                                period=24, seasonal_default=13, trend_default=169):\n",
    "    if priceareas is None:\n",
    "        priceareas = sorted(df[\"pricearea\"].unique())\n",
    "    if groups is None:\n",
    "        groups = sorted(df[\"productiongroup\"].unique())\n",
    "\n",
    "    area_widget = widgets.Dropdown(options=priceareas, value=priceareas[0], description=\"Area:\")\n",
    "    group_widget = widgets.Dropdown(options=groups, value=groups[0], description=\"Group:\")\n",
    "    seasonal_widget = widgets.IntSlider(value=seasonal_default, min=5, max=49, step=4, description=\"Seasonal\")\n",
    "    trend_widget = widgets.IntSlider(value=trend_default, min=25, max=289, step=24, description=\"Trend\")\n",
    "\n",
    "    def plot(area, group, seasonal, trend):\n",
    "        df_sel = prepare_data(area, group, period, seasonal, trend)\n",
    "\n",
    "        fig = make_subplots(\n",
    "            rows=4, cols=1, shared_xaxes=True, vertical_spacing=0.03,\n",
    "            subplot_titles=(\"Original\", \"Trend\", \"Seasonal\", \"Residual\")\n",
    "        )\n",
    "        fig.add_trace(go.Scatter(x=df_sel.index, y=df_sel[\"production_mwh\"], name=\"Original\", line=dict(color=\"black\")), row=1, col=1)\n",
    "        fig.add_trace(go.Scatter(x=df_sel.index, y=df_sel[\"trend\"], name=\"Trend\", line=dict(color=\"blue\")), row=2, col=1)\n",
    "        fig.add_trace(go.Scatter(x=df_sel.index, y=df_sel[\"seasonal\"], name=\"Seasonal\", line=dict(color=\"orange\")), row=3, col=1)\n",
    "        fig.add_trace(go.Scatter(x=df_sel.index, y=df_sel[\"resid\"], name=\"Residual\", line=dict(color=\"red\")), row=4, col=1)\n",
    "        fig.update_layout(height=900, width=950, title=f\"STL Decomposition – {group.capitalize()} ({area})\", showlegend=False, template=\"plotly_white\")\n",
    "        fig.update_xaxes(title_text=\"Time\", row=4, col=1)\n",
    "        fig.show()\n",
    "\n",
    "    ui = widgets.HBox([area_widget, group_widget, seasonal_widget, trend_widget])\n",
    "    out = widgets.interactive_output(plot, {\n",
    "        \"area\": area_widget,\n",
    "        \"group\": group_widget,\n",
    "        \"seasonal\": seasonal_widget,\n",
    "        \"trend\": trend_widget\n",
    "    })\n",
    "    display(ui, out)\n"
   ]
  },
  {
   "cell_type": "code",
   "execution_count": 38,
   "id": "91ff8065",
   "metadata": {},
   "outputs": [],
   "source": [
    "def plot_spectrogram(df, pricearea=\"NO3\", productiongroup=\"hydro\",\n",
    "                     window_length=256, overlap=128):\n",
    "    \"\"\"\n",
    "    Compute and plot a spectrogram for Elhub production data.\n",
    "    \"\"\"\n",
    "    df_sel = prepare_production_series(df, pricearea, productiongroup)\n",
    "    series = df_sel[\"production_mwh\"].interpolate()\n",
    "\n",
    "    f, t, Sxx = signal.spectrogram(series, fs=1.0, nperseg=window_length, noverlap=overlap)\n",
    "    Sxx_log = 10 * np.log10(Sxx + 1e-10)  # convert to decibels\n",
    "\n",
    "    fig = go.Figure(data=go.Heatmap(\n",
    "        z=Sxx_log,\n",
    "        x=t,\n",
    "        y=f,\n",
    "        colorscale=\"Viridis\",\n",
    "        colorbar=dict(title=\"Power (dB)\")\n",
    "    ))\n",
    "    fig.update_layout(\n",
    "        title=f\"Spectrogram – {productiongroup.capitalize()} ({pricearea})\",\n",
    "        xaxis_title=\"Time (hours)\",\n",
    "        yaxis_title=\"Frequency (1/hour)\",\n",
    "        template=\"plotly_white\"\n",
    "    )\n",
    "\n",
    "    return fig, (f, t, Sxx)"
   ]
  },
  {
   "cell_type": "code",
   "execution_count": 13,
   "id": "002daca9",
   "metadata": {},
   "outputs": [
    {
     "data": {
      "text/html": [
       "<div>\n",
       "<style scoped>\n",
       "    .dataframe tbody tr th:only-of-type {\n",
       "        vertical-align: middle;\n",
       "    }\n",
       "\n",
       "    .dataframe tbody tr th {\n",
       "        vertical-align: top;\n",
       "    }\n",
       "\n",
       "    .dataframe thead th {\n",
       "        text-align: right;\n",
       "    }\n",
       "</style>\n",
       "<table border=\"1\" class=\"dataframe\">\n",
       "  <thead>\n",
       "    <tr style=\"text-align: right;\">\n",
       "      <th></th>\n",
       "      <th>pricearea</th>\n",
       "      <th>productiongroup</th>\n",
       "      <th>time</th>\n",
       "      <th>quantitykwh</th>\n",
       "      <th>month</th>\n",
       "    </tr>\n",
       "  </thead>\n",
       "  <tbody>\n",
       "    <tr>\n",
       "      <th>0</th>\n",
       "      <td>NO3</td>\n",
       "      <td>hydro</td>\n",
       "      <td>2021-01-01</td>\n",
       "      <td>2836774.000</td>\n",
       "      <td>1</td>\n",
       "    </tr>\n",
       "    <tr>\n",
       "      <th>8760</th>\n",
       "      <td>NO3</td>\n",
       "      <td>other</td>\n",
       "      <td>2021-01-01</td>\n",
       "      <td>0.000</td>\n",
       "      <td>1</td>\n",
       "    </tr>\n",
       "    <tr>\n",
       "      <th>183960</th>\n",
       "      <td>NO5</td>\n",
       "      <td>other</td>\n",
       "      <td>2021-01-01</td>\n",
       "      <td>0.000</td>\n",
       "      <td>1</td>\n",
       "    </tr>\n",
       "    <tr>\n",
       "      <th>175200</th>\n",
       "      <td>NO5</td>\n",
       "      <td>hydro</td>\n",
       "      <td>2021-01-01</td>\n",
       "      <td>4068096.500</td>\n",
       "      <td>1</td>\n",
       "    </tr>\n",
       "    <tr>\n",
       "      <th>17520</th>\n",
       "      <td>NO3</td>\n",
       "      <td>solar</td>\n",
       "      <td>2021-01-01</td>\n",
       "      <td>19.722</td>\n",
       "      <td>1</td>\n",
       "    </tr>\n",
       "  </tbody>\n",
       "</table>\n",
       "</div>"
      ],
      "text/plain": [
       "       pricearea productiongroup       time  quantitykwh  month\n",
       "0            NO3           hydro 2021-01-01  2836774.000      1\n",
       "8760         NO3           other 2021-01-01        0.000      1\n",
       "183960       NO5           other 2021-01-01        0.000      1\n",
       "175200       NO5           hydro 2021-01-01  4068096.500      1\n",
       "17520        NO3           solar 2021-01-01       19.722      1"
      ]
     },
     "execution_count": 13,
     "metadata": {},
     "output_type": "execute_result"
    }
   ],
   "source": [
    "df = pdf.copy()\n",
    "df = df.rename(columns={\"starttime\": \"time\"})\n",
    "df = df.sort_values(\"time\")\n",
    "df.head()"
   ]
  },
  {
   "cell_type": "code",
   "execution_count": 63,
   "id": "454a4b7c",
   "metadata": {},
   "outputs": [
    {
     "data": {
      "application/vnd.jupyter.widget-view+json": {
       "model_id": "5607e5405a0347b9bba8996ee2a54c35",
       "version_major": 2,
       "version_minor": 0
      },
      "text/plain": [
       "HBox(children=(Dropdown(description='Area:', options=('NO1', 'NO2', 'NO3', 'NO4', 'NO5'), value='NO1'), Dropdo…"
      ]
     },
     "metadata": {},
     "output_type": "display_data"
    },
    {
     "data": {
      "application/vnd.jupyter.widget-view+json": {
       "model_id": "c741e6cb174b422fa12d0ff20ffb28ad",
       "version_major": 2,
       "version_minor": 0
      },
      "text/plain": [
       "Output()"
      ]
     },
     "metadata": {},
     "output_type": "display_data"
    }
   ],
   "source": [
    "fig = interactive_stl_decomposition(df)\n",
    "fig"
   ]
  },
  {
   "cell_type": "code",
   "execution_count": 48,
   "id": "3afc0533",
   "metadata": {},
   "outputs": [
    {
     "data": {
      "application/vnd.plotly.v1+json": {
       "config": {
        "plotlyServerURL": "https://plot.ly"
       },
       "data": [
        {
         "colorbar": {
          "title": {
           "text": "Power (dB)"
          }
         },
         "colorscale": [
          [
           0,
           "#440154"
          ],
          [
           0.1111111111111111,
           "#482878"
          ],
          [
           0.2222222222222222,
           "#3e4989"
          ],
          [
           0.3333333333333333,
           "#31688e"
          ],
          [
           0.4444444444444444,
           "#26828e"
          ],
          [
           0.5555555555555556,
           "#1f9e89"
          ],
          [
           0.6666666666666666,
           "#35b779"
          ],
          [
           0.7777777777777778,
           "#6ece58"
          ],
          [
           0.8888888888888888,
           "#b5de2b"
          ],
          [
           1,
           "#fde725"
          ]
         ],
         "type": "heatmap",
         "x": {
          "bdata": "AAAAAAAAYEAAAAAAAABwQAAAAAAAAHhAAAAAAAAAgEAAAAAAAACEQAAAAAAAAIhAAAAAAAAAjEAAAAAAAACQQAAAAAAAAJJAAAAAAAAAlEAAAAAAAACWQAAAAAAAAJhAAAAAAAAAmkAAAAAAAACcQAAAAAAAAJ5AAAAAAAAAoEAAAAAAAAChQAAAAAAAAKJAAAAAAAAAo0AAAAAAAACkQAAAAAAAAKVAAAAAAAAApkAAAAAAAACnQAAAAAAAAKhAAAAAAAAAqUAAAAAAAACqQAAAAAAAAKtAAAAAAAAArEAAAAAAAACtQAAAAAAAAK5AAAAAAAAAr0AAAAAAAACwQAAAAAAAgLBAAAAAAAAAsUAAAAAAAICxQAAAAAAAALJAAAAAAACAskAAAAAAAACzQAAAAAAAgLNAAAAAAAAAtEAAAAAAAIC0QAAAAAAAALVAAAAAAACAtUAAAAAAAAC2QAAAAAAAgLZAAAAAAAAAt0AAAAAAAIC3QAAAAAAAALhAAAAAAACAuEAAAAAAAAC5QAAAAAAAgLlAAAAAAAAAukAAAAAAAIC6QAAAAAAAALtAAAAAAACAu0AAAAAAAAC8QAAAAAAAgLxAAAAAAAAAvUAAAAAAAIC9QAAAAAAAAL5AAAAAAACAvkAAAAAAAAC/QAAAAAAAgL9AAAAAAAAAwEAAAAAAAEDAQAAAAAAAgMBAAAAAAADAwEA=",
          "dtype": "f8"
         },
         "y": {
          "bdata": "AAAAAAAAAAAAAAAAAABwPwAAAAAAAIA/AAAAAAAAiD8AAAAAAACQPwAAAAAAAJQ/AAAAAAAAmD8AAAAAAACcPwAAAAAAAKA/AAAAAAAAoj8AAAAAAACkPwAAAAAAAKY/AAAAAAAAqD8AAAAAAACqPwAAAAAAAKw/AAAAAAAArj8AAAAAAACwPwAAAAAAALE/AAAAAAAAsj8AAAAAAACzPwAAAAAAALQ/AAAAAAAAtT8AAAAAAAC2PwAAAAAAALc/AAAAAAAAuD8AAAAAAAC5PwAAAAAAALo/AAAAAAAAuz8AAAAAAAC8PwAAAAAAAL0/AAAAAAAAvj8AAAAAAAC/PwAAAAAAAMA/AAAAAACAwD8AAAAAAADBPwAAAAAAgME/AAAAAAAAwj8AAAAAAIDCPwAAAAAAAMM/AAAAAACAwz8AAAAAAADEPwAAAAAAgMQ/AAAAAAAAxT8AAAAAAIDFPwAAAAAAAMY/AAAAAACAxj8AAAAAAADHPwAAAAAAgMc/AAAAAAAAyD8AAAAAAIDIPwAAAAAAAMk/AAAAAACAyT8AAAAAAADKPwAAAAAAgMo/AAAAAAAAyz8AAAAAAIDLPwAAAAAAAMw/AAAAAACAzD8AAAAAAADNPwAAAAAAgM0/AAAAAAAAzj8AAAAAAIDOPwAAAAAAAM8/AAAAAACAzz8AAAAAAADQPwAAAAAAQNA/AAAAAACA0D8AAAAAAMDQPwAAAAAAANE/AAAAAABA0T8AAAAAAIDRPwAAAAAAwNE/AAAAAAAA0j8AAAAAAEDSPwAAAAAAgNI/AAAAAADA0j8AAAAAAADTPwAAAAAAQNM/AAAAAACA0z8AAAAAAMDTPwAAAAAAANQ/AAAAAABA1D8AAAAAAIDUPwAAAAAAwNQ/AAAAAAAA1T8AAAAAAEDVPwAAAAAAgNU/AAAAAADA1T8AAAAAAADWPwAAAAAAQNY/AAAAAACA1j8AAAAAAMDWPwAAAAAAANc/AAAAAABA1z8AAAAAAIDXPwAAAAAAwNc/AAAAAAAA2D8AAAAAAEDYPwAAAAAAgNg/AAAAAADA2D8AAAAAAADZPwAAAAAAQNk/AAAAAACA2T8AAAAAAMDZPwAAAAAAANo/AAAAAABA2j8AAAAAAIDaPwAAAAAAwNo/AAAAAAAA2z8AAAAAAEDbPwAAAAAAgNs/AAAAAADA2z8AAAAAAADcPwAAAAAAQNw/AAAAAACA3D8AAAAAAMDcPwAAAAAAAN0/AAAAAABA3T8AAAAAAIDdPwAAAAAAwN0/AAAAAAAA3j8AAAAAAEDePwAAAAAAgN4/AAAAAADA3j8AAAAAAADfPwAAAAAAQN8/AAAAAACA3z8AAAAAAMDfPwAAAAAAAOA/",
          "dtype": "f8"
         },
         "z": {
          "bdata": "qRhK/BGjQUCzRSIPqBtLQJIHBUTeX05AKxzXN0Y4TEDrnDVdel5MQGHHpFI5GUpA4Epu/2cQRkBjwcJzXpNCQNOGGGXd4kZAq82e9N2JR0BFkvGRpWRNQML70Bmm/kpAG3OyRG4mR0Aq3LWBhlNNQPVeVgFYi0VAmXucyGdeRkAMRKQgIg5HQFG4sANmgUNAfjZOoMjVQUCtpZ2wDhNKQCnDX6+RqEpApCxZ9O5WSkDZVW+2Q8hGQND9toB90UBA2Rcock61SkBCXGR3VoRHQBgaLN7lmkVAmrtfiJuWSUCUkHtmLLpKQNqKKDKfoEdAwgOL3Q02TUAKIVxIoc1FQLh/hWmSUkRAh8HFdeGzLEDmDfH4G4xHQL+rfVJeOkxAXB6y7Qv7SEAF5xs5v7dLQOLw8U1ATEVAEOZrgJf3SkCRqKxTYStMQCfsLdCw+05AgC2oYXYBS0Bg28cjRVdJQKzCQPTKp0lAbrO/29LWSECkURmC3CJLQP+3kMAiSUhANmV8dxwoSUBSRXjHBFNMQJDsA4yWPEhAOEERr/VJSUA0a8yHJApJQMR+qQX2dklALA5thdJwRUBpfzTKlVFIQEAahugK1k1Axn1pvNLKSkCQyzfTCtdLQJbbEhHz6UdAAb4xPVndR0DIC5NlIHxKQGQ4PFMhYjtAkF4HNqL3RkDo1Wu+BehDQLZjGyKKxkJADOUHisT6RkCKBBWnZulPQHNzmsbxVFFA9dzmoF2AUUCqDIk6yOZSQJZfl5gIK1FApPbcB7TIUUBIbT4EQx9QQKjtWt7I6lFAlLVNdQJwTkB2fsAgLSlSQKO8v46PJlBAA1oUSvkVUEDle9rcvphIQCF4ZtzE4lFAuR6bJnuCUUD+hbbvADRQQElPPlDHO1FAQj+ogIHDUkDqe6Qv2alOQCzuX6inWE9Ac7wmTBeTUUDGBQ3zxPNRQMu4i1VffVFABp5CUAgLUUD3tBRUb0dMQAoDMzZMo1FA6XNUZLI/UUA9yGnNq9BOQKTKjXOHe0hAGQ6YmdEQU0AJBk47fyBRQNhXkoFBm09Ammn6XEPrSkA4ZxQYoctQQJBi0FNpiE5AhfbKv5asUEBcSUNEIOtSQMYyuJiEuFFArgat5efuUECnHvgmavJMQG6naTbbIlJA2MPDi1GtUEBCqbiJbF5PQPlxWGjxW0lAyyLCvDSfUUBwhhYttRhSQFWXDbNAz1FAOezuK6GoUEAU9oWQqZJQQMs+Mk/+xEpA2ii1qtuoUkBbeTnc7sJSQFTHjeBXsUdANTYjGDDvUUBoVYFs//lSQGxDBrS/GE1Azhb2WKPVTUCjT8L+hclRQGNHvanidVBA/X6z4as6UUDn0mIqSCJTQPkvoZe+m1FAfNd9zpZvUEACmZe7yGhPQM+E6T/LfVNAs/CPAFpaU0AJ0K+c7DxSQBzXmZNLIlBAnvPEkDAFT0AKjVDK5jFRQIDudHi/LlJAxlAbGCHkTECRQ7qMEk1RQLFPeMWXOFFASSPR8kpoUUDanUJXlGpQQBt39l9RkFFADsiUJMSsT0DGTL9wpP5QQP6v6RkyvFFA+zG3c0yyUEAQL7d4iz9RQDO5UC/UIlBAXel7lurkTkCuv1vsTRVQQKhr/ceBDE1AHB4CLevNS0AE35Wu/UJQQHAzdM78W1BAaGUdqJAxUEBU/aUcnppSQFZmFe/UtlFAxKw6ar/aUEBJKMhHKCNRQHtkCYVHsk5AiOPV3Tu3TEClfZV3yTpRQM7PKAgKDlBAMNbsaT5TTEBK9Ycp6kVPQPJLpp06Nk1Ah/zoJ29mTECZOIDn191QQIVHicQPx1BAiJ4HmnMVUEBaNqSZvThPQBrTk5bQJk9A1YEBWegJUkDnioXpRuxRQMZWziPdJlBAPUPbYEZVUUCg5Y6yfclRQImNZ+HdblBAYRONpdA5UUA9rSw/7yJRQMCpIcvGUFBAbWCPUmZEUEDLsBO1LEtSQE6aTWOG3VFAlfwmZczpUEBvJ44c8PpQQObi+6dseVBAZGhc86VYUEBqXRbdQcZRQEzsg3C/8lJA94qMeUlrUkCy50uwcCdQQMOYoBbxhVFA/cn7goZIUUDZWNmmVMVOQNiwBpEdAVFAsACj+iOMT0BWUfNCCVpRQH7hSw1JzFJAe/KoXJ4BTkB6QfCCmphQQEbNgwi6aExAYJKN9DvCSEADs+XP6BxQQJenfp6np01AitJsNydRUEDcdOCHmRtOQG3hH2BwkVBA2IdPdbBBUUCltQC3fKJNQBAE/4Dh8FBACh4YhEOVUEDcCDMOy9NQQOkRhp/hoFFAEFhDuSD2UED+6vl/KZ5OQMOaPUK/7U9AlK1osERyTkAJ9f0qlHFQQLlzjtw/zFBARHAPbSDRTkD7XVVC1/JQQDpwGfGtsFBABANGlX/NQEDvrz6LacJPQD2G4n5yl1BAiDIecMk0T0C6tL7odA9NQA4Zo7thO05A/j1RDE+uUEDT+Z6cUYdOQAq6iEC1e0tAC7MApNEzT0B7e38waypQQBLH4giXE1FAFy745kkyUEA9yLbY2BlPQNNY9Z0qFU9ABeSo6pNoTkAsu9Ok7/FNQKDJQHdN+09A27vVp54JUUA/hyOeGhtRQMY+7oZIxE9AY8s+owu+UEDm4BWk/gRRQD6L6cBntEdAO2X5UQEbUEBA8WTR2xpQQO58HaBiXVBAzS03Kv1JUUDrE8pK0ARRQKLMfec30kxAvhOgDEpNTkDWONGRubZKQHRq8XeLqlBA4ajUqyTZUUB4lK5npqtQQFRMTS8CqU9AAIrNSOyuUEC98R/9eExQQBH/u6LX0U9AZq7DGcauTkA+6ZVXFGpMQE9nas+kWVFA1hvSkPrsTkDGpddkUGZIQGrEfLTAJ1BAuvMDNpWJUEAMxzFTFixLQLbW1TObXk9AWC5SIqyWSkDAKtQrTGhOQPrPLPmkMU9AWS1HCIwKUUAmFS6kqrhQQJfHfQELOE9Anjc69084UEBKs/7k3d5JQJkiEhk+bE1AIAiJPb4zOEDfIprc61BNQAOky5KMVU5A7izSpHZuTECzZPpTBnlOQN9w8dPbUkxAldWPc78pTEA7rPoXm6xJQFj/3ynxbEtAnk49MnTXSkC+NiKXrPtMQJYUShjec09AyqJm+9I8TEBNpdDCAOtLQHwN1amPEkhAuNMXQA3/SUDquUUedYtOQEAdD1/poklAuVdmax7sS0Cu2lTbwS1LQJHXoHHa3kpAyoJiSiYjT0CB6S9cZBhOQFoP+m+kHE5AFu6ziUSjS0CaV6iNGp1KQJsC92YLdk1AQdaSDcXWT0A4w8aa7f5MQENoX8OGGEtALrfqqrMFTEDzonoZvQBNQGEYAHrzL0tAtG+wtscESUBtcgMdvjpKQI4IkcselFBAEzE17m9HUEBAW9m1kDtMQLeN17Urp05AWPHBRU9WUEDxZWOvh0NQQK7KNwaCsE5A5cCSbRmhUECcb6shaUhQQOMe01ojYlBAhrrsFCMlTUC8fWHMbZpMQFKM+NYI4k5APGBm4jQhTkACSGnTqd5PQLDmpvv0Nk9AlHJmkdk0TUBmb3g9UNROQFSlkiiD601AaXKx5Fa8S0CZ0pYQt61OQJpwXajBdU5ApL7UytI9TUBelKwqZXVLQA7VjbdP30tA+r6tzFwGSkCItf0dQoJNQFkNOlqNzU1A+qzYB9/pR0Dr2aWV9StJQBI1jNgYKFBAKcBkz+NYUEBuotkS5KdLQH9QrVHy1kxAVlLazhnRSkDeZDlgzaVOQGPiuVx7wktAuqGJb6L+S0AXsKbUKe1JQMTmoRuO10lAfi8wSnAGS0CgXszcB/lOQGISuD3NXk5AEBOIA9oOT0BcpZRGQytMQBSBN5cfAVBAIhJB1WhrSUCCeCrzIRZNQJkZ0obMmk5AME7UhxJ/T0D+rr4r695MQMTeR7jiM0xAhFcKItZLS0Asr1aJcCxPQKjvn+5cDFBAo+tJ1/zMTEBUZE6WTElOQIiUjN8jsEJAGkRvJQZ4TUAgyS3y6rNOQOzATJty1k1ARE94KlOmTEBgijLvSFFOQE9GL1k/jEtA4CdnvSwqRUC8Isz/4RlPQHiqyrFSj0xAYfMav0HSTUCUl9pG9VVQQP5LBAS/vU9A+V6u/0lyUECVH54Ai4pKQGAUpEY5dk9ARtAvGQO+RkBQhcOP8KFKQEs26Pdzk0pAkMXpWh0RUEDQB6rrN1hOQJa8hhl3REhA4OpMR4gaT0D7PBxzKKxOQExSD5SPY0pAWTNWOX3USUAUmNsgDCROQM1dynowoElAMjGs+tSWS0BctOIc4FhQQEhKyk0YOFBAoqihz8RYSEDjhQQQbEdFQLZ7MtCW20pASiwZI2l0TUBQj3vN4PxKQEgRVQ9jME5ApI5MMkYNS0DSZapOhG5JQBFCaD7d80tAWjVdKu5oTEDwHXxiLeZLQNICEQxVCFBAN7X+3XNCTUAFPoXjg65GQHUu4wnjukxAtQ6mfgUxTkDQdz3zOHVKQFJshP5aDU9AlBIe5DRiTUCWHFOLrRdKQAnhe0oVr0xAint4oCYTT0ATUZKvzFBQQA3MeugMWk9AUkXg7HoDUEDYLqv2KldHQBAKMy21v0pATGqiXaxJUEBqzIcxHvBNQJC5UqWD/kVAllHQGZQvRUDir1Wf7AVKQCg7+14vyE9AaCMQ/+mQTkBOj9DuaalOQIaNvga5K0xAU7/oJWUQTkAIWznLvS9CQFuLpUiJp05AWB+mNS8RSkCh7UgpBi9PQMC6gNfSbEpAb3wS9ToaTUA3ggLyhGBMQIf7A+OlQkxAiFJiPrHiS0AcT/FgaFtIQNbyFeaEsU5A2+WVDEWrT0AkjKyDgV1OQCScc6krbk9AmYRquUq9RkDQLWMuB6lKQJM/wKsB5EhAEvaUgGqoS0AG4YukTZJLQMYLZYMwhUxAi3tDJe48UED4wqeTVX1LQFkOrmllsUlAPhVfe2NeTEBlYe7qnwJDQOFKEjpT3k1AokIu/uTOTUCC6Fvz+ctJQNszmzKgxUxAjpe4VXLgTUAIwzw3LIFKQFBVw+GkUEVAQEKsCb+TSUBw4ESXDRhKQDKii43EIU5AzHcPaER7TUDmlh/5XGVGQGz96fJjlU5AaM89MIzVTkCwColDW25MQDU9FgrWnkpAdwO1EFKfTkCnHQ4jklRIQNEAKeyR6EpAGdC4DuMcTEAsRh+5KGxKQGycCkJxnEtAXKAP/RwuSkAABWMHC+tIQIKyJYrDdklAglXCaRQbT0Cz/r89tnZFQHg8iKOpOkxAscMTKNMHSUC08/0J68pNQBJ6q3XsKktA0rTW5GkUSUBM5yyqKWZEQAtkdnop4kxAENhVXgUvTEAMe2KdxcBNQLBHC2J7RklASoQi6/pRTEDb6NlCTsBOQH2B0FxrxUtAQgjgupwETUDu60J8DPJMQFhd7MsnvUtAn5IhO0AETUB3O2k/o8JKQARTVWNAQ0tA5KBar+gkTkDIfy7+ENJFQPAI3ah8X0ZAz5pZAw3ITUBMiXHlCVNOQJmolbWTZ05AGvwEc/D4R0AAuiwYzIZKQFXGxVPRQk9AIPMLKWszTkAZszfC0mNNQAPHbBuQ00hA/yMSn8sITEArh0QvwpVOQGRp/lcZPkxAc3iuKAH4T0Bxlemq9eNMQNTKSeS4KktAxZ4GpIn9SUD3wNCiX4BMQFQLcBWXeEdAB4KPn028SUAfPt1IGlhEQC8zP0Ia1ktAAArU2pdERkBDHm/zH4FNQPb29JgfeUpAA/zbZCfKSEAk0kuAvfVKQJVQSijMmEpA8HiaFawxTEAO0eupdupNQEwnoSvHzU9ARI+TsR/kSECEisJB/0VPQNCrVsuku0tAZjD9Dm2MTkA8jKuTfktLQP42uzwEp0xA8VBYC9fZTEBISCYY5TBMQAwqPfVrp01AOX7u3JaFS0CWQWOnEGlLQFedkYlw3UtAjs7FVeSoTEDSb9PNqOVKQPgxwUAQ3E1AcuEcLjDJSEDP1yTH2iRNQBLz/oXbaUlArVVpqpCCTUBoP0/mZIxMQAkpnrWmyU1AzeVHAmsYRkCxH3k7c3BNQOaD28ei20xArs0x5bT1S0Boz/ENezVOQO3woSUdCk9A8d73/goDTUDatgVUvRZNQPpNiTa96UtAZOrZbPzKSkClIhCeQnpNQGMWjvKwpE9AIl2cLxKVS0A0pX1XZAZKQBS1tt7T50xAfQnUR5mySkAADcDxgPdJQLB8ulcNAUpAiIWPYQxcUEAwQkFWrXFPQGvyD7K2ulBA1KQxAs/NUEBVHRTtOXxHQMFiWhhifklAkuFAV6dcSUDkBHNzebtNQPiESIiA3U5AQLwi/9ZzTkB4kPUopBROQNOiHJRH9k5A2S/8E+3lR0BNYC4OlUZHQCrDk91/ckhAGmSk/anxS0AG+EFGYhxNQETDHG13/EpAWTGRZML8SUCKpLvPq+FEQOgKFtFB4U5AhojMU8xETUDCYmMGG6dMQFR7MbmeMkxAz/HBa7jHSED8qKwmXFpNQGiinrl5IE1AtsIGHlm1TkApzumzyuxNQFEvUPjdA0pAoMbTQ++PTkAsR3enAERPQCw+a6ChTk1AlvDDVCM6S0C44711nKJMQIrTI/99MEpA4cz/uz69TEAg/7iQnsxNQIZpyPHi6UtAUGtRTAhVS0ByAM7SNGNNQKQPgbSsa1BA7PkZATGNTkCFu8LjcfFPQF+sgG+SJk9AzJ8biZMuTUCdte47+QpLQAgfdGk1o0tAKblrR2urS0ASHjPpccxLQJ062LseJklASfflhOQLSkA6YW3ysFhHQDRi0P5bk0hALXqtc2UoTECw6wIQe4dMQLjGfMgDSUZAQUclZx/ZS0BNqYEWfy5KQKZAm3zc3kpA9Hv3HcsYSUCOsZMSFplMQA4cXAdEtUpAPAtQdL/lSUDrvfBOfKFMQC5UgpeRLE5Amlfn5WvdREB8y5RUYSxMQL4DBnL0EExApJrmIGt1QUBYwr2maHBNQNL2A0AAs01AGQeMF4F/TUB7zLHboEBQQFwhoP8i2k5AeLvdX7f+TkDo0Bcr/aBMQKClqH0i/k9AqYvslg2ZT0DYdKydLbtLQD6arT8k/EpA/rXYQbpmR0DQWwwXJnRNQBT6Lrcwsk5AdUZlo90IUEDM0E16FVdOQHTQTc3HOk1A/F7+HHrHT0C51Uz88URQQEvaSGY3M1BAHnPFaJ+9TkAIj3sZEkVQQGIKPxsFoUxA9VUMTyWLUEAr/QjD6QFQQAIuLw+oEk1AFaG0ZDJFTEA+X9zO8iBPQKuHiA4qpEtA5brRBGyyTkCC1OsCr1VPQCa9k6Wl3UpADaxMSgeKT0C/0ynndzhOQG3ul2WyEExAOkd4210YTkAo8Da8JUhLQL9CcesA1EtA9S9qnFSITkDi0aAzuGhRQAGapAsOtlBA3lPmV+lCSkA3g/BwP5JNQLdXLgcSjk9A5MGzK291T0DisdrfxGZJQCathHb2D09AodbIANsQT0BgdqqZjq9JQP39ooSppExAHpXT6X+9RkBoIB5DHyBHQL3yO/rVmE5AiwDyXQdJT0AQu0eTuDJNQHRXhqbL409AFFpO6+0hTEDY5pYrWgVOQPYJIr5D7ExAykjuV9XWTkCzh3QZgU1NQIf5tNMUeU1A674JdEgTTUCzI1bDoyBPQL9qPeDvSU9AQ1aPLwJ5UEBx4GpEtk9QQIsQsv9jJFBAVnpiwqxpS0Cwp6rO1pFQQKFu38EFXE9ApmLfvCnGSkCqrkMlE1BRQKI3oUVwtk9Ac8ycHtwoUECCmXFJyFtPQMwbw8CkF0xAFHVaoqtNTkAy+lB+Y+hNQMBtw8hd8E5A+1EHAwKlTkDPYQam+eBLQH+nRRSyOFBAjdGu8fXST0Aslot2Q4ZQQJ7K0wZQTlFA1pkV8xIkUEAs5PoJYmlRQG38pdPvIVFAiDfm1GPGT0AfQkaSbitQQHZkQpHsbVFAWqXx/w1sUEAX4ro2+KJOQLRBjYlLXk5AxdEs4ySSTkAisrKFRslOQKlFozPlOVBAh7Msv5DYTkAe04u1rupOQGG7mIFbSU9AdHs1Fn9hUEC4e4ejsuFPQGoXTi32O0RArhNyILoMTkAs3ohodxBRQHUHVPK7X1FAsCa9pF1JUECULuOBtd9QQIutxWFLi09Ay1EXIMs1UEBODECIh7ZNQHQSQewi205AxZ6yWkWLTkAhXnFtmUVQQILUp1MXh09AxhyhOhQQTUAJnI8iBdVJQO6/hafni01AdMkL1OP+TEDsd2DjWrZMQOZEXBmiglBA+T92/0V3UEBAsefKPHROQNLDjHF6dFBAJyW359oLT0CVTyEvEl1PQP+jcnVV7E1AFKoJ6PLwT0Bcget75dFPQD9arKPA3FBANbUinG2UUEBpn7MuuiVRQNRdwIeEMFFAm6GHv7ErUUAP3P8pOX1PQF+0Zl6oz1BAlJWEF6kZUECWIF47hPVQQAe6sTdn5lFAKyUlZQnSUUB1zclWNytRQF7Sl7sZFFBAK6xZ2kO0TkAESZONDsJPQJpq2SWrkU9AyY7NCZIDUEB3TA2rKp1QQFCXj6+9bktAnNHgoojgSUBw96fyQmBJQHB+B6bnPE9AhOV/AbOKTkCedU8xWUtNQFz3EDpmE0hAlWfLDD6JSEC1GuVRVGpNQIwdJd4b1ExAAZ0rfVAHSkCYuzoidhdLQIvOUFsJqkhAcJl4zduXR0A1iEESYlZJQEE60PD8xE5AvSOQMNgwTUA467V96ehKQGpzW0ySGUxAh1OWE6ioTEADMCOwZStMQD4TBw1xlUxAke7pztYtR0CglIvrmktMQHCMJ4yW1lBAErjZhsX+TkCOGciEbExLQLjKzawao05AZEiVYh0gT0BkNk6wo1xJQLzzHtc8c0xA5F/op6wsS0Cku4wvB1dMQHoHpND1EEpAmcAhjeaqQ0B5cigBDXdFQN748W/Y5UtALlEynnnrQ0AaTsEUVxdGQEJ1S/p2zUFA0mb+anJgTEA30n9l815KQJ540pJM6U1Amo6ISwIuTUAW3ESPc31IQHsLeI6OQ01AAznHciM0TUAU3Mn4CJhJQFkltwmuzkxAlNPSYhvZSkDdCfeG2idPQGKb1nphS0ZAQgTcFfyyTEAiujNlEitNQFr0KabHBktAyNeIcnV9SUDY2042dEFNQBjIdNaxP01A/J31cUIXS0A5ngZN3uNLQGJqsX6DHk5A5JoF9XnETUAwlOUwI4RLQD1dYeeIeUlAcJuLmoMISkCCTB3sfF9NQNjZHl9YiExAYDrPPS3rQ0DQ+K/0u5lHQEZ8tfvRs0VAiBoiuveaSUCY5AlVT4hLQIFC0lhDmEdAO2mx50vjSUD6aUpSgipOQGZOgBcENEhAAvPWgbB4SkBCfVt9qRpIQPh5TiD5fUxAo5dBs+GoSEAqn4ljsXdEQDISjsIPGktAwlWcHWWcSUAvVmyWrxdKQLPP4wLCrUdAQ/U72RXRSkBfX6saCtpDQI6dKkIaOk1AAfoESBj0SkBIlvM53c9DQJtYPZFJQExAJ7tq2SCcTEB6s3h1wO9KQGxraR1MhU1AIIAk9pXBSkCyIFsWBvRLQOoXf3gwT0hABWQR/rihTEA66ebj2PxKQG61h9jg10ZAHGUcgwhGRkBUr7kX8R1LQGz4EFWGrUhAHogsuyc1SkCbxsKnD/tKQNt0ivW960tAG9WUeQftS0BMe7LQS6dJQPKmO6epoUtAjUFyZ+vGTEBmsMb1OBNOQLOHr4cR6kpAq1xIzrC+RkBCLY4SE5pIQPwXPZJYbUlARExaZZMaSkCoxY/PkRhLQPVFF6n8+kxAqDa+I6o4SkCwjHKDFqxMQAJzHJLJzkxAfoX3HZFuSUBSslFk+f9JQBmtXUKcq0tAqBGEsxxqSkDH3hFbtYZKQALVPSPrE0xARIRuL3HpTUDxct39KVlOQGlWefRG4UhAde4AD8LhRkDuE+vuSjdLQCeBE18GAklAuyeGjp8ESECjGBAhwWhLQGx/9GZFtUZAMedVrZ73S0AOb+cA8X5MQMZ6q4gVQ0pAIZ4EZbcUS0AeYgEJf3VHQFCLR+RD60hAZkhnLlnaS0BHW5atUbtKQNylGuUFSEdAnnJhez2sR0DiHJqj5e9KQBQ4ypNuNktA8sYoynGiSkAQJBPhfCdJQAyrZuENZUZA4ggqYP++Q0B7yudsMXVEQLkh0/woR0tAGCtqv5DDR0CU2mHyvnFKQGzj4e7yKElA8rcGW0NDS0CerE0niEtKQE3sFRqkZUpAHrbmYiYmS0CK13+/OdpJQEbnajNRfkxApBb3LQH2SkBEv5Yj0hFMQIi5arMBYU9A8A3rdmOUS0C7hD6LoLNGQEpMLqLtYkdAHGw9AMpIR0CMscHmpeFKQD5kChLbD0pAhcJMslTZTUAnJsNsoEtKQHE6ZdFQXURAT+i4TMf9R0Aha69PWJJHQMDBeo/IrEVAhB44tSSFR0BgzVnXGVRGQNEBUUGLi0tAqzxgARn9TEDEe9jQwXRIQLICJ3P9JkpAcCdOhcKcSUDImkS6AjJLQPIhIoQhQktANYea7WK8SUCo8RzZ5BBLQC/JdlNNmEZA4WSnnGW+SUBpXXYV3UpLQCx5CM16201AvABcuMMyTEAGMcVoDcJAQARuXxGuW0JA6ndTVcl5R0A+wLTUsH1FQOvoo5Bmw0JAfe9+5liXRUAcfrdcYH1IQKl/AIV3GklAIvZ6HT7tREAuqZyLeFtLQAjcTw87tktARGGrYK+RSEDu+zGJC4ZGQIEbY3QZvkdAxgsdbXt4R0Bbraj4IUNKQIfN4u7yWEtAnSAmSQPlSECcmgrxNqJCQFqgxV8pOkpAGlTCAq9IQ0AZtnIS6xtCQFtMEeW7gEZAL83E+tCwSED4d1SA6aBGQFAhf0hVb0dAAcDlhYbiSUA2MgtikE1KQHCXpKTdMUlAZQozClYvRUClHw0aAYdJQHZZUdARakpAGplAC6r6R0AU38PzNQFKQC5wej0HmkxAgmEiw9TNTUDHvucTLGVGQP9txBwa70tAnqcWQaUkSUAFwPIkxX9LQGUDFpOhf0hAuTWhSbL7SEBKNgaUoy9KQHrdV5Rpf0tAHYZGtFmSS0DY19/QsK5JQBTAXKKZrERAuhRzCYRBRUByR39jjsxKQNYc2Ki5T0lAkfrGt1XzRkDqv4EW/mNHQCieQVIVXEdAh4SdNojtR0Cdrx2kBh1KQINbKqdC5khAn5zd3gJXS0AoJPwDBTBIQAgNPtSRDElA0Qb09C8QPUBlo9EplcxHQMQab/oy2ElAQr7vosbfR0Dp9DEMjQ9KQO2a/bAix0VA25vm0LC7TUAXV7Mr2o9PQBr8ElGonktAEubksVKISUAKaeYa2pBLQGrODmKysUtASFpYXFmmSEDARUg8wwtJQECqoamNK0hAiMF+kyfaJ0CRwccuJmJFQBhM/5dNq0lA5if14f7tRUCWsgZfEp5JQAB2eYLXa0pAHLeQREp4SEBfV0Tv2DlBQGrNm2RkT0VAUEXn9OgmTUByzX8r7atKQPwHOzZNQkpA6IeLUhmOSED+TcWAlgxIQMws1fmmoTpAXAaFnSAfSEBYkvREOhRGQMi+TG8ycUlAEzIyid5CS0A4M9XGkF1FQGDe/tPF50dAAJ8iCVx1TEBwUneLmbJDQBYclEo+BUlASXSK9Dh/SUDFOi8yS0NKQMyH6sml3kdACU+CC72cS0D6ILGld/RIQBWcm8x2H0RA0NcKHLrWSkBYaccjjvhMQP6vufOywUlA4LBELFYFSkBmkVLqP1tJQEwF7qwokjtAR8TswqofRUCcqIRWcClNQJg10VqewEpAf5rCIwbvQ0BtixZ+dbtEQLLEkQc0ZkZAPCoZK4czS0CYuY+mnplIQH7R6cqhWERAKDEjvFMNR0AxAIbMooNFQLIwGzS4AEFASKIIv+ccSkCxgF6CmydKQHDHGzbDDkhAJjmjyf5NSUBCo9tjTyxLQBITa7azsklA6UiVQ7qORkA3g2ln/etIQAk7SMegZUVAV3d2bsqQSUCS3J711vxMQJLj3eRGfUlAI3EFRZG2SUArIUgAHe1KQJDNPesdZExALg/kVF4rSkBWrhIOPDlHQD7Yd8ZC40JAwAaF9aJFREBVx1OPrglFQCO+6D5GukRABwVeE0VCSECrY6M3GrhGQFw7X6LTHUdAE+kakr9TRkD4PbOyk4NJQC/Mrw4fQ0ZAisCv22PfS0AfApWazwxKQBHrclDoLklA4jVQxjOgSEAfvDU9OTVLQA+fXsl08EpAJP1XSzTdS0Bslvi/MAxHQFKHbvBlu0dAwD9Pg5N2SkBOPATk5vFGQJYZcBek+0pAq7iExWtvR0DetKHTSkRAQIop/OYK3UlAGCgAmBU8Q0BhURB9C/VIQKRwFLfdYEtAtYwM3+p1TEAx1z+mqTtMQEK5hs2PmUpAn+Yk/PmURUA4L7Of8Z9KQBZI5Iw6g0tAzysjTs7fS0CixAi0gT9JQGTf8I2BsUNA/TR/UAzJQ0D2EUBhwd5GQDA1I41W+EpAT9LgWi9aSkD+bw50AtFGQIA2/hriiERAobDa4GHrQkCeZS2B7XxKQMaexZ9twkZAMbHt3Bz5QkD1N9ZHwCVFQJe2W8k9p0ZA4Fudu9jESUABhVfVGRVJQJyY48Qle0VA+mgodlj1SkBjTcBq7qVDQIa6hkPS9UlAPjtqKAp1SUAl6Tdt0jVIQLq4d5C6zEdAoWdylxZESUCODkZ668ZDQKTmDx5TM0lA5IXQj0AwTED6DUu8U2FMQKY3cQ5/pEVACgyQTxnMSUC3mSOu3nBJQAB+jQgg4EZAAt1OVdQLS0CSBQsui0hEQNwkLvzf+UhARGCFvk5DRkDOFNTU2VtGQGXjSRs0cUdAvt/K4eqVRUBqSo/QEtxHQIQFn2nExkNAil5DS0yHSUB+ftfdcTBKQFV+BRFWMEtARHDOkiX+SEBDBSGVSgdJQFXfNAsoQkhAl7E9S/asSED65SQGHjpDQBUxNFd6HEVAipCEDP2tR0AaWiQ/uI9GQCsRxjbMtUZAIpYIhGsJSEAN1Y4rQ0lJQKgLPKCwHENAZZ/Fn8NPREAaUaPfj407QBxDFMIsbEpAHxQkhrfNSUCIjSXGrKhLQL42U9HhPUpAL9wT46KHQ0DDWiyrXVtJQH/CRokR9UlAXWRBe8cHTEAWTRedpFZKQHpScwlq6kdATM6E+sIkRUAJmZtXVA1HQBp/OGAbW0dAO3vbEYS/SEDAeJTmoHZJQC7kQ3MlKkdAsnibd3J6RkAauRF+iaNHQEjuiNm0m0lAL9yAvRECSkCAzuzyroZHQNNuzHVA/0dAvNfPVrtUSUAlnkBCodxJQMYX5E7oHkdAsiwFcBkGR0AiHPsBA9JKQEmm1hpdQkpABsNuGEKISkCmpOXSmM1HQI6JUek0ZElA7/jNCegqSUABba3RLThLQHyKXXD8HEhAXupceHF1SkD61LCwDIVLQA5mvA7INUpATpWOJ05SS0BFW+9DoIdJQLXJqDWnbURAhgejGOZwSEB1WYZ/bJxHQNf1Gu1ieU1AcgQmON4iR0AN4K3nSepFQEPKHpBYuUhAruwVMGW4SUA/WkUFYmpHQHcYnmWRXkdArwREA7RLSEBFUy8hs9tKQEj37VcER0hAqLfvopc3Q0BYFCnVckhIQF6CslcoiUVAYai4Vxk3R0CAUeu620hLQNDxdqui20RAVqkSIqAsSkAl80qavThMQEocoA6QE0lAwoOpSyfaRkDYGnEKLIxGQA/ztZx7iEFANmmgnYE6SEBCUtqo64VGQA4vOqwdz0VAfMIPdXJ8RkCqUcSwu6VIQKBPDxoWl0xAH8Rxhxs2TEDEHcjlxapLQI5e0feUMElAVqRqg2pLR0Dg+k/FM3RLQNsWrIacCkxAIt3UnrgqPkDNzL7bRLREQELqRiHyWUZAl4vY/MiRR0DwEgv4PJtIQLUMYDiHaUhACpII1WmwSkBuEKjEiJ1IQDRTOKHXZEZAGvCS9dqARkBIW3MbiIhJQHKXQRX4mEJAkNpNq9F3Q0CbkZEE7p9EQEx+tUUw2UhAf5a6MDQuRUAq+W9TXRZGQE+BnSfWjEtANhNAebbrR0AHUqIzHvJKQPWYsSJGEk1AjtOh/FAmR0Bzbs1T14dMQBXkrUNVi0pAdCBECa3fSUAsYtciz9FKQKJ0vFJvs0lA5DkCUKdXR0BC5S1K2qxLQIDLMfXQsEdAsl7IE/fSQ0DvnS/5f+5IQACwnvoiuUxAfj7pxotWSUDmtexUBpJJQNxPIg2g20RA1rpcTYoVSUB+yBBzzAxMQMvfJW+5/UtACYVqkY2WSUD6WZNkpZ1EQFOJP05uGElAxuhagYSRS0B9nIsXFxFMQBOcbC2WxUJApPflC8z1S0CP0cQ0lYNJQNwT7CfRYEtAvjoYyGTYTEAZKbqLjD9JQOd0khaIoUtAOgRTAs5jS0Ar9o+C4a9HQJWsXVkVoENABPSDOUUxTEBNBAY/qYZLQF48FSdQx0lA5DwpzC5USEAi43oyjCJKQOZztADUjEtAwKsNmJU4S0AP+LEmldZMQM0HDCnGpUFAKx/+BiHgQEA+Z4b1DuRMQHvEXMxspkpARw/2FrPLR0CKeLtULyNLQI62thHzskdA0/LSFqynRkAgqpjL3F1FQJoCi5PcOUpAcoT9QcCnSkDtLVurtEtJQAPUkLjyAEpAzn0VX5SnQUDXfZSmIJdMQN5f7OtJ40tABzKtU1d1RkDmOOlqoVpJQIZu/tfJzUlAqyWuMqoMS0BbUl9K2S5KQDSY3dnKhktASSbj3yj8SkDGfwZuy/REQAXjUkZuEkZAcjFs01VHSUARdAO8RF9IQJ9rAkabfklAu+vNqC9WSkBDrYYd2DBIQKiR+bkG1EZA/3Iy6+5TSUCoikhz6DVIQKRRA9pMnEdA2NOL8HEkS0CYzwiUEVdJQO2G5YSjQkdAUjzXxUGVSUAAnt3H5jRMQPK6CKEf10hAdxQS3DU7SkDzV8/bTL9LQHnSbxG4201AKGNIDg4qTkDCBd8/921NQNg6KXj4b09AWC+ZipavTUDW7EThXC1MQGEsokfhPU1An0VKpLkXUEDilX2RwI9OQJzlKa6JVE1AIWsXf4IpTUD2uY8uWcFKQGIzIy5pdE5A+SqXhEU5UEAE32ciEy9QQJIzTyV6TU1A7lElKQHnS0BRaTsTjOJNQF3No4CUcE5AsoY7TrP5SkB2W7OYQKNPQEFBgULv3lBAxvtujwaLUEAiQBCVac9QQD7xg/waWVBADFckLngoT0AOJ/5FauRNQEB/0uEdPE5AoL0bB7vkTkDybdacldVLQIdtdFx0wktAng20JkJETUAHtZHQQ1ZLQFAVVpM5wUtA4n+FAJ3WS0A8yX3RLAlNQBjPxXxZjE1A73VX+xBaTkCB42XmaiBOQO/qWBB72E5AyLOeGAfzTkCMpI+RfMJLQNYAwJZZfUtAkF4dVMgsSkCI2JQXpxJMQA6oSm9kTktAHPsrc9w4TkCGCtPklttOQC5OTfHX505AegzyJ0YBT0CH7J8y+6NOQIgEaAXCFk5A93fZ79tBTkBL3u5kHHZNQMyKHvuHLUxAllv/bJA5TkCtjuHYJtlNQPBHzt+HmEtApXyGnJmhSkC2g1QBh4NLQL4ywrF8k0xAnFATyQndRUC8gY5dQhJLQHIedpWOJ0xABmXmGMiASkCAKpGlUqBKQLjBY4G4REpADIUwmmW8SkC+3C9l0J1MQDLa/+7GaUxA6Eaxbw/HTEC65OIXALFLQH7s1OsU6URA3hOTGj74TEC6QNGogG1NQDBSPCKJ2kxAwLb0G3u2S0AUtrYLx9xLQK+1/eculUlAtOGuw2QXS0CkTHBR/d1OQGptiZW+UExA1mB2HN8sS0CW21RIPJBJQHl2/wru9UxA53x6eo2XTEClUBsdjTdIQBbWa2rK/05A2SDteA4jT0BTq4jQEbpOQIO2RllM4k5AQmOfv4clTUCI3ls2qUFPQERLRL1fgklANsFTKmOtTEDepIlg5sVLQCsSXnZnzEhAPTLnlNe7S0D3eKhJ8mlKQG83PHAO2EpAKF0T7eFGREAliLIKYjZMQFBB/Z6qLUtAFhEwlVvDSkAUO9GHzQpNQFqnm9Ib3EtAs7b/jXlqS0BAt45/yLNMQDR9ixStVktAocIQ4GgSS0BY+prUjwtMQFA4y2vw7klAuL/8s2EdTUALCMYFiqRKQEbLIlMBw01As1YJdYc3TUBMygttFtJOQO2mzqtNCUxAbqhleQ/ySUCspuGw46RNQGS3mu1hjUxAJ+tYBC1LSUDt2llAnGdMQLpWa5xIPU5Ag7n1/idzSUDv8wm11MpEQBKNlVQJ0UpAfE3u2BY+SkDS4cOjsjJHQLiOe6iZEkpAFV1ETgTrSUB8WiIEYZNJQJ3YXBiPHUFAEhKBLslOSECAlk2WPZ9MQJE8jL8c3ElAFXzBVlLuRUA0VRoQ5etFQLXQTUl2k0pAySH24XRxSkCYaUI2EvxIQChpmjeQREhAX6aW4FsATEBaEQmgOhBJQHDEviUgJ0pARxSxsHAqTECLnsFgQ51KQEKzHAdTF0xA3BsQ4liKTUCsN6x/4M1JQNKuv8+TikZAzG63bAnoR0DrNrQvfYBCQDQmEq1Bi0dAy1nT99NtSkD0MclidNBMQLxHXqwhvE1AMchAsTmVSUDI9cvtBXhIQN/qCsr8rUpArvD7Wf8SS0Cf0bUCSrNJQEV4I/wFVkdA/jkvMV3AQECE8LIZ4DRKQKSoHz+Zz0lAFIo5PlppRUAkhnLPN8FHQHldENVlzUVANHMbptTCR0B9iZw7JNhFQBI5YwElUkhAXsH6g5WaSkBBGBsGeSJMQECIkyHPwEhAkvYLZoAORkCNrdiIJ8lJQOM/Ozp7tUhA1eJJ3+seRUC2H7IeWeJIQBjQmgOhzUlAvoUccTTqSEC2RGs24DlKQEdP1YvGIExAxGF5GxheSkBZNt62Nt5FQJKxvvIecUlAqqToPZH6SkDIC69VM1dKQANxAxGy+0pAMt2nj2AMSED4iGCNLelJQHE4NPK3PkpARIXphskISEAUCioMKP9IQMi3rRcb0UVAHo80RCcGSEDEjuAIdOhKQMMdMfoPrElAGWK5hKYOQEBjawm4ZXhEQOGxJnXVNkJAfkJ0DY9rQkAqqB+0XJhIQB/mkSBj9EhABssEzyMuSkDO8NshjnFFQA1BLn52jEdAXMU9EE2KR0BvtbnfYvlDQFK9MxIf8EhAsM90WPUvSUBuWTGXf/xHQPYYXG5qB0VAJ4ltm4B4RkDZMZKU57tGQO7N0ClJVEVAhuW1rDbTRUBq5cCeAdFGQKrigSNO50dAj+7acBsDR0D0Xp8qhJRKQIAiDiYqDE1ArspMjw5ySkDugDHRF+FMQOp8wfUkEk1Aaoh3vwUFS0CZoVJDPjJJQF9zXVBRvEJAW4bgLOgwRkBgfCiUbzxEQP2BE4m95EJAAr9eg17/RkDNZ/MiGUdCQGb4mw3WL0dA2xuw/+lzSEDIcYQqDb9HQLYr/PUgj0hA24TGVYnRSEDiFQvMNlVGQLuD+iEWtUpAKsHw6jRIRkCUGD8e6fNGQDgmSRU9DklAJq2SHETPR0BrFrAyNbdHQNeUmTd6u0lAVsOkbdhLR0BQczuWS/FJQA6+XDyMH0RAuokzzrNvR0DN+mGsgkdOQBxaHtjaYEpAKgcZu+5xRED9ssPbGclHQCaBWncEGEpAHdkZh/+lQkAH5kTgyLBCQNDYymH9eUZAqDhYJ5Q/RkA3MvXFzwtEQMVHL6D1k0ZA+onKXUPVRkBpxLyvP75HQNOaZekls0NAh7qUkFu8QUATYXuBwWBGQFqdzi1IfklAuomwntEGR0BNUFi83oRHQGBXrazMQ0NAUt95mx93SUDRQcXTtJxGQLrCEgF0QUtAHXBddoUUSEC0hI5IgZhGQBp80YBEh0dAA6IskEXFQUBiipSj9nVIQCET9hOqeklAi7aTLJC6RkBPE/eJ50pBQEAiEz79lEhAMOOCjbC/RkAWc7a2CV9GQFjeMytbDEdAQB7NivrYSUA7j7DwQLtJQBG7QXozPklAK9/yLvkuSUByfE7b2M1JQNbRWsq5UEdA22eZ+C4nS0CbJ41DNSJGQPT7mwzD9kJAoDMjKMNxSkAivG1EANJKQHT/AVemHkhAPrsi4tbGRkCpp9+PtcI2QDxyLmqH7kZAZhhzQ1OESECek+efrzxEQCYGibgotEJAgHSCyNQpSUBmR2uUMpNGQGd7qlwSyUdAwH8Mp+NlSUAxKl2n07JKQJwRa0NP10ZA5iP6F/2kSUDinnCDjjRHQOBSUs4AjUhArc2svCZ9QkCzNR3U4zFJQNBcWj6axEdAPoilP1yzQ0DBPI1XfQNLQGyz72tD/URAtotJZpHSS0B4M5ANZwRHQML7kBxpU0lAJz6WSH1iRECr1K/4RFtJQNvMy+kDAEhAYDSMtsb4RUADjwJfZehIQDV/fWseM0dAoZ44SoGQQ0DSMEJytidFQHohJIZtpUZAqBTjuI/iSEDXwskVORdIQA7glTH4B0ZAt4HcPyVYREBF5l/l0QtHQHgzV/4d60hAQgIgctGQSEBMob72GHpFQAlaS8mxs0RABNWV4ljFSUChIRM6nhRKQCBJeOEgXEVALbkI5FH9QkCGMEdHs1xBQBQHXDDv70dAJpRVt8ldRkCh6x49LAREQObaPzLZpUhADBfcBoc0QkBjy7/yizpIQHwsLp3XH0VAagvUk7DnR0BIzCIdz/9GQOgVWJ1C2kZAi+xKz4q8RkA0JEjneeZBQIfkgveXO0BARRO0K5oxPkD06DZCfltHQEF8mporSUJAN+nEDjuRR0AbmdNOOotHQDVAuxIJEEhARnel1wwdRkBl0v/oLxVIQAMI9qQRwEVA82GszB8+RUBUMzDukZRGQE1uzXiWDkdA3/Lo2DrASkA9oimBJl1EQNnvT1bShEJA8yYJ4Z1XRUBSa4vK6zdAQA3ZqJT6f0dAQ8HDtCFcQUCmvzNrUkZGQK1ne74JuEZAhVEYQgouRUC6kq+wj7ZCQCwwnEKfb0lAjLh9wcdLSkC9uPFugj9IQBopjAs0tEpAhBPtusfLSECUudvW8n9DQCpP5EPW/ElAF70acOvxR0A4Ha1NmeRGQEch7QqofUlAFqWZISqyR0Bo5aXiumFGQOoyRSOwekVAN6a6dzmnRUCkHizgBdhGQBKIazDwM0ZAZINqjTZyQ0AEkS/9DzpDQERCH7u7FEdADiNPuXTYQEBjdf7n4zdDQIJv9KFfREJAIlYtSNFHRUAvoItEPeFEQFYBNtVJRkRA6vmZ0zm1QkA11Tri9eJIQEvRi5ci40lA6JV85hmsSEAgGZpirLxGQHQcpVD3jkVAmLVexLE5QUDibArHZMpFQI6FwDZ1zkhABcF0Se8cQUCiun2xA+BIQEQWk1bc10ZAYJOjrbBPRkCGmJ+p74Q5QAbfru3alUdAwSPAQG2iP0CURUprKxREQNM0ykOoP0VA6reMsqhdQkDaGyk0+H9DQPSR/N1rUkhADsBQ5vybSECxyMVD3CNDQIszQu94jEhAURTMw5V7SEBEIT9hW/1IQDx9XjzCTUVAs9rNUv+vQ0BaroXaubVFQNF2eggTLUJAIzos1B8USEDSBqobQYo9QOVoH9+GDEZAZz/rSV3YRkBpnN243jhFQC1Aru4BLUdAcQA/6O9rSUC0ng7KVyNCQHQXwR8XDkJApLEartTrSECK/UHRRj1IQPCbHT+l7khAXGGX4723RkABkzNYde5IQLqYKHxprEVAd7HLrp7/RECAQKOGAk5KQHJqaswNVEhAgRk1SYL8QUAIVjY53QBFQCw96sq1DkFASHRyp4COREAgBtFC98xFQHk2bZg18UVAhRIOZjOySEBPwApv6l5IQOiIuAoB+kZAyedoqE32Q0AA7eVtJ/FGQKDlO2Zgr0ZAIqlSRWqcO0Aap0/JzINCQPPMC517FUVA0DiSCzXxQ0BXJ+B751tJQFjCSyNRJUVAa3ssxbX8QUAYFQyrRRFFQKRUxSviEEBA5OGwdUNdRkCNhKf3is1DQDCF3lq4l0RAqe74q3TFRkDRhzoHye1HQLha3yxqeklA7rFXMxBPQkCmk5j6ZKlJQHmYac9w9kVATyq4J/WbRUD5cPWiHEpAQNZzO787yUhAXJdmSdShSEBw3d5EAkFIQPtbU2wa9UZA9pLVMTqkSUBW6PwQw29IQAdZxsOAX0hADlTK/U0QSEDKqIdDpcRBQDXJpzx8ikJA2yq/28MhQUBdaPnmzdlHQPlSpYU2OkhAYT+d7wsrQEBg7Jys3WNFQPZwUYSPf0JANV3KopjpPkC0YtQWM0RJQIlXZoCzqEhAxOMUpUV4P0Duk1a4ufRDQCw0zAYF20RAk5bmaLFISUDACOJ3wx1HQBk8mRCzIkdAdjKADDU9RkDBG5NdrBhEQLIWh5lm40dAFkrTW2jROEA8GfY+t11IQGJYCDOA/0dAYSzRflJuR0ACrYbGdNJJQNz15Ae+nUdAuhmhun/5R0DGYYGQVmNGQE3+xKEqekdAGYHzKlF1QkD+vSF1KT1IQISmUmFKVURAWm5avGlRR0CG2xmKkrxHQOTPWKhC/0hAAiU3oG6mR0APjwVxlrFCQBUp+MNN7EVAIQNYD6DTQ0DJ2g4waHhFQNBlfmb2w0hA13/It1JsRUCv4+nDnIlAQCSfY1VyREVACJAZos0SR0COMgErgS5IQEBKpvjgSEZA3XYYHgp6RUBiVa13ozVHQN9OdH25ukZAO5Fo3haQREC9he2v76BGQACrBeyCAkdAurNONWSrRkAeHCXG90pJQPU1UqjpYkRAAf0A1hGHPkA2l5kQq8dFQJVQ++FqM0NA4TaFpGSJR0AJuiHpI91HQA1Jk2+Rd0BAQv2rwyOFQkCMNZOOtglIQCQzxhfVJElAj52ghl46SEBvqMbgzIZKQLIcPGDdW0hAlp31T1T2SEBWqPfG1KlFQFIE3wTQSEVACIUkOo/nSEDO2ploFBJIQKeeMq69wUNAppg6seJLR0Adv3JqBYFBQEqYFPhZq0hAvDPkQJyhREDbb9jLkN5FQNUq721px0ZATztqcokUSECi7Oc2zLtJQGLvzUp+iUlAgkT+UAW3Q0AePDPIzYNGQHaOXIzIIkVAECdKVFHKRkCFm6dFKzBEQK4H9urLjUJANr8X6a/mR0B89icynH1JQIjOFEshHEpA1oGxvMoqR0AFleZnCYdJQGBty3OhFEpA6j8TDcDlSkDeovT59QpGQAmI2ewXFUhARYQltZdISEDqpjhLmmFDQNn+J9ZwaENAz/eX/2cRREB1MxSusphGQPDvyqfcEkVAKBkLooIIRUBs7vDmD5dDQITUNz7e/EVAW7AvcBXiQ0B3ILkoEJpIQNwuyrOKhEZAGQlgSjkiOkCKK9J8OGNEQDJHsCkIpkVA/SLv4VCoRkCUF/LT1o5IQD0z6joBS0VAHd+yFRfCR0Dh+wx8lm9GQDlwwl3BRkVAGerErNOqRUDvCusPWzNHQLZYBGn7fEJAB3hCJlJzR0Dv4dce+NVKQKl9avGExEpAQPHB3cpVSEDcLXynCXtFQOauVbbJ10FA014k11fOQUB341w16uVGQFCcaTU6hUtAHhZXXBqmQ0BzN873XqhJQO3NwnQs1UZAlpUZTIiYRkADyywYSZNEQAFt1AGqhERA0zhR9G9XREAApp7DrsRJQJrv4l5QN0dAjxG7/JsNQ0BkpR8ykXs5QHqxkFFuj0VAlvq5qo89SEBsXDwNCD5FQMKhba7jW0VAo7xGyY8lR0BhZMoYtwlJQMJbsKV28ERAAGoZ18xYM0Ca6byYF5NIQEmrsamArjtArAMrjqWMSEAPpqsW2XZKQBAHhq+ppEJAkjV82BoqR0ABRjqE5xZGQHjKNZsR60dAYWH+6f28SEBCVZy7qhNKQOdHqBm6nEdAG86FIeVmPkAEHytI7SBJQCiQ8WxQPUtAgK1vzxLgSEB3qna7ptVFQFpG8hbvx0lAIn7w4q00SEB2jZeYTIdEQOOgDoAnUUZARDXIk3/JRkBETYZ59r1DQIDsv72jgkNAvddTNjOFRUDlAYxIYixFQJrBEE/qHEVAjrmCgAVqR0B2qOU2gzlHQJ80D11pq0VAKShIwoXnQkB5ihYinZ5IQIJMug8eBEpAy4IQBGaqSUDq/DQnsTdGQIez1ukHy0dAwsJTy9jhRUAsJPYzXGtJQNxnuxsSE0lAGlo41I5ORkAAskJjCFhJQGRzAs1BnUdAlvTF+AzBRUD3vEXu51NEQMLdTU4fu0dASJh9lzEVSECGwyscEqQ/QADqXXdZNElAYOgEqn0yRkDTX8K05WhLQMk+1rX1F0dALMAAa0ssSUCE/dllB+RHQKIDgRdV0URAaKEYYvkDRkAPr4j19y9JQH87mGPXlUJAPJxuTJbUR0DH2R+AWaxEQA0kB3nZzUZAQ/JdlmV5RUAWNSQbOHNIQBop2OB180VAmP7H6IYkR0BKJrVuNUBIQL/EPjXm/EFAHlYaJRUPSEA+pESFihdHQI+e3+AY1UVAmzt71F7ARUDk1K++odNHQIxL4gLQxEZAklLuQrPAR0A4jW8tQftGQKyRkFJa1kJAqv7rjIZMSUBjtRit6jZJQNvXpKiMY0lAKtbQm2k8SUDN9knvlV1IQGBS5k0XOklAmMBJ/xCpR0D0DUypmh9GQCoMQqIIs0ZA/F6V9LpKOEDh5PeEE+pBQLPvtOOq5EdAOESzBaLtSED+vVlaiaNDQCoCsxGvl0RAgiV8VG+xREAIGL7pyrhDQKByBh8nr0dAybNbo6b1RUAKUViD87JEQDYA8Z5MQEhADPNjPVM6SEDAdktonRhIQAIVJNX2BUlAyW0UYYXhSEDPKmng9mRKQOYzYPKBj0lAa1abByr9REDuI+gDgyI8QBtVkLwDmklAdjD7tMYTSkDkgzIIxCBHQLNNLTU5+klAKvvKXbf4S0BnKWZ850NKQPQTOWbwCElANmKBjnjjRUC6pqqQC6xHQKY5PNPzrkZASvIBxhAtSEDqhO5nz5xIQBfarXfjjUdApTzGAWq+SUDm4o8EVtBHQLOBYW7F2khAwAQdP3BnSEAxhkL37ttBQC2Q2v+UIkZAHkUENCAhSkCUVOfA7CBKQODDUKTyZUlAdISx2SHsRkCSVRF2kRlFQACPMRx2rkhAGOAXnYcQSkBIEKs62pRJQO5noARMqURA2U+21TbeQ0DPq/8RDcRDQJQDMJOmYEdA5jew1UGyRkCwzmZeX9NDQFeu5T30NUVAVl3EffolR0CkQn8FhklEQJp6aBrDcTlAqwTfCTo9QkA0anRHnTdFQEC1+Q+kPEdA3I8wjMBER0Bm+21UY/1DQBMbn+g9/0ZADXXYGR1mSEBSBvDccSpLQKFV7pvgIUdA/nc7tkHlSEA1woe5S5VHQMjIsokhY0hAZROjgs6TSUAFUxbdNFVHQGzXAYA6xEhAR3qHH2TZSEDivv71fgxJQOZ6KR/hl0ZA1bgAwxfLRkDthak11m5HQDzZin5v90dAgbU1XvVWR0Cf8grRl3FEQGcgNsB0T0lAjVvjQx4TSUBiQaAfrmtHQBbhBfmUNERAJ5zVRCaQSkBjm4WGhpQ8QLTpO4piQ0dAKdiUggRxRkCf3CVplxRGQEPei1iV+kVAKOY0z+sdSkBSi1bIHotFQIU/28VQy0VAKcMniBHFP0AfT1ajdQZHQGLX4KKoF0ZAa9UchCxgSECVuJjRcn5FQFPXkmqrq0hAawwPYw0xRUC4k/7IXFxGQLvMd5AqA0tAgphkHLY+QUCf9ELcJQJFQP+6xdhxDUlALCDhaVcwSEDYHLSJtvxFQA1ZlyPvbElAPPE+tPIxR0AzzlQXRTVCQO3XaLR3DkFAFRi5aroHREDKDAYHKFxFQMSsIZJPaENAlMEqf4VKRkD/bJW2SwBFQD8o/qCVQkZAzc1ryJXtR0ChiQC85X9HQHYEae3KqkJA0r1syrOzRkDit5bnwCRHQIpTrp4ESEVA057WzVCIREA8Ei5OA/BHQPaMukaWs0VALrouF6PbR0BgCDwBO/RHQNFO0rqp1kRAHqZdQyTfQ0ATVayDObhFQGIG3loEWElAliSab3+1R0CSr1lIbjJHQBrKl8UYK0BAZC04gBuLSEAAZWIf97xCQNPWi0p75kdA9hPTqJVJR0AESPfEk4VEQG9flF2xq0RApTc+U66fRUBR18kdD/hBQJR1V1b2F0lAdJ2ajHd4R0CUspy76wxEQMmlL4aqQ0ZAZ1TrhowoR0AkEkIQ8mBIQCpevW7k6UdAeLqRXnEBSUCE0sxLAZ1GQEepUObwk0ZAIYWOGtV7REA9CKL08M9GQLlHFafU6URAg3kGtSoGRkDkAQKS1gRGQM6zSGFcoUlApaCqDnQoRUD9TUF9VTRGQDsgcmmbsEJA7c4zZvPSRUA6oD4XkENFQIquPsOLbkVA6N6ZHn3MQkDfe8RkPUBGQDskEZunQkpAmwNk2ARzQUADMcGyr+9IQFFTk1RQCUZAUwm/vbiHR0CeJLJHaExIQHolDpcNOUhAdCVLGCCJQUC4FWSHbrVGQB1alFdU4kFAM2VDv9keQkAJGKJpMMxCQB76LdOTP0RA3NCe9pv5RUDPQsfSR1tGQC2bhep8YUJAQA89utzuRkCsto/DAvk0QGxgaDE1+khABakZhKYlRkCEvw5yA59FQAytOxAPE0RAcBxqw0PfRkBqydEIFQJEQEfiUbENzkNAysLswZ91R0DskNx7AO5HQPMdHCMnnElA+CsQouI+RkCLXUF32QlDQFXRs3Tws0pAeDA5fp+US0DErNDF31lCQF1n1IS0Tj9A2XogspvyREDXBJQDP9RDQL7g6xkEokVAo4QW4syNRUB5/azRPGU+QPTUVeacZUZATJHoJ19RR0AUS/QT0nRIQIrwoJJrVEZAkPaaYfQFQ0Dgq47jEsFGQM2LdJuZkENAxUJRIJW7RkCysGv+3RlFQKSnNRR/kERAMmA+toS+QkBuPEyFSWxIQFYdHqRPVUdAq1T7pNfsQ0C+3mweJwZGQHKjBiYb8UdAQcYUyfyRSEAonPTCKeFHQIIOrUr+UkRATYXgYRd5RUDcDN6JryxHQJ8P8CXSSUVA1jp6xIFARUCMo1EjoGdGQEKlMmGakUNAssCtIEnfQkCrAeW85a5BQA55LYUAaENALy3YAB6XRUCm+3i570NGQDZoIvXmzkZAK9uPabpNRkAbqUCucuVGQK7ZNIQCHENAfoayODMvSECmzIlIWAlGQL8LHXITykRAbZ/k8OzuQkCK72tPuXBBQGU0yLN2RT5APMbFK4t4REAuxxrXIE9AQKpVkwxn80JAZt2l/sWVREA1ueX3utNDQLlKfUIqnkhAKb7N4G4uREA6rnAyDqE+QC9tWNXG80NAi5ZpAiLpR0CIL6yM8z5JQICnmkIb6kVAAIlusSEKRkAQ31KbXKJEQHHEPP3cwUlAjWpn2SSsSUAeysA29vJDQKlyaQ8rvkRAjED1nOnlRkAuG9FIEAhLQJD1oeLUTEZA1Xk0/Nn+QkBTKxUPhdJFQLQh7Km1ZUZAearlb2fcQkC4RxmNBUVFQJbju85JrUVAyBslgLr1Q0A6YSE0VH8+QGCfNh2eQz9AGnkyXHXYQkAHDU132V1IQJgiHeV8EUZAQ3CgqpADR0DsKlikxiVEQPAFfe9f90ZA225tMtaNRUAcy27H42hFQK39XOjGrkFAYQAqm5X+R0C4nwhTaBNHQLlz7ZpNAEBABTFypNvpQkD4LbUzTJdAQMtJaXEQhUJAZi3NAXZJSEBuOWJk6YtGQEBfxBmQi0NA0jlgvIGNRkAAIBIVqfpDQLji2a90QkVAYc58jIMeRUDLU78EYqI9QHGG4U4xREJAu17NmfzZRUDPwbCIdzJIQFGDu8yb20NAcrR0GNIIR0A1Sjwh3zhBQL4bBDZ/bUNA62KxdfMmRUAlJMD59HBIQPmb4eWAxUVA1IqwNMrTRUDozpwCZ681QEjTuY1e5TlAWPZxEp4ZP0D0igU0mQpEQKKyiiT0BkdAxhyBT1AbRUDRErhJTspCQL+eZ3VMcUBA5/n7PS4QQ0CyhT/YM2dCQC7Vn/z0nENAAStysgvVREBiNsxiB9tJQPBJnNfQIklAOn6h9DtDREAk8PLP8FtHQIH3BzO3ZkRAMEBJnCNbQ0BN524LC91IQEYRP+DXOElAuRk08Zr8RkDPg1jsSdJEQBDuYF9Py0hAFzYXCQaxR0Dknx/brNxCQAAtYOvUZ0dAJBDsX1s/SEA4qUkLGqVEQP2fjdoPREVAXHB0D0AeR0DLJ8aJOZRBQK8U2toQO0dAfAylqOk+RkDG9xfIDKVAQEe9jcNrbkVAwpGJY2wzRUCpN/aTlvBGQGnVFU44mkFA+PlAS1rQRUBYZ5pFKVVJQED6uQmhGEdAjM5tRE/DREBLkHPVT6xGQFZwbWVPxj1AtwJgbd38Q0D0dCa7jEhFQCNTf0CAk0VA9lnbgHRXRUBmiamYOoFGQOV9muyVYkRAbtaSgM3UPUCAgvfQ0klCQBLqKPGpIUVAwltcrkwYRUDAHvzZ/6tDQPPm37ew5UBANDULFcWzQEBtjlalDcxFQIXt1oUO2kZAqnjTn0sJSEBbsSlKJypDQAAJeLNOckZAgIrxOOosR0DOY5ZvDlRFQLgvSn+WpkJAZXs7GYThSEAoooB3l5RGQM+wYBINVTNAYSb+C9S4QUCSIcKqFno/QJZrf/IktEVAKBY7Z1IyRUDFcSDzdglIQAgtpZSm3ERA4LPTA5CBRUCYFnE0saBEQOFw7mwFsEJArqtrCPIKQkClTbN0YexBQOYWJsB5yUVAwmwwUsQVRECDstG2kRBEQCRAb7WsTEFA4yBtrxgUSEAP/OvniiRIQM+MbO7KK0dAwi+H51CJQkBHPguLxzNCQDR1QLXR8kZAsdqguJRnSkASb9MsHGtIQAbJUhPGbj9ApynKjyFsREAIbUUX2jdBQIQdWLfttkZAECgAwbJZRkD6JL7ech05QHZqfSha7UdAQCktUvbmRkBcCRp610FFQBNh0oMEKUJA3IahOlEjREDncbyAq6RDQMdCsDcalEJAtGB7PgbiOEAfdwoQ1TcwQL69ouCZ2kRACW30J1UZREBSeb7HH0NEQFgTrAF1lUNArpSTXG1qOUCIzMS89+xDQK6WnFJBzkVArbROM8X0M0CKxxZlj44/QLY3/Hq2x0ZATav5PNYpRkA8yNP2GuNBQBGGpWilsTtAJoQ5YlZUQ0Dfht72XC1BQF8KdWYOE0NAkVAAdsUaREDjHOCCN49DQJI9GgwCwkRARu0+4rw7SEDQIAN48GBBQOTnuLFKzEZAgrRHRmunQkDmbsCw5XNBQNL548rkekdAJTs1gb45QkAiImBsXidFQOZU13vLbURA1THwUZ6zQ0A1pG9SDVxFQJ30XVPQtERARaXWjFpxQUB5ZHNsTbxJQLxIsibbM0lAj4ZrwGONREAEPbUUUQlCQEY45zEi5ERA4sOVo/+eQkAXzUzmZxBHQBY/U8nRZEdAJP7RS46yRUCSEduYcm5GQJJpJLqeYkVASOg2LIuaREACWCClzxlGQE47K96wiD9ARlCNkuXwRUAclwW0uQZHQIKohqOsd0ZA7C2INotfRkDUgZqeh9JCQIYep8cKGkVA5J8VMS1IR0CheKUAyyhEQNgTmodDSDFAuRQ/xlm+P0CCHD/m/OpEQKWFc1z39ERAfR0cCFOkQ0CSBC5pKJBFQIcwVMKZx0JAffcJrNYmQECXNJZSLy9CQLNfHAC3qURA1kzsGu0kQkAcWoMCziJHQMEuvy+v+URAVykkECl8QkCB2mx29hpEQFXqDwUzxUZAXzZOaYuaRUA2P9rtNckxQI/01qKZOUNA/mljsla1REBUfKsqGSlGQJ8J8lM7kkNAmos72dqlR0DMNrWrRxJIQEPrSCkz5D5Awz/zf4N4QkDQPTdA7OdFQIxfwosm4kRARYlYtcOVQkBaiH/IHOpAQJOtyKJttUFAPvfG+6peRkAU0QHfSeApQDQXJ5UskkhA2QgTnfmoRkBwhDCVbpxEQHpj6ynW2ERApXb2AZ6pQ0Ddda9MPQJHQHYr8IgfDkZAyKZvvfaYQEBgMQnNeOZCQPOoaVCKeUFAB+djgFfGSEA8ugz5bShDQN7db9+jHUpAyLlzU4XRR0C435vkZZ9FQM9902hDr0VANvZiK6lSQkB6hcrvpRdEQAWXpbloIkJA+U2C8kQAPUDJB0aRGZlDQLa783NtMkVABkNDwnr6QkCKv4cyicc5QPwok8zveUVAiJOaHqicSEBmWUvjTnREQGCEQsWAO0ZA6wJ3YGBPRkDfpOtRU+FHQPp3r+3O8khAQuX/97MBR0BvG2y8cXlFQAx3rFQ42kBAqNJZV26PRED4xQYU5VdEQA4OOUy1tkNATLkl3RGrREAURcEdjKtGQMacXws75UFA+6HjBhwqRUA9knaejIxCQAL/8uNVa0RA+QSDYQgzMkCPyZd9rpRCQCkmfjrKdEdAIEY4KZppSUCJW8YBGWhEQJ6PrsDc/EdAjEuk5/dhR0DuyVmlzi9FQDiDm15LOkJAEnXV0BgHOUDZ979N7kxAQI8LDYIKq0BALeieZdvmREAW7IvsKG1HQFj6LHHg+UdAdqhSYm4lQ0Dfvl8xCxdCQFhWN6SspkBAGKHvBgl7QUAEZrkHHfxAQJy8UA18LkBAvBr9/8HrQEBy9j6/VFFDQAwRYdL4mEZAarmFpYIdR0B6vkL5TJ5IQGgRAKEwEEdA32DX8OT7RUDkMH+gaXJBQMyAeYPoI0BA+JkR2eSRPkAzbNmQxcVDQF9V+T2hdTxAvnrhe7MVQkARlyanNOdHQE9NE9KivkhAMJZTIVHqQ0B1TCUOl9pFQKw6RlVW6kRAAlitL07CQUDU9AYWcjxEQI4kfNJwBUZAfMmUF5auRUAK3m7Lr89AQE9/C3aASEFA7sZnP9s6REDP7XHoqi5FQKszok4Cx0JA3PWpxENOR0AM4znpzfxFQPLU40EB40ZA7h0sbdCUQUAfmL+DJas/QJroyl64WUhAUaJDM9j/RkDq2JXMzjhEQHmEr5o9/kZAZLOxMT1VRkApYpxWaiZCQJqndMn3VkBAn9sWNfElQ0AuXJUtmEs6QEc8glL1d0BAoOfmytqLQ0B7khdGQldAQCW+9YTfF0RAlajOpmPLQUDorNVw1TVGQKyUH5qsd0JAaLZVdnAQRkCWW21Z7wVHQAqD5CFpnEdA5NJwlJ07SkDtrCTG1bNJQJ/TjeK3WT5APf36GFn1OECKipAldVBCQIs4VR7j70FAuK5kPsXBQ0D1YTHOzF1EQGQuhoWyRkZAW6NZPlKmRkCJ1/PMAMZBQK6t6qtntERAcPEDUhRrQ0DvE/878dw6QDhzuEJmKj5AHRVKC5lvRECC93+YvtpIQCGzZvcGREhAVam1qnd/R0BeEvdaUrdGQCQb3/s6bUZAw7a25sWOQkA9Xu1b8FVCQIz9q9Z2HUZAgytiX6+aPUA8Ikn9/VJDQGpRJi8EO0RAwh7vuB8rPEBedWtJBXVDQKqOpdQjjkVAzLibvX9AQUAmQ+gpLM5DQA3F54PrXkRAPiMtmFbBRkDbLygABfBIQPD3spA1SkZAUu3nWWsoQkB/VLKF2+1FQLszwYtTf0BAliaRP6InREC97KzR+JhEQMiTx2QvHEVA82d63SEZRkCh2TcC/4o/QJvnJKs8+0RAJEfbv/2URkBseDAjVLJGQLJiAkBboUNAAaQRwjgdSEAWmLjFaFpKQHotCgDHaEZA4TIBsL4NRUDpaNo+zEo9QFMfj+U70kBAO/dWDZ0aQEDktP0D/ys6QKa9WYtcnURANUGu3rimO0DaqE4zhplBQK7TSv/DbkZA/joHJLQ8OUA2sqQ9BWpCQH+D1sG3eENAHgdZmbMsRUCgRaXm3mxFQKCTSf/h40VAHNR6bnovRUCWU3tL9YFDQATCI0Y7LUNAQG9yO1vpREAy2wDeiTlDQN/o14qMHUJAXbHDMIiEPkAZtevU+r1DQKzXClMfHUVA7I30VNRnR0Au0U+24WtFQLk+cdjhrUZAETteC6fgQUACtCrMzrpAQNCNEGl/SkRAcN25/vH4QkB6uIUcATNHQDL9IT0b3EdAmjVv47ypSUD7tTxXAH9HQBTY9LzvyUlAGqDpuXH8SEB6H0RHrspHQPh/DDForUJAsEELC6gZREDmrYCMGGxHQEdqG/du7EdA15Quc009RkABdljFnrdDQHjHF/48+EJAkf8dqaCpQkBGpkPw0bVEQEBpVlvug0RAxqg6TZ9yR0B841/6NG5DQHigUlLj/0JApmitknOQRkCZTPDGgFNAQIewKcNHJEVAreW4PaAZRkA/R8hBvl9GQAQqW2YfeENAE8fRcbytQkBWXJWVjf9DQMTySPvH00dAMx/Eg4WXQkDwxWZbaiFJQBpaKxc9VkdA+WqAXLDUQkCu7++7Bn1IQOLruGFbrUhAbD221IgWRUDiUOnJZBlFQB0J7NyDckFAsjv/jKrDOEDGg5AigrJAQJ24Y13u8kFAOh6gPa80PkBfnCUkFdxDQCCzyTOM+0JAaGV5/k9qQkAGvCQtQkhEQLNEIOoAf0RANuED/0G6R0B6a+cPdQpGQK/EPaTVR0RA8eIioBzCRUD98zAdJq5FQICuEQxnK0JATcUDARIgRkCaQpbBRV9GQDdmcr64hkFAVA5HetzAQ0DfMP90X8M9QARfC5+lvUJAkD4wtTh7RUACmBeoX5pFQAbBSqJrV0ZA5MXO0s63REB7/Axbr5FGQGW2JfWb+0RAauA9r5KBRECwlY9RHTxDQN6ixD+HEUlA0mfxcwUbS0DHUJqRf5FIQESd15slY0pAdHruqpQlTECI7NGIngRLQOYJrby3jUhAstUFRhWiRkBMfoAj7FFBQGOIlKBO80RAkWTOLGzXRUDW4ySw6ig/QOt/3wfJW0ZAfm/AbA40RkCY6yvr+XdEQPeMGWtAEURA02C1yLIAR0AMQVgE3b9HQLD/f/9O7EVAOmj3UAvxREAX2RvGruhCQPWTQ8fA3kdAHkTTp71bR0BKK+xcQ+5HQPHaJYqKakZAmxifNmm7REBqsI5TvNdDQOSj+kogoEZAgTsmJxFEQEAWyVClhrpIQKR3/daEYUVAfma2BY25REB2DnmnwZhFQDHN6Hoyp0hASIeyWoTbSUCy6j21NhNEQBqOVPn3hEhAwEp0W8MHRUAbCnuRu4VDQJ5V/tKzlURAfGF7yVJZRUCC43U03K9BQGgZPxRfPURAHSsJdA2XQkDyc5Jsfy1GQBWOn/tLZURAUJUiM076Q0Dh9ghp3ItGQBmG+3Dd1ENApVh18ry0Q0DtWnRUD4k/QLE0sH/J30dALlYS6WO8RkBwjE8dTuZFQIvjrM8ns0ZARpafMnl1QEDYHtdM+2pCQJYD6UffGkZAeVZ3STe8RkA9wq2+GzFFQNsD6OX8PERAC6KUxNPNRkDPU8IPxH9GQLgribQrLUNABFm+KxVmRECyu8NMGkVEQCa/7TaLo0BAcD7Ws1sRR0Da+dTEqiZJQMWbt8qwTElAGtnfwdLBSEDcYwapGzlJQGg8g1HXukhAvEXG/ssGRUC83h+zEwNHQHz8i4wc00VAH5ZkuikfRUCpyMwN7I9AQPIzPoFVmkVAdnqIfkJRQUDbCbfoiC5EQBYKLgYTj0JAm/eNyMr6Q0DIuU/erDNHQKQ3GUgof0dArT2L7w20RUDqpJlQsjhFQL7oOl/uqkVAnjrd24+6O0DBUWSK9alCQFvvdbw82EFArh8Nd3lCRUD+MZ7R+QhEQJtSajvJykRAmW0v52QKRUBVTC+DuLJIQA9HYfM8L0ZAn/G6WbpXRkDqqImF3U9GQCe4K3cnaEZAMzOauA2RRUCW5UR/UitGQLwMFQLTtEhAr96wXwt8R0Dti8HIVj8/QNZekshqQERAuAmWi+/hQUAEhIGAhYlDQMVXBhsZUENAwUG92Kl2Q0D/pA69ai5FQL2RW+bpbEFABvfiY18MQEAUCxOrqlw+QM6prwcNt0NAcZX1he8VRUCeNRSmt2ZEQLTz/gV740VAYMOUuHxVREAi6M9G31xCQMzdYyF9AUZADU8or6zsQ0BjhR4d9jo5QKTNqAb9NUVAq0rfPom3QEANiOeNhb5EQGDKPRR5VkVAufU+ZZ4OQkDk5+UQ4+hGQMQy7/TY2kVADBBxeNcyP0AnXzKrcZ5EQCnokHxV20BAqSWykFYLQ0AiHvq26ABEQMAgQksJmEJADADF+lvBPkD9QWvsZRw/QK5yISD3JUdAk/w9cPDcSEB1kcNo2iRDQJ/aOom8hT9AjKqUFAKxPUC+YT2KWeJEQF/We6k0ukRAOo19YHagRUBS8c0toIw8QJx9CfV7GEFAqiNkhGFtR0A3eKhSNYdFQLcmYkYyuEdAFBAoB0Q3RkD5o4GroytDQB5Iyw5CiEZAfHNkQ3goRUDv1p6J7cRCQI+oSHVOcERA1arcpTIpP0CNR2lAiatBQDnkBwZ+CkRA6ER66HxDQEDX+PFr63RGQN70ZPoy/ERABUY4538bQUCwCIsMb4BDQKEWHHqq40VAIKeMc8WDOEBwex4nErJIQMJN9j5hT0hAvs1DjR6YR0Coeb7gbTFBQEx6O8pe6T5AAbBq2HIuQUBKZO26G449QPR5q41NxzxA4Zr57KuOO0AJhRD3ubE7QAeriPcZxUdAJMdXgur4Q0BL3th+2U9AQKTyQ2YFDENAjhE6csBMRUCLuAcgScVBQLmLEsdAfENArDOAlo+gQUCmqb3k1v9CQBSDi5YfdkNA6n7nB5RQQUBTRge5qF9GQJmGHMSffkRAlOEnyx+gQUD0DuuNBVhDQNQGUSuFZkRA4VHHTN/lPEABDnT42pw/QEd2/Z9W60NAgxd5C46uQ0BUi6iYCWpEQAzw/37SqUBA6jnPRrRdQkBNC/8O4ERFQA1aeDWVWUZApRq31pzMRkAK9SMTB1hFQCjKxiB6jkRAI4YRgHXBQ0DrAmAAn/tAQBaHhKCfo0FAUFVBmjhDRUAvBJj0+ehBQGvS8IiTSUVAd325kVuOR0DTN2vAe0tGQPTv2QOoi0RAexWHEoOUREBy0U1N8utFQG4a9uDK0UBAvZ1SVNIMRUAQrslDDZxFQAb5OZCDkzdA3CUcKvVXQUA345RG46w2QJXSJtKf20VAtXVx27hPQkDTtLc4cgFDQJBmNI+hYkJA0dzTyj/lRUBo//Xd0z5GQB+udBj7r0RABeSDKM+jQkAN+wr8rZI6QKoaBShjJz9AdcFmk2y9PkAg4C6MTcdBQKZ83L5xKUhAzSxijVN0SEAstMD+lP1GQDwX0fGI20FATN+FY29fRUAqQM8ZNnhGQJp6yZFuGUBADI8nixLJQkCefi4GvHhCQOYcW+e6z0RAMtN+7eivREDTPt5+zC1EQGyAveE2M0BAstxVgXIUQ0Ca1dMjPCxEQKItdTkHS0JAV3HoSk7SQ0Ah7riGYe9FQMTRMu4PKUJAqEn0cJmXQkDGOTCeKVxGQFRwWzdqHz9AIdMOLpClQkCwSI6x+Q5BQHAOI4Z5OENA8q/JocO8Q0B6G90jlBpGQIARe4CoGkhADIP7l3u+RkCkF6J34f9EQIRScZo4lUFA8MBhanwgQ0CbP6RN3FlFQP1YhPIBBTxAXA2Ur3N7RUD/iB/m5t5FQIUBN37ILUVACUrnSz56RUDkJBFCRJhHQPM3kyqr60ZAosVa7en8Q0AyRW8tOM9DQA/cAeOL00dABszDC4jCREBoHeHbA1lCQD+RNYrjvEJAU4rEZ6bEQUDnIGqBzrBBQCTUQzEOrERA2AJZn+6HQkDmjab3LJ1FQBFBR/FDU0NAkZNejys1Q0DKPara0eJCQF4NLyLGuUJARN6Y9Uk8QkAfoJWKjABCQEMJUWlHZTVA4T2JLB5eQkDameNOzo4kQJqnNCFOtERAglDFH/ZoQkBmufjmx4RDQCzad4Ql9D1AmppDbUG2QkCK8p3WUx5FQKIhrjKekkVAEKGmjnwbR0A2i+pmfz1CQER6AL9r/UVAN4tjgpeQRkA/pJ2y/GhBQDGovDJQa0NAV+tvcpKgQUBO8eXRSL9AQOH1Z9dV6kNA3wJGQ/vZQ0D1MIWEfHtCQB1wAFC+bERAxpa8iL/zOEBI2nY8b+5FQAiKejyNyURAHEDPfiO7REA9kPHiyUJEQEZK0yXw5UNAAV5NMchAQ0A37UjQsAhEQKbMWi08P0RAXQoTPt5eRUCdEZqkyRxBQNKa5F648ThAk885X54qQkBSXVyMh9tBQPh9gL7630VAx3NonH0iR0B8DO1pniBHQA86B9Mg1ERAfj2MCz6MRUDB0br8JhBEQNtmDj1TvEFAJtuogo9xREBCyfi4Th0/QB+gNy190kNAvq0Xl3LVQEBW/ABPB4RBQJ/M6rz78ENA0nCqqSUCSEDFXSjXLE5BQDsI4JnH10NAygaMJj/QRED9Iczi5R9IQLoVgzJBZkZAy35fZfxeREDAcCmCrchCQJ4FTaNWqEFAGBvcPi2qQEDw/9KjTNxCQKJlOHSTGkZAqPthtvdPRUD6W27edUs8QMG0kfeIKkNA5/IZnrKJREBQF8dYBwtBQMwLLrlH90FAMb4swaTJQUCCTWy9aP9EQCJwz6/mB0ZApO9kY/EoQ0Ctjv7VFeU3QI1j6ldvGD5AVOgz9GAtRUCxN+nNh1lGQMgjS94xUkdAuIpaAoErRED+zcagVPZFQKgpQT+xO0ZA2DINDaRyRkDaPSQbeKlAQDaLDnxVIkRALgHp0TwyQUCcYB7UtqZDQN4zkyB9KURA1X5Syo0kP0A2BX6oSg5BQJAwJhUn00RAn5XOMBq+QkDM2WGhYjNBQKn8/1g1vkNAQ99UkjKRRED3UirZYqk/QOVMK8DY7UNAM6v10K1iOEDQIKOfb7ZAQKOVzqvS80NARB95FhzBRECxtrifBjxFQEiPx6DnYz5A1vVLyxziQUDw7D91QENBQK78w4rqCkZACUn2gK1QRECiRyU/Q8lHQCMr0rS9UUZAqV1O0rlBQ0DgYGkdm/BEQAabGEYRh0BAYX3k43c5RUAKV5lyRwFCQMXaJwWyvkFAJr2MeRhdRUAx7tCO1ClEQFKsV2jcCEJALECNpRuBQ0DZXjRgvAFFQG6oVoy2rkBAdX916U4IREAcWqEGKoRGQEuIUJwYtERAQFf9g4NaLkDfK65wUCBAQGV7ZDRsdUBAh0W22N3OQUCPWL2eVwdCQAlvvpn/k0NAFMcMqEtRREDGcnTLTClGQKi1L0suqkNA0MVQlOWDQ0Cku0KyD+pCQLSYnDw4EUJAuTsI4C/1QkD0v1noROFCQJtXSFwgokRADpTuJexDRkDVhTY9PEBDQBbIOPXumkRAZICUuNuOQkA4gk4DUM9CQG4Fxcnhdz9A1YvR+QFnOUBaY/uhcUJDQHKJTrszXUNAAp7U8y12RkAaNR7e2BhFQLIeBdBcb0RAlJ2FFgcpRED4yGrjwo5EQDTb4gy6TkFAebOb2vaCQUC85bw85bg/QCTWb6SOBz5APhLOEhddQkBQQUrhuE1GQOjD/ltvGkZAocMb6JSSQEAG9RW5t8xCQGOwmJYiFEJADYPuRpAwREAWRPB/mYZBQKyUOfaSoENApgFJfJpsQUAuj7fCORVHQJ7q08Yac0RAEXugmOzAREAFMFSWa2lEQFDDKhNWT0FAapsnGtkPPUAwbHsFh6pAQCETvANM/kVA0kZPn4AdQkBB3zuIVkI/QHp2a01tbj5ACnobE3PAQUDcDpfFO+I9QFrgA7LDMEJAFuJWDd5nQ0CUV9yjZi1EQAvbNQQ8j0NAKA/ybZt7QUAzKaT7gtJDQI9QOt5dUkdA9oVfsMLvO0A7AMVzYiREQA3d9UNpx0JAGSdTXTLdQkAWPlu48BBGQL4952YljEVAZRpAPxiRQED/q9QSWTc0QALV6cZpq0NAdX/t9wpXQ0A8/o/cERVEQMCfry2EW0RAKEasmyzMQkA8++6HEOFEQCTKdko94kBAqKquANiNQkAV+y9m7LY/QMUMFhGKj0RAI2LeeuzVQ0BGdxc2mCI/QABRNZFYkkFAoXNM1Y4vPkDgc6vRu+9DQH6XiQm0yURA1NEoUPYqRUCUdiVGgHpEQJXQcTUYQUZAn+x5LFRERkBQihm9/OFGQOMNh47NgURAFdKI2E1WPUB2n5HsTilFQMTUTG8ud0VAz/aSLH/BQkALJOa/Bxk6QJ7xsdwz3ENASATK1J+9REDE/C6X+bpHQCKKnJGP20NA/16ZTgokOEAXS2e73QRCQI6U1ugqo0BAA55tE8ceQECoLG0xr3M+QNtTKr8vbkZAZUC6D7xcREDCN6ae1JE/QDly3anm4kNAWfz0OjhwQECP/13ze0pEQGof7v5MpERATmKqYZCiQkBEkBC76j1AQDPLpBT4N0RAgz7nNQ3pRUC+VpJkeihDQLYq2Zd4lURAGDl8EFB+REBxIumV7yZCQIsnhlnrkEJAP6ycC7UaQUDiMFNR4i9CQIBluTmEWUZArDXv7k/dQkA4QRnif9dHQJxbq/qGHklAtSRkPU+iRUCnQbgLVy4+QJTG+/aWkEJAVPZUxPccRkBon5iO3mxFQPXgKhTKH0VAg1pH+qrNRkAdxAzgeqFBQC/JPD3HEERAxLkk/zzxRECN+fvh/GtEQCSMfU2jrERASCUZokHeRECq4EJYUNI+QMRTcVO9kDpADyQQLmGFRUDcp9NDr6xDQISn4JuolUJAtksghupkRkBZ3veP8zNDQIy7zJ/InENAobsu5hgSQ0DOvGVgzgVGQMlnTA/HqkNAnQ5wf7WZREBQ2387ufhGQJ28/40kzEdAvAjT9mN9RkAQlcrc5IVIQG3XoJ1VGEhAtHnC+bd4QEBfcpayga5EQGly3EVRrkVA2Bbr4vFER0AIJtfUD0k7QLoSI7qS2T5Aqlt1Edv+QEAkjeQc5FZFQJAF+ZrCGzdAA/Lv83HqRED+wwMQ/Fw+QOBu4L2y4UJAdZvWkooeREAZdnKgib9AQNucP4HNGBdAnR1MdHFyRUDonpeYviFHQB75OWH+tURAC7LLmKm3PkCAMcP7MG5DQIRkNRpMOENAdWmhBA12QEAzgkWD7tdEQAxqd2OpXUVAZE3XVkVpQ0BkQ09+AANFQJfa1HG+VEZA/r5amqkjR0A89f7yM2U7QAb7K618tEVAT4Fw8ZM3RkAM2N72VthDQAgTk0EmbkNAyJznPgQDSECtFj38o9RHQI1YIwdV8kdAxiB2ZdWEQUDLcau30/Q+QBP1Abc1gENAjh8/iO2JQkCOoDhyBHs+QBEnRqt3HD9A6+pNjVpqR0AxfRjJ5W9EQF1E3glmDEJATx1rxo1DQEDcUO3ie29EQACIiC24K0FA3TTQTfqTRUD15f5d+XZDQGftSpVsL0JAFJYmyfKJPkDRSu4HqxRGQLeOKKh8a0RAxcgkfF2UO0BiglxW/RBFQDajebpxCEhAUXdo3CBMR0C264xZb3VFQJN4u2McEUVAJI1XPXMPREC9bjy57OZFQCl2TYunv0ZAFx/Bh0lOR0BeGrWYJShHQPqw3wYXvUhAiPusl1nMSEDcpRFzBeRGQF5JSZbaIkRA2h50mw1aRUBM4N8N8pZDQOydootm0ENAXweLLvw0Q0CcMZc7RNhDQKfJ4mXyP0NAUiwEV685REAiXqyLP35GQKPvMT7lcDpAtIA3VVuIQkCpDBXcNIpCQDThT9L5rkVAF7q4Oa6AQkCWZOmTustGQFj89Dc0RURA3nPUAVK7RkAGCnMYbuxGQGJx8UrUjkRAYOqm7D1fQ0DHnthGN/lAQPWdPvLE1kdAw/6Pf1ZJR0AUNg76RIpFQBEEPf4fp0FAz4w0vS54QkDofx92j3ogQBq6ddxBGkVA1BOyRhdrQ0APgEHaJ7hGQKbJ18cn5TpAfZTflKWvRUBj8yjI9d1HQNA68OwkPklAS8DZnADjRkB/52UU9e1HQGvuxxniaEZA9Kkqm9RBRUAl1WnDCvJGQFXFor1pC0ZA4BliHyYFRUCHsKAuly9EQOIMDZcux0ZAHi1zq0BzMUA8JjpIZxxCQBzdPVuaEz9Ae0GWs57lQEC4UdcENRQ+QObT/vBPgEJAImoBTc74QkCJvEbFIR5EQBTf1fMRq0dAucKnx+lfQkCXNX9HoMBEQChqoOYfLCVATYZYGwT5QUBZDgzAwh5HQLxpf+LBfUZAfc7MYWdsRUCNXV5usrFFQGMl8FXu5EZA3VEVMRxrQ0CyUeIForY1QDkQyvfWxkNAvlBMbIOTSEC8XW1q2W9LQL/1uIuWKERAZ13DF0+oRED95xp+CfxDQNw+L5Dm70RAX/a5SRvHRUD5ZNoUZP9CQDUXshx6s0VAnqq8bpZqQ0AiLxCIs3dGQL0wAk1WBUFANogKUYE6QkAehipJ3jpCQK8CvJyUK0dAl7cy0+GORkDouAGYH/REQCkbD5VJPkNAiB4uIX03QEBLgIPjwlBFQMUlUBDw9DlAgpQXp8iLR0AQ9q5RgbVFQMRszZlntkZAQkeh2hYtREBYNp9eZEtEQMEDHYkUdEZA9E1svKNuREBUs7GT94Y7QJDhDgtEwUFA9Inv8nxqREA60MCnjWRGQIp3Dl/f90VASIr9ao9UQUCyTUnFE2NGQCf21KVlgUdAeEOOvfqmRkC0p3dSTkZGQJr8spqhikhA+Oe9Qya7REDrDZZf9SlAQGd3H961YEFAmvhezi0YREBlJKUpeTJBQKh+6JhBrURAihPLxe2NQ0DT9v4bAzZDQDolk3Vu8kFACr7k/Cq+P0AYoys/tUxCQImbO2ZfekBAvMakBMTFPkCmcOQg+9I5QBIsppesl0ZA8XZ1Z9q2RkDqsNbkEDFFQIQjOlPWYEFA5TddfjtlQ0Crc3+bGtY8QBTfalwvqjdAcO8RpZh3QUC0FSwkAlE+QJjh5Z0zskVANC4ylxOoR0CqhXk9cjJGQEKmEaIgiEJAdDZ3JQqHR0BxX/Va3llEQETYu8dfjkZA137KSQ7dR0C+/JGm5JdGQFOnA5nu+z5AERIY2V+YQkBa0tft9ZA7QAZQUJFdJkJAFh53FBJ2Q0CcelKKJaFBQEYyTAgX0D9A8FXzVPa0Q0AxJCepS6RBQAwobKJwPUVAqMrKvKY8NUA5VXCGWDFCQO+BfKk7/UNARm80v93zOUC+ENfcMSY7QMrwx14HtEJAvoHCDm9mR0CM8ncyzZpBQDaeBTEQvj5AJMxCMHtjREDqz47QsU1BQOdpSWeG2EFAiaFwntKSREDSiK31lzdEQG3frXFo8UNA3cEWbby2QUDOEBzfq5RDQHD26GMZxUNA9KvitW3HQUCnBIFt1BY2QNWV8PShv0NARbUq+ZKqR0BKoBaFP15HQJuP36zIj0RAp3e0SBocRkA3J2V0cPFFQJJWAwHT5UJAiUMhS60vQ0Cvlbv6GrJEQBkGr4V3+UJAMrnUyybRQEAgxk91whZAQFDIfgYwQUJAAIxgiYJzQ0AXG+NbhYpAQDvlxUh3XEBAy9y7VOk0Q0Ceum/itZxAQIrGAW/rFj1AqXB6zepkQkBLRsZhABRDQALj5DPmljpAvYqrrwH2Q0B7psk6D/5BQLZ5lv0sekZAEDww0z9ERkCUHlOv4fpEQHFtDTfl10NAoOr/qz8SQkBM7D7Av4FFQMLA8Eh5jEZAd1neI6m8QkBXu2xhyxZDQANRzFk/m0VAlQU6XZc3SEBzzCgw80RDQHXPZM8OCUVAhCf9vm0EQ0CsjweinAhCQHO2rgsXlUFApjv5Zt97REA2te5UOEJEQKon1peGJjtASzBdriNzQ0B8XxQaMN9CQBBJ6ptrxT9AB7/6Px+XRUAenHRMBONDQI70UdsvDTZA4EN3SKDuQEAxmdNsY7RBQIQqspCKfUJAiYIAkJ6nQEDuMuURaDRFQGyyRI6jYUZAv3xH1SmmQkCGrrGTgatDQC6BqhQat0VAeJi46KzNQEDoZYX9Aos4QNqqUil2Mz5AI1T9azQERUB9ci/X+ZVEQJkDms0pmUJA069ZKxkbRUCbDKzQjt1CQOy2KRGQOEFAeIcfD5GOQ0De66EhfH9GQCmx5RclEkhALs4KS1DwRkB0zf1xFINCQKGlcMurzkZAvL1N2vqGRUCKiqJhOnY+QITxpbG/1URAulKLVGN/RUC3q9nyVkU6QFAZT2wsSD5AjsRSv8s2PkDsrRN5Wk02QKbSN5GEvkNA9Gp8kCp3RUCcjogp4LpCQLxRjy4+u0BAEkSmBjtvNkC2T6huRl9CQEC0Rbg2VENAsFSSTK/9PkBeE9IRHMhCQHhJmnHn6ENAGd3CvsXvOED+u3ETTiZBQCcF8E8h4kJAsEbVBoJHREBmGlfIvZg1QKOA/rT3eUZAgeMFD410R0DrXMzp7UpDQEtCCpl8u0RA7asG5W08SEA2uflKqyRJQLDYHGFdLkZAqn2OBjBkREACH3ChqLFCQGxIPzpxD0FA/a3LmGGcQ0CcBcfB3aw9QBJv7dnHMEBAeGWz5jFARUDioSpsZ4lDQMHvmwA090JAOvGFE0TAQEDLlLt+DtlEQCOq1r5kSENADK6/Q12DP0B2YKgOKB9DQAmYIszaS0NAkpONMR6DR0D+cErcIW9EQGZIRl2dyUFApDHdWbnbRUBl6BKvnrVDQJEVM6dgEUFAsgd8cX3qQkAjTbdh61pGQBB1hF6igkZAN0c3QY5JR0Bw7lEU4/RDQDzSPvd/QURAgp9MdORORkAgwhBUqJpAQB76DA7KEERAf88+xUbKPkDFe0ekxZNBQJ8LbKM7Y0JAnRKGZvzvRkCXFEKE0VdFQDEPH/1bx0FA2H0f2VL2P0DKQ9PhXWRBQOIXCQgQnENAnBPvXG07QkDQNDdtj8NFQHuNpD7qFT5AMfvV/0P/QUDm93VQUAw9QAnwYVy7oz9A+OYq7rP3RUAwZCCzB3FFQCHNn5ZjPkFA8AmWrFSnQkBJf3362mRDQCq1OhCG/kFAZOSsSonERkCxQ3gb5g5FQDmpCUsLgURApEvuQDECRUBpsbavenc/QBfJSrIl8j5A90ohbmg8N0DMCU6JQgtCQOgtuO+LdEVAoOqTxZclREDiPzglfPtGQH/GL9kcmURAGAFIxhPkQEAc6J8isgRJQFUIDu9VdklAzBwwvusjREBVIV+VbR1BQA5ocLzwRkJAFQIDCdN4RECzzUdp6B5DQDy6j+XNcTZAIE3JwgE4P0COhoy7XFpEQPRxuJEfIEVAsj7rBVAYQUDk7rjTrO5AQLO9R9d5/UFA+fWRKQcIQ0Cqsmf/MUpDQNNrwIe1rkNA1nA0T1mgRkDyRBOqncs/QHy/TCBuXkVAFxCfz829RUCX/X7j4Mc5QPNg/R+nv0BALz2klibgQUC8/9LfQr9EQDBZCvIoOUJA9qtH2D6KREAVUu0l7EFBQEz5FC7EhEVAsa22Gy86NUAy0s8LGfJAQF793dVKeD9AYjqq3ifOQkBDE08BrJpBQIKyO6h1rj1At4LKtEsJO0BxEWHPBP5BQC8uK1ODDDZAvsMCPPm/RUCUIaW+6cc/QGY6mSPONUBA4uGX8RWFRUBgG1ruZb9GQAObJUUvzUJAXKm6eMrnRUALQKU5ezFEQLhwbk8nZEFAkhllpxLXQEDQiKEAFdlEQBlvmvEMeEBAy+RvuHWiQUADMniQAUJEQPyqCPMVv0BAhN13Qa6BQUBuRrAtgQdCQGQIK59qsURATxs5LAhOQUAuKLYdy3M+QMisEqozT0RA9hTwPrdYN0BWfkv1t0RFQAY44l0lqUBAfQ6z051vQkC/C4eByAdHQMibcjJxiENAm7JQL5BUQUAS2MWsrIxEQDiz6G1bWEhAs8Lrd83cR0D9jzryOFdGQLsZKylfezVAjHXfLlHjO0CND4W2mxhFQM3m5Pq280VAArbLgqxXRUAnG9g8ojpCQILIvX/XYENAbxDGrbCIQkCfkg0nsmhFQPiIfyuMIUBA9Ue+2IzXQ0D8XNOhu91EQDd/omihG0RAnvOSjS5ZRECQepvuewFEQJLYKi57HEVAQD1Rsn5kQ0BCn7Rm22NCQPBDJYTtg0NAvgHMf4SLQECUDYUoOP4/QO1Z1zfb4T5A10aSXEXrQ0AhI8Q5io9DQHPNIjh/tkZAPJpskwXnQ0AxjolI47tBQGmPGLsUFjdAmA+/E0wiQkChNjrqgn5CQIOXNGnhoUNAZpVr1EmsQECosSJuXRpEQOKbRe8IskJACCoJkpQIQkCQihDNvptDQAoYscTBez9AYTPsRQaJQ0By1JxUZmhDQPDDpdxJgkJAl7CEjIn5QUBpwPFm8k9AQEOhXxbggENAHo1hYQqWREBYLRXXhxhDQAShbqGQj0VA3WullSJXRUBEhP0rgfpFQDwQqn47EkRA2K852mFiQkBgE8LT+opCQJG1OVf48EVAZcuv4CeFQEA6LxupGag9QD5FrTpVLjhAkza9QDDlQUAcCWO+FpVGQOcffEO4f0RAK1HdeNk0RkBODczFI9NBQH+KHp3g3EBAuWPaNz06REDc3QOwcC1CQCbkb/eXFENAKaoLQQ+mRUDdVrjWqY1IQGJAgco4P0JAriHipaZDRUBK9bF8RuhFQOQH7JXz2kRAEZGXTdqkOECe7UpwmaVCQC/H6QY6LUBArjwwom2KQUDqs3+BixBFQF2955KTJEZAtqMgvylbQUC8fF6yjlhDQB8NinFYPUFAzckbzWZ7RUCFGSLpcjpBQKaNh2xsJ0JAPub+NYS+QEBmabzJSQ1CQORV4XWJJkNAhlEhDbn9QkArRofJ+NtAQIP6E4k2AD5ATI1gKrm5QkDMWP2z4MJDQInEXf+n6ztAaxEpj9N7Q0A7KU6Gz3FBQCJL5itGvTxATsgPI073QkAdWYTOKbFBQMnlnc1yVURAhxYwe9mRREDmCadg5WlCQEuAw6FNRkJA+ImwqcmFQ0BKRX1tAnVGQEDUtjeQokVAeL5kclUiQ0BX6w29Ag5EQGZePds5ZEBAYgInpjAJRUCPv9M390xGQLoBAWLDdENAjIykhfH7Q0Bc/nbhGAJCQN/k2IbRYERA13G+bqlfRkApM5gQ3qRDQMyxYI5IGkBACi0JEbR+REB0lnqmsIxEQHBM86ywYERAMFjamyXaQ0DHqjFu1XcvQCadjLmqYT9A66qerGzcQUBeGlBJVtFDQNJ2Icp1iEBAgO8clPpkQ0Ad/rxdQ/hCQPP6l2GF0ENAJF1pFrsiSEBDYkvI/GFFQIg8RQ/Nlj9A2t/Fxu6fPUBUs4r+ofpGQJYY+Mwj4khAldDO9t1aREAyHqOzsHU/QG8ZP1jEF0NAOb/WgLvJRkDy8b/P6zRHQMJraiSxAUNACMOZEdjYOUCz40FfaY9DQLjZZNOkRkFAonMHSsk7REBAIHGbIyE8QFpVliV+fEVAt+1ZDCrcRUD0gweRdQk9QKTY3RmsyEJAVf/NAA4hQkB2q/bVLQRDQJw4nP2E2ERAbFZCBW6UQ0BvV95xDTg7QJ1gPyjDI0RA2A4NEDjaRkDEVKDZg8NFQIx5TC2dX0BAVEw6+1ydQEAGu0A2BLxBQDJJwu1wmUNATLZKWxxEQkC9us3V+OdAQAVzUndwZkFAt/Zr19TCQkASFlEjVAxCQPNfbOnGKUFAifTMPJhPREBM2Iy9lZpDQNi8w5eLNERA0QFZwQxRREBPBtJdngtBQFZYnhFzJUFA2FHI5raLQkBsqtnHavdEQPetO2WZKENAn4y9xjvwQUCDzViiTwNFQCbtxbRXT0VAe7Pd4IGDQ0Dbv3Yt+hhGQNngDo+2vENA2nBvhRhYQEBrdxPtoSVAQIjeO5e9VkJA20IyNS5kP0Dg4JGmMPY3QGu6pU2EXUNA4ef0sAVLQUBgPw7CY746QAS8mHQgx0RAeCV9DJLJRECeLKZ/hZJFQBq5hnmdSERAiOYyndXURECho4cPIXNGQELorHXyt0RAWtVeJFW6P0CzmsZPfidFQJw4N5NH0URAMIklqStjSEA4Z83xD6RBQDNMD7SUtEBAzB61Bt93QkBMqXdrpPRDQLhikNU4sUVAJzKWN3J/OkB3lkRH/AYzQGRg82hV60NAau2OPfoURkDd8pWIgOZCQIbZKxv1ZUJA6CMsVeR9REBT77zdDDxDQNIGYj9x7T1A9i9uLcGXQUCZ4Bv6yOpFQLGNNB6V+kVA7qHqfSQNOEBh/0l9EFBDQLP6JddUqDtA+tHFBVOtREBBehYEIwxEQNbU/h8PfERA5oHfYEeYREAhfxzdNldDQPH2E0vrQjZAd3UL4oSJPUC+3dxqCr1BQDYTIPXq0DxA6i6MvkUEREBA17K0OFJDQOOoEKSvBUBAll8xeathMEDZoNkjVgpDQKWzNBZPjEJATrOVdHQdRkAdV+13dldDQFc9JChOzEFAK3SxY8mIQ0DKYf6Lr5tAQLGO387P2TtA+YLyM7lLQUAEzd4Rb/VBQCZEhzUVlT5AGJck0k0kQUD0vPxyYv9BQJ6WpGe9CEFAVI1ERbp2REDUlchL8ltBQJsH3N6EAEJAbbgyg6DGQEBC0COAM9w8QEV6In7PgzpAXU5/JO7fQkCy5IWQPflCQF7eytsJmTxA+5utjqcnQ0Bx1jLmpVNEQE9nUGkUbEJAIv3/DEbUQUAaKQZOhmNBQN+gcSYZbUJAeXtTHJX/REDqEsa2LWxAQKj2vDLgSEVAF+9631Z+SUARtLroQvNJQDHjB0QhEURAOKXZK/0BQkDvT2KH4phDQEXdn/x0xEZAqS9tbaH4Q0AESl1IKQk9QCpd8T//qTxA7X8thCe/QkCbAOCEBl1DQOuFN7hlAUVAGjGqs+Y7P0DKbPqoCpM/QCkebxvJSkRAWZw/4D19NUCpmtBqRvxEQBBZ02CBYkBArAIa66lAQ0A9GPynuo1AQOWlSEVhy0JASEyDF0IqRkCOYNNL6mtDQGG5EPumyEBAmcdDZfYMQ0AdRDnZhCQ6QMF65hD6YkJAm05dxZcOQ0B3O3xLHJQyQK4BoXLUSUBAZzLulgydQ0DJsPy7qLlDQCHlW0rf6ENAq61vL+EsMkDY5lmh9TZFQH9FMyNIlENAO5dA5N5qRUBukOBrL+A9QHQrbjdKS0ZA6fN5P650Q0Cz/vtXjFxCQDq9d9v+LDtArgz6Iol4Q0AK0aZH3Hg5QA+Of2c3PzRAhNs8BpNmQUB+4qlcY6FBQGTzJd819UBAF0f4iJXsQUBe+WJCS69AQE4SmposP0RAzm7SWXQiQkClL0bKZfxAQKOAtkY2PUJAt/MNb/AkQ0CyReFYWCRCQMCowf3KRUNAFiUplWV9REDbcQeVkho/QDjIgbBi8UFA10miy9a8RUAeuvTZhA9GQETb94hC7ENAJluZUyNAP0AltChbCQFDQPqPgdsf2UNA0kXyAyh1REDgF4VFBGlIQKFq4nxMaklAWo2TqljxQ0DyCA3Onk5FQD95VXkkYUFABrLKjBz4Q0AR++8QyVRDQETwX5gPUkZAl+pLIRrjQUCuVN/xLRJCQApZ/TvoLUNA9kIhAUaFQ0ADzv1os245QFVx8thwzkNA2Tg/F4eZQkCBTHWrdUhDQIEP40huWjtAceaaWF7IREDxCKguFGFEQKD80DXxNT9AZXoGPGXjQUAN+MZLm9dFQI9sNO3E80RAJsTIg1o7Q0B3KL0ReoxBQA6JDxHOEERAm/V1Abg+Q0DULcdhmnxDQHLozDmMdkZAZXGthUojRUD4EQBRwYdBQC7eyPzfSj5AurJBIFBvQUAHPeWIlTFCQJF8FDIEUUZA2v1y2GhfR0CgbV3iE41FQGsBob4930VAeJPKaoMOQEBsNF2p8nVCQPWcELW0HkVAixBSxvqaREBZE9P4NulCQO+YX6sGNENAOrXsRHciQ0Af8Z2QmRdFQPQOfD2cykJAKTHoqYS2QEBmLBpo4rlCQJseuAevzzxAXFnYm45MQEBfrkbAIHU9QC5CflfsgEFAbxnCTQiHPUDxZxpx15U7QH153dgi6T5AiSzQQhwNRED4W7BicXYzQLK5kb4Cq0BAHiAFJXjQRECW8ItIRq5EQJ5vVyQTCUNARtUAtwFqRkCzZjCagk9HQPRobHV1d0RA1ZxtyMb+Q0C/xvh4aMxEQGQHTfLimEdAXb2LJkU4SUAR/A9IvthDQMCP5XDDXUVAVj8KqQijQUDt1UQDrWZEQABdKCPEl0dAb8Ox0RxeRkDTqRmDWZpFQDaTt1IA40JAFTgk/ba3QkD8ym+l2A9AQNwq8reWnT9AayS6oKfPQkBpKJICYlBAQDtQVwYUC0JAMSKtovv9QEDoescoGQxEQFFOVF46nENAzyNpCFYqQ0B3tkKCz6Y9QFunMO+gVkRA6V6pCPjcQkAkVlxTB5JAQIOYjOqNLUVAmZZIrbpYRkAIU7S3h8w/QGAKX80CXURAGIWgFJ9RPkCFLiXMu1tFQB3BHA3I2EFAKsD9WsAJNkC2dEgxdzRCQMTvoBBj5kNAfqFmp5iZQkB37iyak9JBQCQj8iGCqUFAV/Rd8Ca6RUA9o2j+yk5GQCgsjjRGH0JA7McSbErfQEAg3r5HuylDQFRw+qUiWjpAe49F54OYOUCHOYKjqx89QC8FdOmCzkJAfStiayv6PEBwD3XvK3VCQHsuIE0y7kFAcXjs/5q2Q0B/re3K/Qc/QCOqBfpG00NAQ1C+bO6FQkCWkoYYRDJEQPnXFi92FkVA2ENOwhupREACWOEB4VlAQC62dbsmfkJAk6KZpfwpRECFbSqLYfY+QGDR60aEpkJATB/pqxaSREDSiGKJzSJCQJwNwmsDg0RADgmCUkCGQ0A2Gxytdg0+QJRa8fetfkBAu7V07NvCRkDq9jNRs7RIQEMqFNBvGkJAEzKzx/8YQ0Dd1HnoDltDQHRvy6thEERAVAnhqiB1P0DYRA2d8LpDQAMSpJ3Lr0RAjDXwJUUURECkdzwm3mVEQK9RuVMktTBAMW9pC9uAQECSFFyfZk5DQHpWvuKQjUBA30tbcDaUQECwP3OljUU7QLMIrED4Ej5AfiewiLvnREBUlMytzGA8QOv/cXnziEJAniVBWfDTQED9tl1NJ4xCQIzPVv31skJAhSdyZLO9RUAjA+hHlaE9QDRAm/QE5ERA0CdEpTP5QUDVki4QdAdGQPwgUsD0DDRANV1uJtD5QkCY0xDxJEQ0QPLI/ZIsHkRAy1jcYGGjQ0CcDWg0MNtDQLrdxgJ+Xj9AYCDudYt1QUDOyRp+di5HQAZp/CQhkkZA7fw8G2Y8QkDzIRn2OAI+QKEuXuJscjlAQKEnHLQIQEC53XDxkaRBQE19IREspERAfa6HTwH8QkAwgXvsUmU/QKaMcg6IBkJAaNPniIwIQUCLHWUpfvA4QJVc6KlV2kRATWAx7nrJQEBA4azIcjE3QA6SmYI1uz9A3PdnW/qRQEB+37RzRyUtQOstzRU/aEJAFCRDwaCQQECUitAUIylBQGD+j8h/bERAmq3b3/WbREC2xmx4NSRGQG2eq2cBuj9AP5GXREQAQEDPVmVvhx1EQKieedzm8jpARC3NrOjOPECcbL84t1RFQE8QMPlfLEhAp3jcJKMSRUBeDRRsqB1GQIwqM592IkJAChFtGlIjQ0DcJyIGDB5AQFdWpXIy0ENAcMZ2qOPCPkDSjnweVIpDQIrEk3Em90JAdpfDqdU0REDdTXu9FY5BQKXe42GjwkBAqPhhWMdAQUAXPxa2EphDQCJeqbNUfkFAU0JmEKjDQEAKE28p2nJCQNQvTcfQpj9Ar6USjWhGQkD0JBIHTUdCQAX0PPsfu0JAnuuGsRNAPUBnNnAObFRAQMK2Owc220VAUx5yq/z3RkDY4V6E/pxGQDCfjtqh+0NApmhUTCl4QkCCMHyqO+0xQFVrb+dS6ENAPF8p/E1SOkCCfA3ucnQ/QPuQZCbcokNAsb3yfeF5QUB1h0PQxTg1QNYbrpE1K0ZARl4/2JI/RUBcmN0NRqZDQJVhnPoAf0RAOW4YENamPUBrWSyzev8+QKForL2BVjJAs34msaiWOkB3qitj3A1DQN0pjoj8FkFAL/cHFMXTO0CccHYqkJ07QFxbFC+WyTxAnwduZNlvQ0Ad8mqu86M7QBM9eeCpsjtAgtbLo0BQQECh0EwclHRAQPzcFdropD9A1Ldgqa4hO0CS8/uC+WNCQKT2m0/3RURAAMpBEnusQ0CTGC3SYm9DQHgYIaiVVENARObQ/BvGRECI/77UGNFEQI7DbVnWXUFANKGWf3f1QkCMOlB0rPdBQHbUeP9aBUdAkz0OjtyQRkCtqaYVrRtBQE7BT2xmuUJA9XCvGr8tRUB9nyvpC0hFQNn0nnNNoz9AEk5PLNQ2MkB7t8n7u0FBQD+cNRV6DUJAKyu0a4tBQkDAO7fSGs5BQGWXwCvUKztAgqskBNhTQ0BK8LKWUx5BQEJTj2NA6UJARb0SU/7TP0DkMLXnYyhEQL8O0d6Yd0NABoDCwELPO0A5aCUcSHRCQP2aQ4Zd7TdAF6wpVy8kPkALaOffqIo9QM34ryfQoDlA5P0Syn/0Q0BPj42qLcxBQK66eXC+ADtAmztZsDFaQkDLvA7OVqJAQGyzCFNnG0RAbrrWsftlQEDFdnwin0pDQJHL86XVRUJAT2eyxdQ6QkCA1V3ZwMNEQOJ5BTx7ukVAWQFeZ6gmRUBi4Q3iDKNEQF7M/o+vdkBABNnYiPMFQEB/ccdhzQ8+QH9SMSpsEUFASANaKKllQ0DJKsDdqwJGQPTgBAylkkFAIXg8EJJ9QECWZole6kE+QNBK5e5JcT1AzJ+mjfYHRUAuJzee8xNAQNN1OcouGUNA01Z5elxWP0DUZj4q5s1BQEHbpUxIzzpAA0I1t4p2QECsVotJI0o5QEh4GrIwFj1A38wlCAeXPUDJw9/+sRBEQH4oqkOnRENA0YOdIzrvQEAr58y1au1DQGtIQgjqI0ZAz1x3iMhHREBsGDL+4Vg2QFpCAuI+HENAtid69QLHRUAvufq03IRFQDJj1eieO0JATF9h2DIrQ0BhD3aDsVg8QHyr6A6ml0JAsPngWcZ3QUByHwGcsyxEQBMySDr4KEBAZnxze1ASQkD0rfTjO6MqQIxpHK13aSNAhcey9mOWP0DIHaMD95dCQM3b3t31U0BA19Tcr3lWOUCDybOwft5DQCbmYRthHz9AtMOoswNNP0AKUILIf8pDQMec4sFKjj1ARWCsBtpUQkBqDX32sK9BQFm9BlLCXEBAT4P3vBI0PkAvq1APZjJAQDC7Wxw2D0JAXFShhef6QEAP5/QcdHk0QEKKueWANkJA4HAyIzclQUDuH16AeCpAQAf4MS+SakJAX17x1Km0QkDpTLA7QF1CQDAkIXn2I0BAdgvyHfH0O0A+1M6achlDQOrnDKh9Rj5A4UC8/yTNOkDNktYoexM8QGVnH5PQqkBAeT2Bn0n8P0DVCpUJe+pDQEjUtaZ+j0BAGZQotKy5Q0Bqmr5zphk+QCykwqVo/0BAcG1Q8ayuREBl/bO05kVCQCQ8hOGeyz1AZrsaLedsQEBAAHtPH+hCQPvnxLemo0FAhvjnYieVQkBLDzDBKyNBQC+k6zX1IkJAKw3IijHLPkA6K1VNOtFDQK8Cq51VjERAPag3s5C+Q0AnnnBm8zVDQIzdPYxNnTdAOdem1elHRUDI88KELRNEQMAiEWsZGUFAP23IZMLRRUDh5yjlM51HQBePE4dRB0ZABd+x8O1/QkDcmlJnXGJAQHzZp8S1lzxAKqYadRBdOUClObeTJzBDQHpnScBFlThAUtuirZcjQUBla6dSKbM4QPSbMa1jgUNA72DuIvaLOECTkDvj61pBQKUCTXzhsj5AfL0UR7WUQ0A2grMrhUZDQLtng3jHG0NAA+dMg65vRECUd+sMArxDQBeB3LhM1UBAbhhtz92eQ0AJ3t4eZkA/QCAd0HAhNTtAb1nVuCV9QUAAsiT0MA1DQN8mF6huGUFAqDPYmqh1PkDxUSEHzHc6QByE/VXnkSFAftWqcw5ERECksSAveWVBQApMvfrNPEBAhI1Il1dnQEDeEChf+ZssQO2bCjpz6EJATngzfhNhQkB212VthsA0QLchBNfl40JApesWtkKbREAT/Td3BRRCQDpdeB0iIERANAMiVKtHQ0ClEEe+A3FAQAaQ7q/YCkVAT9SajGxLRkD4w+PsJg9EQMlBxw1HM0BACoGf0/mqPECy5W4uKsNFQBzOX4JUM0JANY2MbW+9QECsEjLxgJ4+QJRRYsC/ZzpAakLB6EExO0A66qNwp2E7QHESLj+R9EFAywHL9EmAQ0DUlKaeoMQ1QDONAJ7qakRAOqbumbWWQkCw+kN1JwFDQC/oLpEAjkFALB+FfL0sQUCao4KMqTFDQOG/ZpC2gkVAH7lULK2gQ0AKbCG9UYtCQCb7Vh6/U0dA6kobqhQgRkAIYvaO2qQ8QKThZk0HEDxAgBSa/rwJQUBGPvdOceM/QOsjeX33dUFA+4iIFFIFQkDfqDzbcExAQOPF0YpW1UBAs8D4lK3nQkBK/XjrsTMwQE2LL/D6VEBAF1qlKERMQ0A+j885FnY7QLqgzB9xBTlAVsR2evh2PkCj/8BqFhNDQLdWCBdycEJAgygPPXs9Q0DIbtRV0oxAQGTAQ0prHkJAVGRPH7xdQEDQeKxLk284QCZy+T0ycTxAtnPuBpZwQkAMtHxrKbU7QCgottrhs0FA2yrxmcrVRECkNVgqzqVCQJavTWXsCUJA3EEAcj1EQUC28FKC1xBBQB9VBU6oD0FAh7yEJMBEQ0C7fzH2Gt9AQDdUt/6mn0JA31lF5OcNQ0Bm/ZyrJoJAQEABY9Fn4ERAEBurbub3PUC3qxZ0TbRCQBhgShA7G0FAgZ7yC1rEQkAeiFwnBYJAQLKfaXUhEz1ARNySczNCMUA6u6xEbKw9QClAcm1uB0RAd8nmxeb8QUAmDGzvq4lAQF/Tx1wiREJA5OTzXlrrPkDZaRSCGGNBQGKMIO7o+0BAuVGTyZueQkBkfT/pZQBCQFYIAe+3VEJARsEAhH8/QkDCgkwg95ZCQImaSpG2Mz9AMTBdctaBQUAzfSuHAtlBQOqt+hyzMEJARVpNlOb5Q0Bv1dtHIU5BQBR6R1Plu0JATeu8zd51RUCwth55oT9GQPARArKyWD9A0iHRliN6REDk5yvzMG9CQATu3SsURkNA7L2Kx+IkPUAg4PFREG45QA84EQluR0JAarnX9oheQkBwMW3Q5cFCQPax173CJ0FAaKuIn+kgF0B4USewnvlBQNE/ugTWekFAYnVhM/gzQUBPTs4bx+lBQEVKNkXPNUJAAJ/zH3bpRECFKVOlFwxCQF6xLODw+0FATS+4DqCpQUDjLef2M2A9QOHORqJV20FALT+3KeuTQUDWWlkzIYk/QFmmYwQMiz5Aa//0Ms96QUACJDmR1K03QFRsy7bQzEJAxcVE7TMUPUDlX7IyaR86QBTNH5kwlTZAYNS3OkwFQUAFenVY1glAQE9j7YXWk0RAm9nARujCQ0DaBt3WdIJAQNiwnZr/ikVAL3O99dijQED+2/peQbM+QNipJsJLhUJASdITW1tpREBbmcJEIoFEQKRMgv7eq0BA8jDmP3aTP0D3Kp0p2dE/QPYOAEGYy0FA4oLnF/gSQkAymRVX8kU/QOmul1YXrENAQeYPvL0nQUC9uoxiy5BAQFpMawphtT1AVk3gSefbQkDoJMN/o+JDQL45nl8tMEJAg3LS2jWQQ0C6v+PZsJc+QP9peUTZgUFARWgFPBl1PkAkZilK/bpAQH7Y0Dfnsz1A8xRl/gPHP0C/ZkSWSpRCQK0ckVa6mEBAa4hKGLB6RUAGTRCZyK5FQAzNQTJqmUZApdup5p0oREC09rdTAck9QLUXNO8JaDpA9ase5/MRQUAxvsZ3sB87QLZ3Muh7OUNAP0W9sGmkQEDgs1WvT8I7QHA9d2RS3ENA9OPAUxdwRECe/nRHH1VCQMlVqBbh9z9A0bXqusRDQECvQitTDxtBQE5frUTXdj9Au5Kv8ehqQUAFUJ6DPeI8QFrQplsZzkFAUPycvNe8QUAN+gUPOoFDQBT4gr9OIDpAJaTFr6vAQkBzbVsj7SpFQDzZSzTI9URAccZ4uVd3QkCM9OQD7ic9QJxwd/HgN0FA0LTPsD2CQEA/IMA1U9FBQM/50WaMXUJAnebY0D9fQkA8GR/AlmM4QIYUeDWSzUFAOivpf34cRUBkwSCl6yNEQKIG44sL1UJAyxiXbhdpREA+yK2s1IRAQEkTKiC8tDZA1CVbbPKqQ0Aav5zHZ5hCQDHMZFJ0NURAoK1WGZ+wRECXz7pG5QtBQKqxaOpaJTZApxrdceyRO0CsBqvAzTpCQAl9YDXhsTlARnLugyaVQUAov6Cg3xpCQJ4sCJD6MDhAQ3/jfbPdQkBscVof7S9BQA09zEs2JUJAxKbU9puAQ0B0n9b31pg+QOw9JKM4gEJAYDRu9Xcn9b/M83Jge9NCQNY4SkJg+kFAqOcMSli6QUB2Rosw6tpAQHHQRpN5yUNA7DVNkijKQUA++T2oEANDQO0OI4BUvEdAvEKISaOMSECV4KrfQik3QO3ijMnlIkNAGuC0vLFyQECuY8krETNDQIfLeBG08kBAjr9U0HDaQ0DvScF7KCNDQMp/Xg5x7kFAdroYDbTzQ0DU9wjyEBBDQPxsiTcJ7jlANGV0zHoYQkBw7JnSllg5QGKaDPfJKD9ANdpaMTIYP0B+sFr9WG9BQOBIxgP1ikNAUN25xuFiOkCNE7b0GFtEQMCj1QO+KT1Azn/wfmkeRUC+ymV+aAZCQDiyF9Wkmj5A0HbEydgcREBxMc1fXNtAQHY8JVUCm0BA9mXsVeVYQkCy830X7/tEQCOhGR3xOENA4I57Da9EQUBSz1c/OIhCQPUSNpi1kkJAR5J56jSNQEBw93nz2wZCQLyDvmdld0VAaKUOBMKFP0AdjT81261CQJ1GFLVID0RAKUk33qofMUCKLFSZXRo7QNtx8/hMoThAhhL1YUuRQ0CcshKaqqU7QOlOAhTGi0JAAn3QmHDLP0C4zvyh5xFCQM9qF9lhDzpAVoF5+JlWQkBqqQ94allCQJ0INCCxnUFAMrBRJYxNO0B8qIjz728/QEhSmZMkCENAqKqGQ2MmQUBuN+DQMCxDQDa1o3zwGj9AbJdB/yK/P0BaOxtKwlpDQAhvzs0V9j9AKu/yT1vUQkCr2Yz+BW1CQHw572fM1UFAWx0dOPMQQkB+De7MkDVCQHuporqkY0FAve6B9WGxSEBNPKoypGpIQDsP8SfzSURAa+IokESzPkDGc3ojRyVDQGmeqTnAikBAl+AAsYbyQkBORO84981DQEsfqy1c00BA5FaNB8X8QkCDorFlSO5CQItUlE+zUkRARtHq4xmkQUCatDaWM1hDQNWSYJwnGUNAmaR4YlZ5PECuypKqKGhEQF41F+LTbUVAYZbjhi/iQkC07TOeCSFFQCJY/xw4QUNAVeEpfdgZOEASBcCgrTtDQDIdSa4z9kJA+g5pJ7emQ0DfTVV3i5xAQGC1o+XqHztAMUEz1tBXQkAlYfN6Ua1BQDTgIRwKmkJA1xbHYnoNQUDAQKZrAtU9QPLS9Y7WE0FA40kWsYLSPkD0nLWnN+o+QA9VTQVF9kNAgvdLijAVPUDq+gYazwtFQMSIULkPMUVA5B+3i6EPQUATZoowqhVDQKKSy6xShDtAtJFFo3/gQEB163K+Gdk/QK6PhAZ0kkNAYy1ISTegQEBYeODawDg8QFdu8Brxj0NA9mj9S1XgREDFP6dUYPZCQH/Ly6Zn4kNAbGBPgb1xQ0AsWtRK05RCQLVxySSNDj5AY55ya+5uQkDSfgh00TtEQCTfVsNzH0BAqUhU8EiZREBdLKA47r1EQGG2zYO84kBAVt+76t6dPUD2FKEpAj4/QFYio8uBjkBABNwhpzE8PUC+Rh27svBEQMCJSy3GjURAox4T/785MUCsbG1DGsBGQHi/KCqZSEhABtZH1aYoRUAS2fEmgmBFQPWRepCnWkJAFTaO/kCgREBIksHvz4VBQIB+85RwEkFAKjSvuMMhQkA2FCE7yp9CQBeoSTQGckRAxVxZBJxkQUBHXmPjfbk+QByxjGdDsEJAmzzJRy8oQUA4CWDLc4w4QHC6+YvKT0BArpjkSFjiQkBGjGG7c61DQLmZnLPP+z5AQ8AsgIeqREA+zPzn1Y0+QO2OWr51B0BAmYldahSiQkBKvF9nSGJCQM3gJhSXsEFA40hSkRfJQUBnaG3ipLZCQJtAxSqWm0NAn+riDGmPP0BwN7J3JeVBQMeBqmMTyUBArwOAw2IqQEDquSh2qiRCQCgQdNqJlztAIDAq6b2CQ0Bj/zPWnihGQBxb8kjJvkNAQfdx7EBaP0D223oXD+FDQEJuI6l/lEJACKxgVMbKQUCkmJG0oXNDQOHVLDI6eT1Aa90ZWdBkQ0BAfcHIKONAQECKFnu4Tz9Am8p0P1iuN0BR36q1ar9AQAgmg2wfE0RArAfEWv86REBXYoorDvZCQAs2WW7dTjtArIWudrelP0Dr8dcBPQJDQCnHDJfTwTdAv4FT7X+tPkAiXxn+Kf89QHuHx26zj0JA+5ufmCxEREANYPOiEU1CQPU6qsH+EkJAQUYFyVLoQECOgyX+rStEQNkkv+7KqEJArKfljVM6RUANLzv4jL1CQNDPh3iqK0ZA2dYXPat4SEASF5NzoPFEQIgwwBnNKURAB/3ku62wQkBekLIL+vhDQJLpzkbGYDdA7iRYdtoYPkBuSuQrB1I5QEWeBJVskkRAQ/7+euAbP0Dyn5MT97M8QNLtYlPpxEBA7zL6UVRzNkBL1WbHkwdCQJ1LdNZOIT9ABenu+rzEQECq8mlV04hDQPGyFAIwNUNATGtgCsmdP0CZGB64BmdAQOlVIeNnbENAsx8CLny+QEA55TjTGRI9QGOVui9ORUBAHuZUSEvRPEB62NNOa+9CQPxjOgIr8kJAvUTXSS+KQECm3bQcvvtBQDPCtp7yqTdAX8zcPU76QEBOj5mq0DtAQBqu8j1afzJAXqqR4kfmP0AWDf53goFDQFefQUkmSTRAh6NbdmBrQkCYun0svWM6QIfbFRey1j9ANyAu1mG/QUCN7epgoYpDQEZJVbgmIUNA6GVjrrwAREBYWdRzqLQ/QEEbcnZMqEBAhrYdJWmoOEBjbkHubjM7QCDOBPBC+EBAtWifyqT+QUAvXInpBV5AQNtcEIQJ2URAD7j4KVBGPEAxp9gddmFAQAJnv//wRD9A+OZ9FOJXQkCuHZ1TJ/hBQJJHVS64h0BA4I6WHTgMQkBK7p0qeh9CQNLAsJ+7fjVABGEIcKZGPEATSdkc0cxAQGg3FdA8eT1AMQovOgkfRUD4pVlzUrVGQIoJoPBJJUBABlMtw4p+RUAWrihcVElIQKMeWpVrej5AOITMfJ3QQkBEL9G6nQA/QO2JvUbmhThAel8NFkegP0Arbb6DM3s4QNvQIVx74SlAyVCKZ5HEQED4IpsjtMJAQEa2gI9CpjRA2vRYQXXCP0AyNZxN5ktBQD6srp4MIDtATclt8WI5QEB7gFnaYZFCQDcnj3HqcEJArsiaE1p4Q0Am6DGt7d06QAbHPz2fFUFAuoOygxUDQUA7T4cQp3ZBQLCirbjshz9AVkdZkdH7QUDeMP7tjoVFQPHy2Qh8N0NAkL+5puFXQ0Bm8BZZTIhFQBo7o/zYOkRA/Lfb0mIeRUD9EBBl8UdCQMbzdn4c4T9AIvqSYU5BO0DZZkRIZyI5QKDJRfF7AENAJpQ+e2YUREDVCVLDS9FCQLELUxFOVkFAhcmhNWnmQUCoppPbJ7FAQHGzFxE9l0BAwA8AEKgaQUBlOgUBxuREQB7vcpkMIUFAVp12tIHPQUAncb0JSi49QN/vmp5Tyj9AAHS+YK70QUAjXQD9PyQ0QFR2g/ccfUJARHUwC71QPkA64EHsq705QPTAeGFdGkNA9AggDbmFQUBT8ylG4vdAQOZ9l8FHxEFAu8dn7pMBP0Cyo28VaYs/QKIOcO1BhTdARp6Xf6GqO0C7AIdQmdk8QOzY1SwWcEJAxLYFL4MDREAaLvXLGfhAQAZtWh16YkRAJPBAtM2SQkCz7qQ7H7pGQOdWgOq5d0dAFn70SsvTQUAFf1e+8mFCQPovwt6Q30BAzKgJqohbQEB+4onsvfpBQLIgp5eidEJAn1T8ENYHQ0ADcXDz0V9AQFvVRLEY+UNAT7yhGI2iP0Dg/4uBfkFCQCK8v6N4gEFA0rBmAb9APkDbG9nVVGRCQG3dbRp0BEBAyjEv+fgwP0CEb6KIA5dBQNDLpGxz5UBAJYjJhAkuPkBgE0mfgMVBQMTxcQNDRj9AjSxnC65zPEBf8fDxOR9DQGv+dm9FP0NAhwqC4gJYQkBRSiponktEQIhcqNWTb0NANpj5efYRRUDIlCOPP8dCQO4Xfpo2DUJAbFzQfI+LQUC69rNuBZg9QGvsz3LflDlAC+USRS7RNkDorZPjT6RAQBOMGC+3DUNAdJVRz3apREAmHJ7MEuBCQInMKb9sCEFArBvcPBZ+QEBsmOWJ78REQBUS8CdPfUNAQOyLp7foP0DnFOigNO81QOqtPcNXs0FAyibIBsxvQkDXmgXThy9BQLBBYWgmYT5AOr4Fm2NIQECND4xCGkxBQPBa4WxJGzlAbDiVDgz2PkBebzi+oqdBQOpWQwJmw0FAEexd2xA7QkAA7UBAxFVCQKMYeOjh9UJAQuTYTSWSOED5F4JwjYA1QBC8K1Ob2UFABKczdcO2PUAfdPc0t8JCQNMuDqntL0VAgjXTnuP8QUDWpXO2+hBEQF/Af9BUfkZAXO2PxFigSEA1vdQv3fpDQMWhqzfHOURAJjHD0I5LREC7Ax/0ZNdDQLIGRdpJAkFAOsbXk1TcOEA7TjsZ/cdCQDwQ2JQ2eERA1cuMb0jHQUAlP0S2e2A5QDno7k4D7zdADyolAC1dO0A0oRIPZCk6QDoLM+senC1AS3U+Mf5eQEBMpE9MKxZAQL7K1MdqJ0NACQ+QgSLSQEDhGdm8wTk9QG1wTHmlnkNAWGi0fATDQ0Bva+ET3bhBQJ0KwDLeWztAxh5aSuLAQ0BSPwQN559CQL5u99DSbURAo9E4Dw0tQ0B8nV6u4hhDQIyQ89fPdUJABs+GKhdFQEB5QhEfdhA7QFiWMM2K6zxAUD9MGY64NkAwk4eKMz1CQE9e//ZYHURAcA13ZbZeQkCDpYdMAzpDQDlbw6kRPEVAksoRTDSIOEASlI/Cfys8QAp5cnc0dkFAwFl5cw7jO0DpQ6q++jE/QB5knUdJOEJAjDiQsgidPkBDE2lv1nxAQOGK/X7kr0BA6x0ARESfOUAJS5oiJ9hBQLzPopZ8V0BAigtsF/ThQUCg8suZB5xCQEjaRAuxkkBAVE8WM9B/QUD+58vNICtCQEgkWuKKPkJALdl7XzWgQUCZwAEGAdlBQLNs7erjV0FAf1eXcry/QkDWqgCdsfdBQAjwXuFPm0VAJx2MMVD8RUCxhuHxvFBEQOw4PlquYj1A/lwDesiFRkAI0CENqMxIQHqq4ij9MkBADa/y7AXxQkDj+nG0P9ZBQHhpVpS1N0NAPHAm1HTqNkAPmkDem9U8QLNINNCqJz9AdUlwCDaiQUCs71j9FhVCQIq6E5Dv4j1AGkx42CWnQEDDlM2P3JRAQM4ZhuxvazFAi3FOzqPmQUAC1TIXWRg7QLHA4FdQwTxABCAFYDRiQUBmgn645tNDQCdZ6EsBIzNA0potSE1xQEDVyqvKvkI/QNtsFfMrGD9A2jVqffIQQEA7bsZ7Zio/QHK1XSVwcyVA6ZS/NEg1RECUy9VgLftEQLmt9mDu8UFAuRa90VShOkCogcTmYF01QCqqgUtD4zxA7U9mwB2NQEDUN6Q7WD9BQK1r5dJkOUJAN525pZv3O0Aq+LVjVUxGQEuNDzE8GUNAu8rOXBqQQ0BDBNDZDTVDQKc80J9M4UJAUcBKePHjQ0CajRelbjpEQPNgJ14Gh0JAySNMB75RQUDbCTeH/2ZDQCgjDYt5MUFAbZFJQO0tPECxspEYU+BAQHtzj5H7Oz5AW5fN1RROQkDBudlvDTMzQBUfexLkbkBA+iIZndSvQEDjoHnOyphBQGZ837j7+j9A0iQentLLPECivumGYg5AQFs0XidIUEJAuhmFxVbhP0ABa8GJkMc3QN6yNYWg9UJAB3YCE5S8QUAni5G55wNDQJaMBHDdzkBA047TqIulQkDNB03VEVNHQL730B7LS0hABn7dNfRmQkDXq4+Ql/VAQJhpx5ZPWSxAjFjeD8HyQUCeRrXM/gI0QLnqQjSWlzpAOnshcBuFPEDhEQE9VIdCQE2fRAWtlzpALKb2bzu2QUCoW8lOtEo4QNCcw93jgjhAT+N19hqoQUDLN8FkJoxBQHl6WhrWvkBAcDOt1Dw6QkDPSodRQltCQPRfMierLUFAUIxHHeCIQkByH1P+tLw8QGAdUYY+KUBALAc1bmR1MkC1SMV0f8A9QFnlZIKpCERAhdfzaNaKQED5QH7FfLdDQNpKs4/nVUBAIf3lFhzYQkDuhFU58rRBQMSbOgfd5UBAbmFBuFNEQUDINzvNLEgUQLrRIBjPLjtAtZwDwzOsQkC1U5KMPSdAQCaoEmAKzEJAp32EU21SRkAHrNOPXCJGQNkzlI3qTD1AM1WFZWsAQ0Cx3ULiXaJDQDgns9S7y0NAVEaIwavTQ0AzzldeAGlBQLB81ygWDkFA9dooweWwQUAwIyssMvg/QO2dViw42TZAnTl6lYb6NUAZO6OrXuZBQKz5z4v36UFA6gtDMRCVQUAq98aOQUY/QL6II6vHC0NAEO3r4qArQkAHpA8ZZkpCQEzpIGDXgjxAIjyrWUOVQUAXkKp/mf1DQJDQIdStjkRAXvcAesiQQUAcpiu/SVA+QFv+YWXE/kBAmgsO5NcvQUAgoD8cV5lBQIr97WF7YUhAiHr/dBMtSUBRfPn9Zyk+QHEwuYx9CDtANcH+0hRVPkB2JgFr1hlCQKZoDc3Brj9AfpSU94x3QkC7nobku1pCQPfd/qNTD0JAKMGocEmiQkDG2Vp01RY1QKbpwey4RT5Ay7EDMU0OQkBiJWAl+Us3QMNYyfZvJkBAe14UD3C+PkC4rJA7n3hEQIPdG2o9vURANIBO/LVdPkDKR42RxmdBQLxA7tav60JAnWtCVqzmO0BweFFqOa4+QIe7/fmnB0FAq2QIL3QbP0DI73pynNhEQCS93LTwwz5AbvaRTBwrQkAEtgfr37U1QBADMYBEVjRAKPS+rvhuQkDe0FSn4xxBQNreRG/540FA79K+EVAdQ0DoJpCvyFJDQEav9LGB0UJAKtECEOhdO0Dl3WQQVaY4QOjQ6MHHRENAjMJI/LJkQkCSpu3f47RBQOICdpugxTpAA2TSCeXNREBEIKlwTedDQGiLTttx0TlAPJnVjR7iQECVarFPmYZBQDgCLs3WV0JAakBrjm2PQUABak/bJWlBQB5nopTYYD1AcmnLIFN5QEACHaDuT1kzQBb5MGbQmT1AKkag2ZpKQ0BGs6l3yQJCQCgvEWAfekFAQ/87ajfOQ0CJVmaXRHtBQHBuKdI2yjtA4jK+LWq8QECaFnw287g5QHGNgBfm6EFA6dKb5RHqQkAXV0hJMZhCQOtXkNcdakJAQ1TL2HXbR0By6m+9LLZIQH5G4ihKbURA+JK6sLdLQkBTzydCj3FCQMSSijmun0JAWiVLNiZGNEDjuq9gTyJAQPnje+Gd0kJANKqWUpPFPkAwKBZ8+4ZCQGdKU/CNM0JASa7MBp8rQUClzKtArLtAQOjcRw20ZUBAu1Az4C/EPkB63ai4UC9BQAs8A8oF7EFAr6ZuBtw4RUA/tlMSh6RCQDrMvG3f6DxAIiVS/n8GQ0DsaMfI6Kc1QI/P6dgkByZASLhT/texQkDzlBxRnMJDQFTB2EVwqkJAIHhXSTKyQUBogvdG49xDQNJtL6wDIT5AaBps7Gx/PUBhNkkcLvI6QOZ3NuMpckFAi/UAmjRGLkCUaAA7ZbZCQE2WrWv5dUNAMhZ5z9onREAswL8Sm9xEQGSUjId0YUFAAN9iT+5XQ0BqCbSGCeI/QJA0Y3w9DENAAouaiNiWQUAz5Icj29M+QDgrnHb/8kJAAqxtrcwwRECJ6bKvJOE/QL38apv6Nj5ABta7Y2pnQkAzWlsj2RdDQLZZqWjFG0JAmtnvlqxcQUCTvSS0OYk5QBbkdcq8tz1AG5ixomHcQEDySSSi2Ho8QJl3dWl3a0BAHL/UUvFaP0AMgz2/igg+QOCKgDN+mD9AOAXUmxVDQUCh90S0W/o4QEL1x2ra8UBAMBh2GuLQOkAJWQaJdtQ+QL3fvpLVHD5AWWiy6IxaP0Dhxs6Bu61GQI6NQ6q0p0lAAyKe4hXCQ0AsJoSWzStDQM48F9yfc0JAaJPeNIkmQEDzvCA6jU1BQCmjtDw/mjJAImqiaZQBPUC4lpjoFHRCQFnpBma0y0BAg6qnYZXpO0DOWA5SGU45QKr48tQF+0BALZeT2pAcQECN08B3OTM+QNI3fPJ29ENAQqhANOlaQ0BYgr6kkEpBQDcQPP82i0RAmBD1tlDHQ0CkMJTlz8BCQAMn+hqmIz5ALMzhif3qQEAWZVQh0EVDQCOnLeXCVUNAuaxljZZoQEBht9GHqyJAQJgljvgTj0FAlXkrXxtwQ0DuwI7fTIhBQLIH0ZVdgTxA3Mf4HLzyPUA5JiCmUjE/QDen1EaBGEFAVnWFumR8RUBn0eKEINdBQGfzV631HkJAhrxuhaEhRECsXTJyTq49QF9hDRQ/OENAUGk/ci7FQkDCpSmgGNImQAXM7erT7kJAI6ysGZeBMUD0/tmPhbhCQBLYhVwjj0BAOE41fIOiQEDyZaA6ajw/QJRIWUFJbkFA9uTWnQnCQUBaL7wmMqVCQNGgi7E8jD9Ae01YwiJZQ0B61/2nyxxDQNpP2GnEEEBAmkiuu6CNP0B6jKvZXO4+QLSqOvMLc0BAxvS2Gml0PUBJnT5DLT1AQIpYifrSdUBASjrNmZ8WRECWmg1Qw7REQDph/wheyDZARK/dKvlsQkCBRhFJSxU9QOkCTrtONkdA1Lmgi8hzSEAq1H3p8C1CQNqZInrWMUNAJUZm5sfIQEDAzMlpwIdDQAbys3a96T1ApMQEnjT6QEBY/xL0Zqk/QDUXAwbMiUJADFJn6PAFQkCcrU6vQNtAQM7gAlvM/DtAG3G7tZR+PUDThtMZRfBAQIfazJsnzTJAB+NLFV8hPEC0l7TRUBVCQEOkHkD17EBAMlWhQDcYREASvCydLTZCQGDyIj7sXDlA53/JjWL5QECX1A2Q6O0/QCYT+d3PaUBA5On0jwtfQkBaWo3CWqs7QPzjUBGjDkFAmoNSsS0eNkB+KFaDeho/QA8uMBqTuDlA3FjxN1+gQUA0Z44Bv2JAQGFyQkC9uDpAdmrYStKrQEAG14xWI+BAQKxK7/wuqkZAA0/DxqtiREClfBTzRqxDQHhaJJJsU0BADpal00nkQUA7nIDFQqY2QIgs3OfXCkJAZpcol6XvPUAg0DUP20BCQNO8bFATWUBAWmSNJGnBQUCXP9TATLRCQHYMgGJXskJAainwb7ozN0AY4hZyPjJAQLoBvsVl10JA4DV7QqpEQkAtL8nxHlc9QIUji8Xd0T9Ar03fAewCREAi8+P9sKU/QHZG3vz1tD5ARyp2IBSHP0DVp+SbedBBQJSwr0b4WUBAa2FdqBkMQ0AHg2wqtApBQFChEgiDi0NA30HCdZIaRECXQtOV9dZBQKKDxO7d5kJA6K5sOd1pSEBRy4pJNuhJQJRdxNbKTEZAi4fD5fBlQUAgmnIZY1xCQCrsUaNl1EJADFoANXphP0D0mISvcIU6QBy9IVcPpjpA/YStyUnAO0B+/VeRYiRFQKheIPxlt0JAkOmQUACpQUD/k7C2M29BQJrg/rKaPj9AtnMa35F/O0C9uY2hGsxBQBj3wpwWvD5AuKByPNOoQUB20TR6KKtBQMoaTu6ilERA7eVxNI6+QEAg9eTSlU42QKcbAjCSIUJAkmx+tGxqQ0AYHnglyIM+QKbwHKZTiUJAu+dTxUDoQUCZdXT0T05CQOLAaaJoM0BA1rpZ+yqXQEDaQ7E/PwM1QA3ohw4Z/z9A9lG4rDh/QkBS5W8iZwdCQKYNNt5dekVAJvbivjHZRUCRk6j+P+9EQDcu1pzPbUNAHMpMo12bQ0BSTsPSxzU6QAa8K4iX4DpATgtadNutPED5ruzGHJZCQONQMCaJqUFAr0S7THznQEC0CK+Nrvk5QBbiKd6qVDxAA9dnLEQFO0AoAcuwl51AQFaWJb3QFkJAyfne1YJ3P0B3HkFrNHs3QHi/7J3e/UFAWKfOkOwlQkCq7BXwm1NCQKp0w8XY8T5ASrCOMTapQUAKN93RCIE/QG7LY97t5DJAb0azOJSsQEAu97oe7jNBQDsfWfIu3TFAtPVwcTxFQkBbheW52edEQOYEX/HGwEFAZMaY4uivQkDkt8TqIVxIQOvNeqpxe0dAzHBfgX1CQkDs11qJkdlEQGMs9bzt/EFAh4nI6EcNQUCpKOAiBJI2QChRHVTUsDNAZ7Sny8tXOkBRl8VbxcY/QN+OgLxr30JAYPnXWZpdNkCwd9SUeq5BQCr81fLJUkFApfWV4noAQkBkkcpRWVI+QD7C1pXThkBA5tCQIgHPQ0Da1iecnbhAQGQRxxcJHTpA85AeQYHPN0Boa6i7UBRCQAE8/T+W0DNA50y+yhYjQUCiKXX0vwI9QJCqVwJ+CUBAuE+QtiD6PUDu984/xshAQM5HhEmQjD5AFzi4beV1P0DMh8J9mPZAQKJRvgA9dD1AqvEX7yMGQkDnQDwrN6g8QEcQxkBpAkJAWMAukts4Q0DerKKe7/wyQDb6cbyv8UJAoURxsMHuP0D0JhTZsqxCQPInSIrfZjlAODZvmWoIP0DKldayzH47QLQ7Sno/vkFA71lsyZVVREDLGdz3rJA9QD+f2j6xNTxAmp2tIYpIPUAdx/xZDxs5QElXfhaBmT1ALFJzqxrzQkC7BKqrkehAQPyDq0nC2j1A1GUG56q3P0B60ts9P6tCQD/BjteFeTtAEu6eTlzQNUCIGqsUvms/QPjHUn+bYDhAjFUgeN9pP0CBNj5h6FY+QMGQbBiASj1AAue/HSl6O0CUohLR9SJDQOKY4soU2ENASZnKHUtkQkACXDWF2xVCQKwyBX4M5UVAcCtDp8sQSECgvB+KzWJEQA/+3WnM+EJAiDdoAWndOkCnXH/0z0JDQOPNgxqV3z5ALD34ExZiOkB37ChqmTpAQHN4+gTYVD9Azka0hRtePEACBhj2yyZDQJYGdkdOfT9Ag6EydHDjQUDOJs5bLp86QJHC9/X24TZAjM7WjlmTPkAuf6o1nP8/QMTIhDnv+kNAHMGxajkDQEB1M/ek15g9QIK2X9AUvUJABQrn8maRQUDxI2sMdRlBQBYwu69t9jlATjJ6dd1JP0CdFOOOwDo8QKp+o/cRmEBAHExTsVvFQ0APM01MkfhDQD49lHCZF0FAcJepvfXTQUBLoSrBrdlBQIQHl0t2iT9AFTUGqGmIQUAkx62oI+9AQPgfRhujnD9AOcMzIJh+QEAiukqKfiw4QNijDe5AFEJA9CX4Rrk9OkBIj7yt6oBAQD/gZCTHMjtA1iJXLsPYQkCja5U/9Ds6QK4PXsI8qD5AtEDDGstJOUD8Gr6fLpU/QDmcvncF8zhAhpgF2OFQN0DY47pIdMtAQIXd04YUiEJAnkfuJhRtO0B7uZXUHqNAQI4FSewNkj1A50sx74iUJkCSbDk1eXE4QOeP1gTNCD5AGn+fqhiKQEAwrCxvJp89QAh+GxM8AUJAZ1tWRJ+qPEB4ZEiwRK9AQHqqL8lzkUBAvDeiFBVyQkA3pyrklu06QLw+MqySXThAP+jq8v6LRUDuZuLf/XJGQFXYXzS+GkVAvT6IV9HZP0AUba4kjnBDQGlLP2zYMT5A5suZKRqINEBm/umU1iw4QKRR73EowDRAdqCJSjY4P0A3y0tC3aQyQDyO9f3+BDxAZkebFzOINUA4BhtHr+9BQBhWBD7sMkFA1ZMPJsgMP0BmeNUWTnc+QNalSoiCf0FAXMCENXjEQkAaO/ill7VBQN8j/WdzyDpAAamtpUqtQECB8PgSn349QPPDC292R0JAx08CLZ/pQkCY31nesIJBQFKFAsZ4ITpAF5FiM+V0Q0AUaNwKuzxCQAZOY83hVEFAYG6YsdT7QkDxcajVoHhCQDUg4U5wEUBAUqFl9DP7QUB4/HfomGo8QGLgzUsgVD5AYLPRXvKoP0AAYsnOBGE+QITvYNKYJkNARH+oDXVCQ0CaxHRRtfM6QNEiP8q+L0FACJmQZ6NiP0DLUpxAw+FAQA1r+f3/DUBAokYQnN+TQEBixbm/sYETQOQQtNhflj5Aa/ogqT/WQUBiDI38B8lAQFprQB4Hy0BAj/h6ehqyQUBKNd6Rf3U9QIQsBFKHwj5AzeQ1keRuQUAOnoBkPVQ4QLz9Y9yGIj9AEcpRwxZTL0A06M0wwNpAQDshYaYONUNAzh43OYiMMUDsGc3q3CtCQMIPvAvAmkFAZltRF/o5QkDFHsVPdhZCQJzJ4WUcaz5A6EKtgBKtQkAOKqvP0CRGQE7Hf5YmskhAdGUEiWgSQkC2lJ5Oh6I/QBOxWaFqqkFATJjJkJ0gQUC0mpdV474+QC9MCMySCjhAsNXS7M0xO0CUz4pJZVY4QHSVik0v3EBAAVBs0vTzQkD+JNsvjPg9QGqBRB6t2D5AWGdNJnfYQECYsHU+sXExQG0mV0J7xT9AawOD3TnxQ0DDgVdmEwdDQGqbzIgdgEBA+I3MaSEkP0DYUghbRUA/QBG+esgqYUJAsvpqW5NJOUDYnsNMwsM5QGrXzK5CNTVAYuR5JWQaOEDIXWKgiD1DQIF25tKcdD9A4HCD3T/KN0DOb7P/pFFCQHyoRRkBJz9ACj57WwcxQEB1dhQOlb1AQNKlh+l5fUFAntRyX9F1PUCqiTyT4pFAQDnNS2AFkkVAnvFUMDNNRUAtpSgq++hDQDq+6q8Ewj9AHxjT1x65PUA+Pb6i3dJBQIYzhiJPe0FAx62qkE/GPEAVLP6jeCE6QEfWY2/98jhAQlvtoZBdOUBXZtnYen9CQHFwAPQ8/D1ALCw7HQvAQkBqJGP+B9Y+QHr7L7ZELD9A6G2LdC4kQ0DZVlJwcR9CQCYj5tBwmEBA2GTwPOV6QUCaRzc1dpNCQMQDDNowFEFAbd8Ml4ahQkALdQ1o36pCQPX3Iy6a8ENAoLpM8fUZQkBRnHFUeQJBQPSDEMoA7T9ArORq/sRpQ0D81HomJkY9QIUdElHl4EZA8V0BdwQeR0BLZn1EK2hAQA82mQ4I8jRARYnfvnOrP0BmVHWuoi5AQCaJv2zXVDNAKvtV+VE7PkAfmjoUuKY1QBo1Vj9nCEFAFm1+14K7QUCkvYaFSIA/QAyu74SHljxAUBNNAde2PUCefkGxZvU+QLjQFSejHD9AWp9C1lRgPkBS2LGFEvM9QB+9rFDDmkJASMDGup1bQEDyutrYc9VAQNcj4nZqoT1AGB2BhrYGPEAuxpZTbf8/QFU6pySCkTxAL+8Mx3mIHkA1vlsR3OA+QLL2Mt5hGzhA53LAGM+JP0CacYPAWAhCQOAADEZ7eD1AjGYzOCI5O0AVG/S06zI8QHBdhhv9MDxAGsG8ka6FQUByga3Qtc5BQJTHdarPeUBAGSXf8fKHQ0BBY6uVuuU7QNOBvZMEfkRA19VTNa4aQkD4pjJKtOE8QP5NSFGpykBApSG4zweIQUDKN6M70EU9QBVI27kXmDBAn4x4wxw5O0CKRrkNtJtAQBmbY/r5fkFAqn6LL4ruOkBmZkWWHsM1QAjbNTTQDDhAZfKZaD6dPkATBQvlhSVCQPAPQTaVrENASG2dzr0XPUAnHpLHeVdCQIDOkLk8QD5AB+tSocNTQEDyeYda5AI5QM/HDGX2Tz9A5FU2FrHcQUDiNL3PUIVDQFxINwDIf0NACJAJuuRsQ0C34v4mWZRFQMkbLDNloD5A1W1g4UMSRkCCyoJgYctHQLMvK6TIoEFAiruPcAirP0CC+wxsJypBQJkV8LVULD9ApmlykRQ0QEAQFI+aU+M/QBUIvy0x3kBA1Ty/xdQmPECWcb/0JAQ+QPyj11/G/UFAwvel1BP7PkAtqiXhnkxCQDSCV8nWoEFAPfCXuOKxMUBor18q3KE9QOEt/bieFkNAkgwZSUAMQED1i+EuY2lAQPBkQcCBpUFAi5HboriYQUAmn1xwiJlCQOfhXcGs1j9APwSiD1QfQkCExlC5Vvk+QNUyVzaWgTNAMuOVqmzFPEC9Asv/VNpAQDjZh2gkgDlAAN7z2IH5M0DwYopQ5NEtQKzQpB7ImjRAqMWgZuPBO0CcnxmMdA00QP55jtoQhDxAfEGYUCP6QEDTh/nSXwk/QGKNXimnukBAaOxeMevMQkBpnSr+UUY2QLg2Lk5tji9AWYYZyzllQEDAEZpDxmVCQMG3kse7Z0FA3wp7fE6uNkCbXkMvN4s9QOD2Bx16vT1AwgvnR82cOUB+TIjCdzxBQFewC5sDCD9AkhXKGLYuQkD8oJJD0aJCQBwMiIOkSD1Ah4YJrB7GQkDrhvM0LKVAQMLBB9St+UFAGo4u9CWKPEAZ+4u6XUE+QKG2xZarVz9AXRR/mTd0QUDsiyjNORdAQHoxv5GLcTJAuB5VoYCqP0CPNuTWU05AQN3wG/OoKEFAmmVg3XUvPUBb9iTTOS1HQFD5cpjpR0ZATWQt02ozQUCvvJGBP7tAQOQCM+d8vDtAJCykEaX2QUATDYl4PiQwQPT+rrUI9T9ACQBIVX9cOkB5WNvOT/E/QC5BIV7/m0JAIbZBQFaUQUC6qJQ13Jg/QPZLtiyL0EFAYtQVtvDrP0BZD9uvNKQ+QDNfyBhD+TxANKxEIedhQEC+YNm/R5JAQLOXEi9XITlAanZz13QRREBMr2V0w/RAQDKdENJFjDVA7l30sotxOkAafX7dQcsyQJHXVR1v/kFAhtRrsDCzQ0CH7jS0nb1CQHYE2nhDqDhAe/ClK/KKQEAksCNdVTRAQJhQTxG0rTdAiAgPcw8yPkAehs92ziFBQGjxAkbyVT1A3E3ET61HP0B0tNh8QJQ7QMHdZWbNN0BALORamm9gQ0Dmg8DTSNtEQE6nuSf2vkBAeiKonyRUQkA9IgqlAl5EQCCWehXss0JAXFE0i4TqOUC7UuQkVTc8QDgpRERTQD9AaY6csdHlQEAiVwhzh/NBQA7O/KuD/0FAl3MLq9icQED+jPw9MJpCQKHLjaK9HD5Ax+p8or5bQ0Du4kC3JyFCQH7RoWgffUJA+MH3PNqcQEDUdzWZFwo+QHxkrzuYtj9ACrrc7GJsPEBQoiql5i06QPp6ASBjwD1ALMBQntFYQEDeq8MFj+I8QOClukCl4T9AoQSo5ZCcQkCHG9ORKGg7QM5nyl+3XEZAdTqnKlawR0BO87JsLtlCQERKoLhdN0NA8MOEebZ+OUBlpEL7fZY9QNRAFIKMbz9AcZili63COEBwncaBIlM+QF5CUzvVRzhAeyBSR8/0P0Dl+9kWLz46QBWC/YjfVj5AeB1iBx8NQEBc+nqucdNBQHIHfmVNU0NAYEwdZ2K8Q0ApniRP2vdBQGuOnHzbW0FAMubdcqGvO0A7CKiR/FVDQGLJ83BQCT5AeqSExDhPPUAArf1CJzE3QKnePa7yu0BARGPCu9CGPEDD1PrvYms9QHc+bSamVUFApJJL99JeQ0AHx/v8zpY+QMRZkQQy/jxAcD5Lg1cFQEDaCGrfyhRCQILdiX4jMj5AcBI25eYDO0A+aPbFkEEzQPUqz1RzmDpAzuASKV1cQkAwBBx5MexBQHVTPxH1gUNAzjJzQJ73M0CVh4ySoOFBQCLn+twMmUFAk2C1Ki1uPkDW4IM90j89QDaqvukKLz9AAvzG7YWOP0B0ve7OhPEwQFnSsyHf2TxA6dxZWvVAPkAEIB0obIM4QBkBbCxBeEFAtagPpxo0O0AJtauDzU1CQEeyS+Gb+UJAygaWkcTFQUDB0eOt0X5BQHDELSS5mDpAApTorN2ZM0D83m5PrepAQKHGBX20iD9AWqMLIsZLQEDDkBmeXw9CQGg3lbuEhDxAktVqMElmQkCCvuCrFVdDQJUup1kClUFA+inPTuiQRUArFEbg9eVEQOYqjrDS4EJA1dTomw60QUBzXhGmkvM+QD8THePeTztAtCcfqVoTMEC7SyP8VoxAQB6AJnY5d0FAwyW+bgB1O0BtNtpK0JI6QFoveBPpSjpAiotkywCXNEAWX21TcUBCQNwOFRBBK0JAjoSQHaQAPkATYhF/s4BAQEMezRndTj5ACKmP2YvYQ0BabU1Z0PxAQL6MPRrMbj9AaYnYJw2EQkBlB4hV9Hc3QMkAMUrX1UFAFWuaZAAGQEAJMYuc3I07QGzze+wg3j1ARbDI/bGMQkDIwJrjRRFDQCX2tN1aN0JAmiKU6r5gPkBKj498k1o/QE4OHKxE4jZAUr32rnNUMUACjrNKUzhBQE28rcBSQkBAs3QlLlhaQ0DHFIgSWLZCQJGt0UK/aUNAqDChUy+UP0AYzObQSjU6QFWTHwJab0RALswZe8zuQkDsNYcBzvU9QBrpuo3LCUFAKfnMjXE5P0CdBeZIUNRAQPB0rJUvvEJAntCSYKEXQ0AriLgkPJtBQK/9/lBggD1AVW2MmEJyQUCp0wGzMEBDQCUx3vj4gUFA8e1/J1wPOEAZv1l/MEdBQKGyBmaNuz9AJS69OrYDP0B35p7URTJCQCeHJsrBY0FA/G6VN9OJMkBbLMreZaI4QJVcaRLoazVAzxheJRiKQEBDOjeu5rBCQINdwiEfNUNAyTHlvqr4QUCo3NOw/1dFQDGbqkO2rkdAa0MaTiUdQUDZCM7oJp89QE5BOaZMVUBAqkYbxFGbQUBVhHYtED09QOfO0fx1mjtAj0UPoQUOQUCYqoQ8Mo5AQNkVrDh83kJAHVHZNbYMQ0C20bGjTN41QAhSCK+PEkNAF0U9J9jKP0CCz+JPlPU6QCaPUZAO8jxARAm93ktGQkBQHQdJ/N9DQNfd3DkvMUJAFh/0nXcvQUAQoGbKOiA1QLRl/UyfCENAyvifask9Q0DmXhG80JlBQAucgBWMc0JAwYk/bmOyQEB1kArRzPxDQPONssgLUkJA/mLxtrGLQUA47AqpfdA6QASZFT+6jjtAcOea6Ma5QECpNMofpjE/QJ1xhcvNBTlA+F6shVYZQ0DARdodwjI/QGTSb2cJF0VAHMO0ynqLRECfEGsZWqI7QIDD0ucB6DpAwfJ+f7NeQkBn99WHddVCQLCe4o5kWDlAfmCDx3ouPUBCrS7eKWg+QJr03cUDtj9AVGha/U9DPEBoFED5RW9AQEAjfgu6cjRAC2gbNDchQ0Cwkr9rQv9CQL3WUCwepyZAXW7G6d+eP0ByR4CzYco7QJI1gWVRB0FAxOIYDvuQPUDc05SNG+JAQHo9dJpqjEFAhkCVRZl3OkA5rjUcMwY+QIH293srJUBAdhuJhr/ZO0CwUzdSWelCQLxwV0Nk0kNAiTpagZh4REBPEI+zly5BQNlgmWeT7EdAWG0ab+iuR0CN5eRo3R9CQIALtuy/mEJACzJRRTANQ0A8XBPlpSlEQNjVC2agqz9APM++oKncOkCqHSJqIm09QCa2Fm7teD1Ah9wWzlNGREBoAS7BvBxEQHqnpLWc6jNAboZaKm4sQUCu7GyK0UZAQOphzcOFsT1AvaJFc6SpPEAu95CiniJBQEmn0weKp0JAJOaFsb1SREDD7KV6G9JEQM5960WHekRA7OUuyrB2P0DFa/E0AVc6QDXMEEf6lDtAjLiuJRClQkCMN6FaRxk/QAcNt1xdhkJAtBuBJtPBQkDXmaUIMIVBQEio0riTfTtAkEHNciQHQEACUs7tEFlBQPjMC8/9l0BA8FM9nwUUQkAJbBXeOXY6QLsqU54C/kBAs5g1g9PDQkChBfTylVlFQDIozBA3HjpAGVTau+xcM0A5P7hDO3dAQNDtgBKQGkBAHin3/MyIQEBolK8JbTE2QJYZXaoHwzRA3liKUtaLPkDnCjUMYG5CQGTB8NRPtilAQDnVZBqwQUBHh93nyW5BQKA2ktL5Q0NAsu92A1cGMUDmI1jGSJxBQOeemXVLLkBArz/WJnZUQEBc8jOuVmg0QDCN5kQF2j9Al3VnfDMOPUAna0NMsGU8QKNhrLnkmj5AeXJsBPWTQUBHchDErspAQMnWU6mO+z9AbbR3KdxpQEBtGOZFK8RCQCmr2GwEhkJAc3KyKv97R0DkpvkJ7MxHQFt2qOG9ekJAt7PC/ixlQECsEToAIww5QIs3kfZnCkBA1ojsSm6UQkC9bGPdYuZBQPJ5N9T0MD9AwsRaudO1PkAsxYVB4gxEQOEv6tiDhUNAY+efOxEMQ0ACuVwhVpw+QFRRhP6+ez9AoPtwQKNFQkCfYLcfmP0/QFIGEQUAPjBA5wEX2I8PQUCijR0+kb5CQAzF9XwU0jhALihO4YHWOkBzsBFHgRZAQOWvEfBEaz1AT4LCNM12QEB4Kq6N81lAQJsvrYQeBUNAWq1nvl1AQ0CD6n5qpyBDQKeAb9pEaEJA8TueP/ukPkBGUojbgHZCQHPZhDmM8ztAICxiHyPFOkDJ/3hz5uY9QCZpLtCOn0BAPYfb36YaOkCv9OyaEyJBQO7XMc9z9jdAnBpGLnxeQUCOUouTEP46QMi2TQh0Fj9AvKWa6OrQMkBQvGocdBVCQKrp4YhSyT9AmRcv/wuqOkBQhkzDcqxBQPkWB4XyhEFACVkvX9ajQ0AP/sgFNE1CQHQqWhlWsztA2me6zRFrP0AQ9Jv5L1lAQEhAoO6RF0NAt0AtoxxDQ0AYqrUZga81QDyfIic7YzhAjjkUphT4QUBf8ZYCscpBQHFPCrQlID5AvO4w2Pq3PkCsFreQkYhDQOMiLlRs/UNA1tcjST9GQ0C4XRsK+6tBQLJFjjkDOztAjw8tAnghQkCPSnywdNtGQHKQFvmnXkdAeMHjTb/pPkC989b32lFBQF6iru+bK0FAZ9v6dnFTQEDHsTLGEmZAQB3r/xleVTpAxjqxicLCO0B5U1mL29s+QGh5WNSgb0FANbJhaNgpQECh1leNiYo/QA1eO9wvc0JA2I1X7qKUQkDVFz4XRNtAQLz/f0kVNTVAcYQtRG/JPkDwy/3tVvlCQPx2EQGc/kNA3NDau7x3P0DIOQyIBsUsQDqzC20WyjNAHnXQtnIUOkAuCfdzZms6QD77g5/mnEJAuY9p7W7pQkBUmW5Y0bk7QFrCjzNnRTlAEp/YyCsCQEDgKx/tUcE9QKimv50uHztAm3xiVtVSQkCxi1r7rdhAQIBIEaYfyz9AC2bDHVoLQUBWCMs8ptw5QEp2RhAOzT5AKVjZMmiMQEB6TaJMmx86QDD1u7z9GT1Az7GqRgo4PkBemevE3QVAQJXhU7UJJTBAoQnavv//PECyWhY/If89QMoq82JSfEBA1HPmYSWHQUBs1JwR8U5BQK2oDsSw8kFA5tFhbelWOUCj08i/RxE8QLuFH18qNTxAUbErRoiaPEDq87rJ8VE1QNY7UGp+JEFAB+e6ddXNO0AjZWGvlVc+QF0SyZtN+jtAVwsTGKdlQED5Ims4c8VAQKPY2c0anTpAPk9UEOAuQkBzrVIo3U47QHNluNLWakNATy0QWpjzPkDSyyDoKz09QFxX/bhbzkZAQow/N2lcSEBZfWX2TCYzQOH0JmxzaTlAjQt37pCJOUBfs5mFvX8zQEfuREK2zTBAVyDeTppFQ0Dv8XoaZbNAQAX3secbjEFAptYexi1COUCxTUIG2WBBQID3MKuxCTlAJuRjDAIdQUBPnmWT9ExCQHxlhDjS+DtAqzZ74t02OUAupeDBU2ZBQC2Z9z0XAUFAWqIS3Rq0QEAIS30J+nVBQPGasROJODlAES4NwI/QOkC4HdWIAIQ2QMcVeMNRiz1ArLUL/zZDQkD5/nV0/gtDQB6GeEe5PUBAqVtEcjaHQ0CLRa2bCiE6QLF2eROGJEBA9OOQ/VjhQEBHoUrXeUlAQIxgnMUaiTxAEZ3Sw8LrP0BZcBT1qfYpQOkfuv1BrEFACU3xbODRQ0BQ671wVJc/QGRXxPcWfT1AeHO8LPp9PkBd8y4i2QlBQIOYMAz1ST5AF0qMOeagO0AFWasMrMM1QJRtwyp9cjxA0CdxpmGIPUBmoWoJciATQCRHOOt5SEFACxTBk2nwPUAMsm9fsAE9QKlUFBW5BkBASJwmkwxGPEDCCL0pRUw3QFSXS7GnBUFA+HDvqG53QEC6zybC32RBQKA9yA4NCUFARf1G1nzRQ0CChoOUqYNAQAcbu/3RqEBAz5pTFs72QEDHlyfXblZAQD1zyB4rTUJABz/gDnAhQEAZY2d2GXRDQA/wCQYRqkNAguWRR7MvRUCG2pglQ0BIQDPU7PR/oERADIKgDjFZP0C8RBKEd9g9QOfTICvuQkBASAKRuYFgP0Dby6laFvdAQEa5PDqJAUFABSEuzrF7QEDTxL+pV55DQNdmGgnXcUFAApqj83qPNkBo3J9S1wE7QH4uVJ7TSz5AC0H/yTMKQkBo0s0HbftBQGajBzEuU0BACqytJigdPkB21Bszs5s+QAuUe7gK/T5AxcTETSVtO0DL//d+2uw+QAuTOLmUPDxAwOVNcM1FOkCgPMH4FytEQMlncNBkdEBAzroPerhMRECD+SCy7vlAQHuQ9u1QMENAVvyiAhwNQkCvJhMgxT07QAzacdGD+T9A7iDDd9LQQUBqe4v3Xmc7QPAAWEaGLzVAFRrv5HNJQkDEckQ1h81BQMh4xAcxekJAg2BTwffxQkATmEbUQYk5QGBavZxNT0NAbS65V60PQkDQ+5oBZvI8QOLEeo2hN0JAXkkb5JykN0DrKjfNxUE+QFal96kPrEBACkryHg6uPUCb7MYZYR1BQKoKqBIhjUFA+5mGGQIcQEB7TfDBA7IvQA8+UALEwD1A6X60PaZGOUC2ndIWTUpAQLmQ3EYZsUJAeEHz+D57QUCdRR0CJUVCQED3GHJnhURAVRAwpUaUQUAO6+5O2TE/QE7TceIoszdA7OHyYtqTQEDtDfMI/bhDQASHjwWFCUFAtHMR+jIAP0AcbhZ/vQJGQGshbQnR60ZAhsg+ZyeSQEB6nyWIznZCQEG0Fpn+RjVAHx70fd5BQUCeB4YNfopCQDp4afD3H0BAdfJR6RBjN0CzYadcce45QE+hRM5uzD9ALyJDTG2gQkAnJdZeQi4yQPP8tcRBhEFA+gDPGu87PkDekAXVoEpCQOKNS+C+7ENAg0PTCXQZPkBC4nxEJcxAQDSmCypZfUJAKZJ64tCJP0DDj7OxIMxBQNiEDVJ4mz1AIsJkqLO9MkB8NkUtlrk+QNYzMboHE0JAscTg5D8hQ0AX6TYg2mtBQAd+zVGvFkJAGMbwdiqJQkB6AFfFHIRBQHi0YCqxtTlAkXfLlhV/QECo4xhZQSFAQCVxPhhKYD5A+5mhtfP0MkBfJASy3oJBQH7PJlKThUJAJuntmnO6REDeFu74CExEQCqqLaIK8UBABucTw+lKREAzygr/IZVEQLNZpTzAXD1AjgOiJYLHN0BEAj5SNdg1QKJzWOIzWD1AI1vtpZJmPUCJVZEkhWw/QJy/SdLPp0FAumjhJcZ7PUAP1EynvDM6QL1hCNHBiEBAIJx2+ol+OkBbUP3f2fs+QOEHyxKT10BAVSLzX9cpQkBa6s08bmxAQG4KN3lIYzRAyu2afvjAPEBegAW7N7dAQCiD7tUy5EBAgG3EVqt3PUA5DMOalmtAQDBp/SBfDEJA+UwmVQ/2RECWXXVoUb49QBgmZToKgEVAzZHtD4r4R0D3JMEm/9NAQLxwX29WcUBAFIZCXCn0QUBcHewwmZg3QOre56wUdDxAnJW8lMIxPECMy/GINm89QJ4pWMiVv0BAnYzI/tG+Q0B7MThY+uw3QDyEI8bVqjVADBfYlm5HQEDBFFpOBR89QPh7ildxBkBAJXUDwixrQECIusfRdHZBQFrid42c7EFAf3m+RNL7QUDHU1Dk4HxAQD1hYVtqAkFA7N3LGLVGPEDyGOs+JfU1QKRFtin8VD5AMlMODTCaQEBgk8BOlLY9QNCte017Q0JAZGVqzW1wQ0BSJ1Rm7tE2QF1UrVFyoEJAy/NtPepoP0CGrbj0eKZCQK1lm/DY8EFA6ibQF+EKIkBDG1Ssvo49QIMUpADKETtAbr2tLydIQUA+79f/vP85QLTw4FOBNkBAviwc8qM7QEDacEUqa3BDQOxsFz+VOURA5CsbxVN7PkCaE9zdu91AQLqsGYKV0j9A0nA+2BhDQEDRlEKYzFI+QIn85qkraEBAGVOC+xhRJED0U8Lx+qwzQInnLtFXz0FAMnB2K9yIOkAOop9RWXY7QPBesjgmmkFAVKlcsEmNPEDHhGAxWqtDQDrXYA6ohz9Aa7LrvMoJP0BCV2+Mdi8zQJ2cS1DXMkNAMSgY2zH8QED3o/3gmq9CQHg2/V05QjZATH65wzKAREDychKysC9DQJdjgvhfQUNA72qyiMqJR0AH2AJKmh1IQNORagxZCUBAuqegwBq+PkAI2p4noMQ6QPm4gWjfeUBARAS42BnIM0D45H3/QZFBQKztTs3+nUBA7FjzYB5BQkDmmYUwtp9AQBIWYHMuakJAYucmYlg2NEBSWQFYbII0QP8iBiGkryhAd2Uzo9OcOUCTAPXtLHc7QOD6gSVMNEFAcdRlFbBXQkAaqAjUaQJAQBWBJ2zRj0FAAubeQHQQQUDMLMg1A/U9QKn97mbabUBAnrD60ulGQUBXRhsUzfdBQISux+FzjkFA2otOT/OWQ0BcuLsvg6pCQBVFKVKYrz5AhnWE5MJAQEC2iwFmoSFCQHrb2YYOLkFAmII409upPECq6AydQZ08QAnDw/nK1z1Aa//IZYonQED9wVlcMrc+QK8ijlbPkEBAdU0aGEbNL0C3wmUycZY+QBxhXV3/6ClA7kpQHxslOkDInOjgKqhDQHSEa+rAxkNAW6Vad+hvPEAgqPIukIs8QEwHmHnpcT1AC1Jv9k/KMkA3BmH6t9j9P0XDJ7JMWD1A9M3FA4VOPkCDpr8qZvM6QLsqC8X1KEJAuQpOTExsPECsqNlCJzBCQNfAbHPnskBA8/5pUHwKPUDZ/dgQTjBBQCaXH3WlskBAhG1i3u5CQUDdcQDipetCQAzJnWbQaT1AqxDbPNUERUCgRAXWLTM+QPa/vgDkkUBA/e2sUuc6P0BF51aL0NdFQOejcNxGeUdA7oa8DO3qPEDaUwtCXhc+QBA4G7wFCD1AuA66goymP0Cfxj0e60Q8QBd599dn5jpAj5NnoBlbNkBHSnB6MZBDQGRS1czIgUNAAzvQ2U4BQkDHKTCb7AdBQPN08aQz5j9ARue5HlfVO0AaHH8pQbJBQL2jq0owJ0JAt/B9Uev2QUDfLVEtdmhDQMG/Y1zy+TdA2qAL6lC1O0DCCUjm8FlBQL3oQyMBkj9AsqbIlK3cOEBdYu+nXdE7QNrtr7n8fUBA8wt/qVmhQ0BmuB8brkxEQBXdiJJ790FA5oApBZyRP0CxpCWMdzs9QD5YNG7PaUNAEwbNRbaaQED8iV9pR1U7QFrqJ4glLDtAZdZxYpHVOkBpop6yvKZDQPAyZ0RwU0NAivDNLpOjQ0D1B3OMGE1BQNOYy3UzIEBAuhHjSRcmPkC8Fic5QXE/QKiVz5HA+UJAExmTyI/rNUDNis/8IUk/QAi+4SVuQTlA9nonV4zAQEBkv7K0fopAQEtyT9a9vjxA1HMZru+oQEAuTpn7yJtAQLlAEF5GzEBA6yri2HFIQEBTMF0BrIdBQALRrlNgNzlAMWNMu8o4QEAJMVaLplc+QEM2omS0/EJAIgCoRxicNEAFH2JthkBCQPsC2MPGeENAyO1HF6uIQkAFqHD+9B5AQKSDt/NgWUBAAs/kJ3STQkBpikFQXZM/QBNYx2/uMUZAtyYpVxUqSEAwCSQ1SYpDQDWu41u/CTpAocD2Kn1NQUCsmkRwNx8/QEq87FK8VT5AqztnYpu0PkDCjDAJNkE/QOiJCL/iOUFAL3IElFWrQUDN6nIExKg8QMdU9dFKbD5AI/a+0W3VQUB73I73DDtAQLCREpZbn0JAfFoSwbShPEBGhcOlIzE/QMgJ6pXIe0FArwuR82nkQ0BTE0yjLx1AQIhoe8gjq0NAtC2iP9tFPkBbyRldb804QNIi3IzHDUBAF/Ylz68lMECtXcoA/AdBQFz2o9ihiDlAdovcvfpHQEC2TBVl1G9BQDMvjQkrdUJAZfxtzINjQEAk4JHTh2tAQCqhhpbgkT5AdkbD15zSOkDw3Irwh/9AQNurSl23VENAOTUCReWgRUBmvftI49hEQFwj6i/lLUBAe/XjUDr4MkAJEbY8F75BQA9/6VKY2UJA0TpmasxrQkDKZC7c9whDQIrUekHBNkFACIXwyGsdP0Dw85KFCEZDQJM/QaAQyUFAmJ6rRt+4PUAqT4j0dqw4QG4lISp050JANPyc1xdyP0AG0FwSvEFBQOyxepLVl0FAxnYfQ6CrPEByaLtIbAVBQPMxNmvDREJAVqotR4CdPUCj6mf6llVAQI7sxjbvF0BALodPGb2tQkA00UNC4r5AQM7BJnQb0D5A+ehVWLZoQ0B0gvlhItVCQM0ZindlPUFAdMs4Ui91R0DPACFt4aNIQHZ+/M/b3D9AHb3bdoipQEB7Fp3VW0hAQDymLEGvxUFA3V3Cg8IJQ0A9Srln9DhCQMr7Um3vgDZADpArB8afOkC5Q3QXiopBQF9guktv3DdAfi3ixf+YMECNalsNZ55BQN/UrPlgA0JAa+vYmmU2QUAGkMR2XORCQJr1QIoylTpAYL0tT9v+N0D2Ws2RQJM6QIS+TIWYs0NAAvDXb/w8QUDccaXRLSVBQD2xAC/56z9AcTsvhG6PQ0CqmTzO9TJEQFmc1D3cnThAcXHh9e8bQkD8mS+5ED9AQNUq6/QyujlAilnaxT/xQECsHGf14tRAQCqZV2jiwz1A8gvp0EOuPUA8yz3D5d09QM/dpIyIOTlARlppFdqAQkDELf7vJt1AQAXptAXcyUNA2ic14w40QkABfA5ige02QEL19/RsKENABu4ILwXIQUAMZxrPH9NBQIjdGW4G+z1A0sUGKvZXN0Btmw6qekhBQLDG4lRqeUBA3Vpxg3n0PkAEcs3g3bUrQOaFCH4qkjtARzN8v11VQkAz9hNlDL02QPKhFo/VtjxAsll4qDW+PECLULTzFts7QMOiW6sOP0FAVkD9NtgJQUBKrWmKmlw9QFXmG+PoaTxAjdzQ8zDXQ0D2E4/nnjpEQGQnon68XT9A7VdNoo+1QUDJmFNt+bY3QO/EFslpqjtAOWoe1TSMQEDxLgFqv+pFQMygkfUGz0dA2FEi7VAfPkDPzqqAWGNAQE/wTdysoz1Aawyh32F9QEAbwrcP8+A0QCIyEbgyrz9Az7QEUrI0OkBAG//p7gY/QE0Mft110jVAGGnKwMMrPkAOlN82RI4jQLZF5Si0GEBAdCzOpabSQUBi4FdpHyI8QFCJ12TUTjhAhNxuL5ZKQEBQ8a0gEbU2QGjKH4rZREFAtjW55nmPOECg/SQh4kY7QKpnzIT77TxAIccsFsNcQEBTogbdooVBQGrFgDRw8D9ATpqwB7ZZO0CGyClw9ds4QN7KFIzx9TpAQXHr3PSQQEB286s0fZEuQKUm2AMHGj5A8DkCQ7clNkBYBbP/udBBQK67zJen60FAIWQG2i26QkB12A9xwY1CQNpMCuhwHEJAR22fw5kBQ0AeScX7GQc9QFnOANW8sTpA0Awl7gzBQEAhlNrvBjFAQEP1BK+lgkFAKJwuwcMSNkCHJC/s3Z9BQI6FVriqKDFAudYOTKw2MkCh77CQVF8+QIinaSG5gUBA9pdX+CJKQkAIEbk7dFQqQNw4CUV4j0FAZ5ktV4B/QkBc59JgBJNCQEZZnlZM8T9AdZPqrOGFPED3oWpye51AQOcF7gWBn0FA9Cx9oQ2EQECx11n/fE1DQJKcSKNP6UJAJzSjIcY1QEA7HXuf9KExQLNt6ocnJEBAKg6KJ7p4PkDubqtNw+pCQEonwg65i0ZAfqYqj2RpRkAnMKpVkmxCQKEWOjZ/ODxAxikZzsCVNUC5Dccvcqs5QMUItvufdTVAFg/hwc82QEC0++/XA6I4QLzTacamPjtA9MCL2rLIQUCwLwVONHpBQIP3NA5RiTxAoksW0qSnNEB/wQ60WDI4QDBmSpDNoUJAnN+/i1flQkAgCwSGN1dAQIWxiBv2WDtAEhDqB+46N0BaTcmu3kY1QMU+ebH1nyxAcnqJzqCmQEBK3KnVZVc+QL80AqmhZDpAmKBsmxvtPkAgcXLSecM8QAD8xTPw/z9A5eyz4T0XQUC7IkAgWPQyQAwrXvI75TpAymkbzF99QEDKNBNWCc1CQMGVcCUPkjhAwGsuo0p4NECtukO6j6RBQB1TgI9t2kBAoif8YeQBQ0CNhVSyj9E7QEtLPgqlxkBAdrs5PNDrO0CKdFHH5+5AQKgs3fj+g0FAosbWBclwP0Dk7RlfgLFCQJVUFke0jjtAE50ppl5/OUBpb6H2C+c1QIPBqtgUNT9A/m/7EagAPUA35sszh1tAQDy1RcmDVEFAGvu5CokDPUAiMpZrxYo9QI636TKXjT1AOXwsj05UQ0AV92N5sZ1CQPZlp9OzNSpAy7MZyUKHOUCg8AoDokMkQBzQI8W7UkFAupOufWhQQkBmASy9BvhAQBdkYNtQtEJAXgENsLg7P0DmnlAQty9BQMXJ+ipwU0BAuQH1ImgWR0CaBqBfF4xIQL8s0Lhgw0JAmBr+LxLCQEBF/oBz1yY/QJzjdHMVcT1A2GmFqU3AP0BcK1uG97I2QD5RkwU6wTtA6e/p6/KLPkCQWvqmPnk4QH4yvvs7h0FAut5Du+doLkCgKfOse6E6QJnp+h1FkTpA3MXfvLTIQEAo06hccRI8QAaz7pqqwEJAX3rxAnxgPUBy1krUs4U2QBVyWxdIiDdAknIcQtmZN0ArPS+iGJA0QEQW3ln5HT1AiCQFICSdHEDwTyifMn07QCffVyuWyUBAsSn2dpMXQ0BU+a9OQws/QFIx94Pih0BAxVmNXTxvN0AgpIfkZno4QCoai8cOgEJABgwqJKjlQkB642BT8h5AQFj8hgS53ztAbfbDvS6JQUCPlMW0x1FAQMhPVH/6Nj9ACfIHCE/oQUBP/x66oW9BQAbLasBFbTJA4TwmX4l/PUB98AC//E9BQPGSokIuL0BArsNfj380QUBQ+RHC+adAQB0YiXNE1TlAiTHxg/E6PUBgj2tow+U+QHpzaZhL+0BAeD34cWfdOkDU/B4x0bVBQHWd1lyfFEBANFB3HWObN0AT7v9hfttBQPdNxsNZ+0JAAVWr0nvNOEBTqZpiQU5CQJhA+O6rfEJAI4G22YKDQUCley7tLyY3QL7GFQyGMkBAAerFu0PkQUDBu6JlvOFBQKHP0Xzbcz5AF3EnV+TTPUBBTgEOqYxHQGxmUVo210hA0gH6LA5GPkBFIUze30U9QDDoQKkGejdAMImX3S9RPkD2loH5GVNBQPSu4T9Pyj5AtD5RpcOxP0BFVehN/688QP9TW6aHzkJAKMi69vi+PkAN9RPkgt44QN9OtM2cpEBAvC+tU5UuPUBUZh4J5R83QP/KUPGZp0JAv1kuSHTXQUBAryFPcmhCQHR4/b/wpUBAZpeeS02UPEBYkxSQirdAQEbEYwgSbjZAmKuXs5luMEB3iucSCDI7QBzbfvsu1DpAFkUCzlpmO0CtxuBw1JM9QKC3XbEl/UNADe/AqlGTPUD2B567Wjg/QGm1sSvmPD5AyFhT9R1mNEBQUEJCtbk8QIs6TGDxlj1AOr5RgrjiP0BI9V9NJCI9QL2VHQq94kFAW38jklHQQ0BKvnSVTqY+QO4RVAaERj5AML5k0KMqOkA3bgkfvY09QD1O5z/IvkJAcHqjnjKDQEDSEcHleJtCQIp2Lm2E6z9AIvtysJ/tOUBog8nDqA43QETyGInGG0BAqIWZ22keQEArsYm3hKhAQJYMc2yapTpAy5rpEsL/PEBLqI6bNdRAQBCjddGZpD5AEOC6LsnDNkDJ5f2A0o5CQBDDjtZbNkJAZX2LtleiQ0Cjdyf8afg8QCYUOr2uGD5AnzYtRJ0qL0B3geaciH0+QKpzI01HJkBAMmTmBdKHO0BO2fHaPtFCQKQx5koO3EdAwQkNjnHISECsD9BvlVZAQNT0qNUtJ0FA5MFtwJvBQEA8wwoOxe0/QDnsf+NO/0BAtpGjNpUXOkD6AYIsYOo+QKKdvrj4WUFAfxF1wfilQUA2Ba2Rw5tAQNqPHN6WCjFAWh4u4bJGQUBu3B6sm/06QOpzeajVkkFA5rzuFEyoO0DsVw7ds9FDQEHsq5zMD0NAl1zUynNNNkAgMjhLSh08QAmB+ERQtzxAsETudn4iPUCLNaS2JVo+QD/Zudkkhz9A76BBmjt2QUCxCGu+5c8iQMp6XRUZ5EJA5dRg2AyjO0Ca8bx6zFZCQMZOOvceejtAkAV4gl6iPUAEVFOPSg5AQIWZGBf7fz1A1+F+QB9TQUC1YIqUQEU+QCTP0qCZkkFAOMABl6C4Q0BFT2s+RXM9QBVaFmlkWUBAYur85466O0AtbQ3LI7k+QCjbYca93EJA2EaR2cUtQEBVzmlVxo8wQF8L/9h4pztAO2qsFUbYNUB+KB3NaQg6QChT37Ul6DlAdiV8TDZbLUAc36rJEkE3QIsbLud5g0BA99t6WF0UPkBxHKYX6206QKRR3uEUVT1ALJe5cFDKPUA0dxuXHgE/QNZARfP5JDpAq3tLd5mGPUDM8ULdLFU+QD7/zoURfT5Aa6WNHxDlQEBKB8GyaSFCQE0Q17xnyUBAFDz267fMPUCa0F0ds/49QGAusRkPNEBAJhx0Y1VLRkDNE/MGiLdHQPT8XWit3ztAZl0wy11UQEAbB6ImrgdBQGqg12lzMkFAElAiE22wOkCuasYGTxlCQAD6nPWIDTpAh7Z0k5qWOUAhzeqb4+k3QP333ZfB6TdAf2jeFrxIP0BeKvTnH+U+QLzhBK98xD5AZI0Ww6//OkDOqoDdJlhBQNLAhQFjkj5AZLzrAgykQUACfpBQMJg8QAxuM+44GjdAJar3Sy5+QEA2Czgcuz1BQA6+mpTM5EBAHp6swfdAO0DRdWxbUeI9QADdMbP0JkFANzG/ZX3AQkAU67aL/NpEQPDfenRFSkJA5Jv89mMJO0DtdGT/A5U6QMKuZ73OwD1AhIzMo74+O0Ckncqe/KJBQMQZlXMg9EFAyNaHyukbMkBvOIF090YmQC7U1KU7EEJAyE+voSxPQEC8BiZRU147QO21qDgUrUBAUq7lJW55PkAewwASYag8QMEalxkamz1Adc7XL6jPPkACKQGj0r45QCUZz8uhNz9Aph5cP8GoNUAS242AtOAwQJaMnD52gj1Adzr1IWz2OUDtB7swpyo6QOpYTPvhMkBAcyCCT/MGP0B5nMcBZE46QIT61JwpAUFAUvdPtNpFOECdtPL8bRQ+QNL7hVRvrUFAV0NqeEkoPEALOe8UdRdBQC6+/k923EFA7UMpFOEuQkAO1SXQuXpDQKFYSUeriEJAxt+/G9f8PkBg1pNvzdpGQO4iNnLAO0dAkvvqxUONQkAsPEH4lmlEQDUkZAhu5UJA/gT0Om7rOEB4+Tf3H8tAQCZkrLzxYThAfPWytQwPNkDTemipiTwyQLzXA3BG+EFAuyalZx48G0Bm5N+mbFw0QKxBBsbfHT5A0F523GVEPkAmvDHlphJAQKfLnHYRvD5A0hQTttzDQUDoBgqq7n1AQNxBmHiMXjpAnjBU++DNP0DjZqR3K30/QJ+6JU/R/DxARMJtrjPhQEC9Vmp5BMxAQBfhONJzAUNAuUMEi7DLO0CPC8IYp5c+QHxpbdNB5TpAuO38CwskP0BUN2MG3kpBQHSxN3IL6z9AasZgtLs4QEAmwQgCqn09QCcF1z3VxT9AZVZ9rCtcPkD3WGwyympCQNS+kBbLOkJAGkt9QpRSQUAyRaBbTis3QOWzSgsgcjtA+hYP1ctYQkDTfY10uKxDQOqmlywKxEJA0gMMujncOECZrQ6EiRY5QNqYBCZ88ztANfyBOiriOUA03nR0+PQ5QN1Q26555TtARi7QcTm0QUAhfjYBmOxCQKDn7+1Ke0JAFo6W4WuEP0DIwTIVYYc5QMW0bQcscDpAJMeaE+LtPECE+AeVRsVCQAKmaJUYokFAcB827TFvKkB0Hro0ec86QEHLlXWTSkFAyHXf91KfP0DBthqlbB8+QJzLxXXA+T5AqknKxErMP0D4oASplgBCQHBCmMTqnEZAZUSpMOryRkD85OR8cBtAQHXG2C9BB0FATF4i/lptPEBS5IjH2ghBQMzXdmfm2TxAl2Fn2AmnG0BYdfycfsA0QHp18sGFpT5AFQR3LoiJQkDHIFuy0qZAQEmglAWVQT1Axk6MeBtFO0DOoOX+AOM4QOxq16kxcDhAho+vNQbLOkCJ+9lZw8FAQHDRJUaQ1T9ATPo4z9KiOEDFQmBKhmNBQAor+Ru0uz1AuxftxezUQUDIC7kFU9I7QOG+YLrlGDNA/FN67yUUQEAIPko6c3dAQM/9XVBpujZAXO5azyiXOkAC93qQTnpBQKQEo1ns9UBAFApIfULsQUBQe5u11+ZCQJ2psgdPqj5A1xmhig0FQUBvS/7dfnhBQAy9QSCZ1UJAYatLiUTnREDuVSq1f/1EQNlNppmF0j1AA9iShywoO0A0yIXjrk5CQOsLjY3m2j5ABr8Znmg0QUCtj4luAC08QH1UTBHV80FArNnGnjbVPkCqD+barco2QFT3AISLWT9AkefG8sI3OkACMVawoAU8QAE7JW+6BiNA3og0jFopPUBjoQ5Br1xCQHlw+8A4fEJAPjJ6RGVHOECmfCE7jzg/QDM72442PjxAF+i3hW+qQkAskDVB+u08QKd5CAMyg0BARmbObhewQEBqkqi21Ok3QCFGKKIYxD1AHhf8x9ovQ0DxtcnXOLpAQE6bwQLlGz9AVNPDqiY7R0CgWNo69mtGQD+nR5mYTEFA/e1IjC5OQkCkLFksYVM/QL4oKXwsij5AwN6LLg2SQUCH1LFaAJw+QAnIMmQuXDdA0jCNHUfUPUBd/gGE2Fk9QEsC3m1yJT9ARmkiSfLzPkC+rlDqirc+QEJhpw1FXkFADrL6ZjNbO0CIK9tV7oRAQORrLjxkekJA6Z64eDeAQEAeAhWT5CJAQHcuy91YYz1Ahmtmcx/eQkA7vdPw6dM/QFHwfPqecD9AimqFmZToQEBPqXf96lZAQO14W+meCUFA2sN9VH4UPkDyKLkmrPM6QCHhndcoM0JA37kNIK80QEDrzcIw7Lg9QNN44sRQ8UJAZBIFEUf0QUDgHaOQag42QCCxmHkFaT1A42+SmTnpQkBsj71P5KhBQJsPFpFu/URAZYQYCnPsO0CbAa+PBGgyQLzDQwEsokFAQtDv0cAXQ0As7tDX0+pBQGH2/QTxQENAgR8QBg6eO0Cgap9NmHs9QN6+hqb/cUBAc3yjP4NLPEA1CY0trjZAQABpqzpkYD1A6B9hCVJpPEDkL2bJdXE9QDyOjmdAFzJA9qFb9hbYP0ApZ+3cyKxCQCRyUnZxOztA35iGW0eiNkCoAdHuk/hAQArP74yYGjtAL75SbzvvP0BX0tQMWr1AQHCvVpsA6z1AUGG3jvWPQ0DrObrX1DlDQLPoO366qDVAZOYKNtojQEDcYz3V7YlGQFgOCT/WP0dAYiGcNdXtOEA7QB9FRlcoQLLzAxHprkBAmL06D4NOQkAQZGZIdgs/QGwhWHXsID1AEr7Hs42vQED+RZblXoBCQMVbHwcMSUJAfBkKyySJNUC/EkzPwkY9QOAhKaiZZD9AdB1TC7KbNUBBERZRqYNCQDzcyXZTDi5AuOuq3Zk8Q0BI1YFV7epDQE+YxfHKQD9AJ2NU5aaCQEACxSViRmo/QIR9hTMTfUBAFFfPqX4bOUCV863D4ic6QPyF1Y1s0z1A8rDF7HWrPECxve9eV/lAQPPYiRo+D0BA9nKt0xMiQ0D+j//44jFDQC8+vUzihkFA8lnqARXWQUAGs2B/JmMzQBYFcuk96y5A9H6OD4JVQUDsH89/JhdAQBOb3FvJ20RARH8sxs4MNkDlLdaqkhA4QIBopZmcYD1AIw2UKNRQQUBMdrUy/RNBQO76OhWzmkFAigKHElLYPUCCjwCk3xg6QKQ3c+w1bDZAFHmOS/MxPEDB+NDZ7XJAQFBac7PI6kBAcmWj5IJ0OkA5zSGIvlcyQM0zl4MdKkBA6rDVUm49QkAiY+WfK5k8QJdUkahRdz9A7hxIVneRP0Bov5tmzV04QCKemnOE80BADKhs8PkQO0DaSOZYi5U9QC0Ogf5H7DtA3sQ/tWqHQkCXCwLZn1pBQKauZElKWz5A3ZVmuvyeQkBLKR/O+IhBQA+RAFV8pEZAvLtj8D0oSEBnaIcJ4R8xQFYy9oGS8DZAkM0CNVi8P0A/E0Wp/j09QPR9G8Bk8UBA8kdQ5313QEDE4nRygH43QJTvPLxeTD5A4sgLQmlnQUAw+0ael3tBQEhGVxSL/TtAjGy4igPKOkCko7TlLII5QIu/hnCU9kBAktCwWJX4N0AUuwsimj5CQFmi5ZRTDz5Ai6qfd08CO0CixDkgr7tCQF1ewEhACkBA1mn2+71MQUDEARoaLt8yQDIj85AXAEBAgOdv5rajQEBapldz+TA3QBMgCQmQtkFAaXm8OcRUPEBEA8iyiA85QJp2P2+2PkFAvp4BuOm4QkBXQjopf51BQLMQWAAE3EBA6wdQknbpQEDAL3P5ZL86QAfgaQ50xkNAITjle0EZQ0ArDhxYMyxDQEBDcieux0NAwKWqhqBvQECEtkeYYOUXQDXHIuj5ZTVA9jgAHVD+P0DK7PsNy4c/QJhPco/xeDRAI4TfEu8QOkBbHlGtjZ86QDAZN4f8ZjpAvH9hSqjhMEAwfvaAJC1CQBTw/cR0cD5ACanxdr7tQED5QIofzpdAQJN2v9fwWjlAJecnlUG0PUDvBMbiY0I8QFGNVg3XAzZAC3+6lRvfPEC+FNh++w5BQDbYrkG+XThAfpy2Ox3+PkBF/uzUr6QyQMCp1SakHz5A826ChFG1QUCleV1WNetBQP7s15TvJUFAeEUE1l1cRkCQ17NYtoBHQMjALVlVNj1AmBlMAzY4O0Az+ScPnq05QPuvsg1KLEBAj23A1Y0RPUCcZnfsv9o/QO6sa5ApEUFAwGg+u6rxO0CSBtiq0lI3QCRzzBOsOz1AYohSF5dIO0CWJt6nVg5AQLhuapCPeEBA0atqfQgGQECftR42DpQ5QMq/n4wmwDxADjO7wk4QQ0AgHOSYJc5CQJZVnwA6REFAjbr0jWS8Q0Ah9rFanU1AQBCDSzW3DztAwo2luAaJQED5HYtJ5Ls/QOEBn8+hJztAE/4fuQkjQEBo/PTXn8w6QKx7tA9QuUBAkBIBim5aPkAsXS1nO184QIBZ3rhfeD5AkKe1IOlcQUAsy/WLfLhAQJQFciaMiENA1gr6nmwRQEDHaphprVNCQFaITYxxOkRAif6oZSZnQEAueWOPNLFBQHT1a07ky0FA2Fb/pGEAQUBBYNzvCxhDQNcvtGnNlEFA/j55s+HrPkAm9IiPwv4yQBBQonj3tztA+ctNP4juPkC1tDbM/VNAQHzVaVk47z5AtW3n3wfqQkBxnsY38mxBQBQ1LhEDYEBASEKAfPSuNkBp5WhOf0pAQJ3D4qoIW0FAVT67/60gP0BEcOv9NTc6QMHuHLx1iz9AZJVQag4eQEA8IuA1kLU0QNDSWjHOYztASzGUnx3sN0AGCKafU3JCQIksYIdFxkFAo+fXg/rqOkC9hLvJ7t9EQIrlHi+knEVA/oc8lQ8LQUDKyUs3UyQ4QL07XA5mM0FAF9TNZvyvOkA+pfNUjUNAQP4egbBmcTVAKokonD5MPkAvrsdylRk6QMJ6yg4s7DxANrycNvx0P0DBOHowrJk7QDmYWTQDQkBAsIg1cO2qQEDHXmqdMQpAQMeRK8WYXT9AjCrd+rbRPEDm+zFSKHBCQJHFKs/jcDJAmOuWX1RbQkConXUCyfk8QESMGXuI+jJAFP8Bosb1N0DayEgaIB0vQDJ2M4R1xjhAUCCd2mHbNkD1tdV25C9BQITEHjxY6zlAbsM6FpkhPUDixSGOAyY7QKSEu/KnEkBA7CEu/aphNkDcwCWkCgc1QMh/jecncz1AzQUFeuWhN0DdoPEhi2lBQAW4Ap2qUkJAQk/mhrYhOUAQ3qjz86g/QGZxd3y2/TxAiswlIrdkQEBCMCPaSNlCQB9amSr4xUFA6s/FgtPQPEDCGow7sF46QEoDVLRmvjpAx9GJeZyqMkA5XxTWCpVAQPTQ2rZ5az5Al+lLqZmOQUBRh6fhbXc8QDMlWScfnzhA0mr9UUDxP0D/aupgEiA5QKzpjKo/VThAisuwNxCHOECDgobmu688QIcdEnDuYkBACraVKBK9OkBsaZW/uAE7QIocS7mGBUJAl3fbTynsQECAX3sPwno/QOnWc1ak80BACnK/OYOOQ0CahY9S3HZAQJu7CuSBJ0dAfQ1VBf76RkC6meRrI+E3QKAh0h2/ozxAdhEwzvdsPkDivdAFFVA7QKpkeEtumzxAAcApxsu1QUBzSy5y1gw8QNVDYmJukjtAK5ee6WAcP0CBO11Sxjk3QBzosIU2Kj1A/lew4KUEQED6BjWyabc9QK99MLknIEJArLZASh2dQEBd8nrCTu1AQCyj3SHg1T1AhitqLYJzQEA9HqJ/xKNBQM4sz6F/8zxAuI1PKPeGM0Dn03NizPc8QF7WcKLhDzJA11SZdUFoH0A3jZMVo4A9QDB0Gt1xvT1A5icOIcpcP0ASS0GseDBAQGGZo45/Az9AVb+bTanON0AzN07+IyA9QIvVqJo/qT1A6aipCECKP0CBgDCM2LM9QMiOq9Kp0UJAeEJTkX3dQUAWR7Ua6gQ9QGVyCGbQ4z1AtNOy3yRmNEDssxdNW/U9QPbKh39qIDtAf4rQb4MsQkAxVUTvQs9CQD0ZSBv+wT1AfgPVO/14NUBo1eRbacs8QEv72+QaRUFAeE94XoDxQUBZhMONfMQmQIkl3Lxlb0FALnbU9VV4QEAmOPOkLvg6QDP4wSIn1DtA+mXoLvScQECQv3tGcihAQHyk6BwhQDRADdv7ujdlQEDVaLabbe9AQLZTe1DvnD9AD3ZbWaVgQUCa8sKDn+o+QKYUvP4qkkJAnqicXkOeQkAaZ+uDFeNDQPaNMBPp2DtA+jqAxBcoR0A5y++BiqRIQFvC6fA1mTZAjxhrlGD/QEA+73PhULVAQHFNl7Pyg0BATQTjyAmVOUDCWgPPOYFAQN4ORyS9EDZAOatzOsuiQEAhgDyk7mVBQFPnqJNBvjtABOZBEEMdNkAag8EIluE3QOzq4KjDaEJA+l0VZy3gQEAHaJRuC+AyQODL8eESgzpAoC+YaPuIQEB3nVA8g4lCQAbUQeDebz1AWNzvwzeSQkDRdAh5gvVBQMZSXOyV3j5A3hmIZF9dPEBLgyGfM6c9QDTm/GY3Wz9Awn35KqV4OkCnqk6skb9CQBYgRB/KJkBA9bpTpukuO0BlajRvZ3M/QCK1g6+WLTVABPoEeg2YPUDx3OOZkUE4QLKyAo/P0EFAJZS6K1n8P0CYVtavxCdBQD5JAAQfHjtAUczp3s3zO0BEPGUaKek+QJqX+iZ2xjxAcE8CqYc8QECHZ1tHiwQ2QJvL0Xh8LD5ALoEcUmQHPUAHVL/NhasyQOGnNTTLDSBAqUWCeGg4QECsU26Sf6A2QMg+7qoQ1D1AsDZLOsW4OkDFM0jfXZ08QASmUxJ2ajlAr+QKSQpaQEDXcz2r9y0+QCTNix5ROi9AG+evk5I9OEADorwdwDA9QMpDHPww1TtAMIip0y8GQEAd9lLBA3lBQIIbCmCmST5AJnlhdANbP0AQvNH3O846QHCCpSbMzkBAiJDkXsAAPUDWg/OLRc5GQEgGAvhTQ0hAHaNN5QqhQ0DE/cFSudk/QOkowMR6S0BAJAmR+gu2QEC28dvN9o9BQAUOv+hKJkBANPeEBJKkOECml72ffFc2QPTY0hlWdD5Akhy1GjJNPkAQzBzZZ1hAQCw68rkRwD5AjAFfOGZTPkCrJBJ5YRVBQKNhu8mEZDlAGhW2V27yPECVVmUuDQQ0QLeL3O7Z2jFA38mxgtIDQEDApJcoZhVAQHolqdDk2z9Ao+daokL2QED2uMqSFc84QOetE2TE00BAcvsatwGhP0CsHJkQTIg4QEPD/YRUgjlA0ygMYtEWQkB4nfsYju81QPW0ZMsN8DlAsqCxf5JrQED8v9cOveM5QIJSrWPGPTtANbEWr28COEBeuo2/jdhBQJOzsxbHFEFAU8nSLTPbO0ATEqgOl6xAQLocw3hBYDlAZO4VicIiP0DJKF7gVHBBQKzEbFDa90BA5sn/aN37QUBZV+mphYlAQA4gUQKisjNAGnz00he6O0DFElsZJMY1QNqXt1EnMEBAwG1XK3uAPECHss3S2Wc3QK+Xl4JCCixAQFQ2bC3PN0BupkCbalI9QPSGYW/RujZAxUFWfxn5OUAh5pXuxyRAQKijj+DcwD5AyhDNzJ3OPUBa9isa2LE6QIbenEW2l0FAW89zZraKQEB8DAgiGKY/QBYGksUAMkJAY2TogzrzQECQFaVTBy46QPzv7XDOKEdAUBhSW4PrR0APqcqRwlBAQAwSZwEU8DJAcGMgnFYIOUBhKGZln/IxQF585g80u0FAe4a9WQ4SO0Di5PZXlUQ1QCqBgCgNBjlAsW3ZJrQPPkAF1rVLoJY/QEns+IU8zj1AvTNJxkfLNEBztGxicC5AQDI+dHRnUTtASM5mrVaHO0Br+FCRXotAQPYN+3ElFzpAf55e5xF8PEBUjaQusKhCQDDmpMKLd0JACzeQ1yabO0CSOu8D0kI8QMR8qn0+/TVATt4hD/TwPkDvzMBOOVg1QApI02lRUD9AuaTZAYxhQUAyAkD+lUA7QJbb3P4Inj5A/p1s1wKNP0D8eBnrc5U6QFJSt0wbLTFATb3okbyMOECc08YmcMo8QLEfLAI2YUBAgpLL2VsoMUBzeyQtZyVBQOmSGXB1EEFAr83E9agpPkDfoMSYwDFDQHqLbYeyc0BAYWGwDi0NPUCz6C/Mjjc/QHglJwqgvTpAdbmOe+XnPEBMOn7JsqY9QCu5onxRvDtAtWjvMuaEOUCqGBor9klAQD4U366TXzlAJlVzM1HpPUBXUhT55EQ+QJgZNrzHGEBAasje+v7dQ0C0NyyAI5s/QEA8OVINhDhAx1x1WQ1WPUBmpcJTNMo7QMtje8ipLUBA17WOSrlJQUDmIagDB/46QKv+TENaBUJAJcVCMdTnQUCVfQlQo1VCQJRtQWjuWDJAalae7yl/RkDG1PaX7YBIQBHpfC0Du0FARsWZwJlpQUCi0VlynWpDQBGzuqGXAkRAPK3BJ6KqPUA4PiG1J1k8QOty+PIwgjNAugaYRYV6O0ByDcUrfB08QJ2ofP+TGEFAgWcQYYGdN0AveFss1Vs8QMLXPdwCcTxAqEiWpbiROEBkFXsboJ88QGJocmRMpEBA8Wx+BB/0P0DDYaOKttZBQMZEpef/+EFAcOhJpTkuQUB9PNiMpsI8QJZP9nkFwjxAfTSnY/rIQEB0w7I2oCI4QFnotJ/7lUBAEhYKRNuwQEDQPK0KiaU9QMT7h1y8Q0FAlPkodihHNEDVpGUT1bA+QITcDNUQOzlAdG5/9PvwOEDfQ6Ndw0E+QNuO6c4+0yxAiJvK3c9PPkCSaBgC2qhAQOYV6oDb5T5A8TZv61rUQECDd5F/BoQ5QMo2cQm1xjRAqqDU7e8EPECMmOh4m0I4QBHL6fVpS0BADNKIPz9TQEA+f8dHr9c6QFPlVoolxj1ApMkJ/zjCQECxnDTYqSRCQETLi+29/CZAembT4QLdP0C5uhP582I+QASW8pQyDEBAt+j19U1cQUAdBpV5DA5CQGF9hsua80JAyX9OO8g8QEAyLuf40pw7QOy0Qob9kSpAjXx9/Gz2PEBKM33eRxE9QEcKS9XWpEFAH0exbDBlPEAwzf6pGvNBQBYMhmsmGENAYAmK+CasQUAOqI6FLjhGQLmyJfVLwEdAOrQ96Zx2QEDzuUCZcLc/QGMfP7m0YkFAMe4DvCleQ0Ah0l0WzMRAQHO0DHQcXTZAJDCVVk2yO0A6zd6O/7A2QJ60xkw5PTxAXXq926z+O0CJSx7enj84QJcPlnlLbjtAd2Tx8F8vOEBWOvinx3k7QI99UVHCVTpAsr+jlCNbOEBCZ6WUGxU/QFAoh4Ml1D1AWreXkdZROEDqOkLGJD82QEot4AZfNTlA/hdShHb4MEBsgeSOjStAQBHKAQNCbkFA1qDSn5yYO0BZaMkb2fRBQIrcTHl470JA6SglmeKdQUBnjZY/fQhAQDDCilKxjjhACYRJI/rpN0Bqacn5A7o+QOGLxyaLBztA1JD29uZ6PUADTZMMi4I2QPJPd3BVB0NApXVCVavrQEAgrrGTeyVAQEWwGLik/yxA3KJzr1JRP0Aav4veW19BQJIY0oNH/TdAu1FEsyr8QECiGLrxPy9DQNNIZeGFxj9AV68CRXFsNkCgkdBMdDE8QNwIxisSuzxAsPoSVAnJQUDzSTKbJehBQNyIhtG89jlArN80FsYlP0B0PY+1DO4/QCpXEIgOkzpAM++bS4CdQEAmVsKdC+A9QNeuvDDpWUFAsOAtICyzPEATs3JJHek8QARrnr0kskFAKPB/5SrjQUChR4u/6ygxQBxMhCMjR0NAO9j9+gzEQUCY+4VCN7o9QOv1J3dz6kZAZqIPqRWYSECwrDlr77ZAQBBz55OOMD1ABrlIYciIPkBEHkn4Sk9BQOd9OrHYfkBAZ/9nVtPBOUD6aXKu3KQ8QDTLpy2avjVAVhNcY0ooPUB86SSyARlBQHVQMZHDxj9AeeQlGzcfPkBTF/9DCDc+QG8n2kP6ozpADtc50jCoPUBwSxpAumJAQCYFbt5C3TBANeh6xZiwNkB1v4Y4yio4QGkN0qWvTEBA7ezM/qr/MkApSxFUXCw6QLhc7oNufDRAR2pjZcJWM0Bia8Cjzwk+QEbWH7DHrhXAMaoDf+3ML0APJwF8hgQ4QEzkwWUmvjVAUuuvpBwePED3U/N0VxY/QIZkGr8fRt6/F8uPH04kMkBJZcNnzqA7QJb9LC/NXEFAalzP9jwFOkB9jWorItk0QAzq6qYtQj5AxT3P69aDKkCzZp6YAdU/QELg8CGGakFA6gyZmZELL0CDudCCd04xQFuUh/CdxDZANqztBSN4OEDZM1zx9MI5QLNv7+/M0jBArube1BLNKkBfQ9drAKw3QAaWLzUlzjJATA7sebOGQUDyIxpDzI9BQNb/jnNZIDxAGvg5SInuPUBhFpJ4ado7QKdJaqKmUT5AW4zrgFWxPUDDxR2p3881QDs6PDrkFT5ABV978CtzMkCmm4NM+Fk9QJAL/MpzLEBAaJ7vqVuHNUDXom7ZN/lBQF2Zaqw/AjpA9lJ0V3jNRUAUfsEbsT1FQBut74HB7EFADjQaWd3kQUAt6doNhMY2QIGizxib4TtAu1z7xZpuQkAnF/dwM/ZAQPfL4DZHFDlAxUK7yVH1LUAyAW1KZrgqQDIZfaQDlzJA",
          "dtype": "f8",
          "shape": "129, 67"
         }
        }
       ],
       "layout": {
        "template": {
         "data": {
          "bar": [
           {
            "error_x": {
             "color": "#2a3f5f"
            },
            "error_y": {
             "color": "#2a3f5f"
            },
            "marker": {
             "line": {
              "color": "white",
              "width": 0.5
             },
             "pattern": {
              "fillmode": "overlay",
              "size": 10,
              "solidity": 0.2
             }
            },
            "type": "bar"
           }
          ],
          "barpolar": [
           {
            "marker": {
             "line": {
              "color": "white",
              "width": 0.5
             },
             "pattern": {
              "fillmode": "overlay",
              "size": 10,
              "solidity": 0.2
             }
            },
            "type": "barpolar"
           }
          ],
          "carpet": [
           {
            "aaxis": {
             "endlinecolor": "#2a3f5f",
             "gridcolor": "#C8D4E3",
             "linecolor": "#C8D4E3",
             "minorgridcolor": "#C8D4E3",
             "startlinecolor": "#2a3f5f"
            },
            "baxis": {
             "endlinecolor": "#2a3f5f",
             "gridcolor": "#C8D4E3",
             "linecolor": "#C8D4E3",
             "minorgridcolor": "#C8D4E3",
             "startlinecolor": "#2a3f5f"
            },
            "type": "carpet"
           }
          ],
          "choropleth": [
           {
            "colorbar": {
             "outlinewidth": 0,
             "ticks": ""
            },
            "type": "choropleth"
           }
          ],
          "contour": [
           {
            "colorbar": {
             "outlinewidth": 0,
             "ticks": ""
            },
            "colorscale": [
             [
              0,
              "#0d0887"
             ],
             [
              0.1111111111111111,
              "#46039f"
             ],
             [
              0.2222222222222222,
              "#7201a8"
             ],
             [
              0.3333333333333333,
              "#9c179e"
             ],
             [
              0.4444444444444444,
              "#bd3786"
             ],
             [
              0.5555555555555556,
              "#d8576b"
             ],
             [
              0.6666666666666666,
              "#ed7953"
             ],
             [
              0.7777777777777778,
              "#fb9f3a"
             ],
             [
              0.8888888888888888,
              "#fdca26"
             ],
             [
              1,
              "#f0f921"
             ]
            ],
            "type": "contour"
           }
          ],
          "contourcarpet": [
           {
            "colorbar": {
             "outlinewidth": 0,
             "ticks": ""
            },
            "type": "contourcarpet"
           }
          ],
          "heatmap": [
           {
            "colorbar": {
             "outlinewidth": 0,
             "ticks": ""
            },
            "colorscale": [
             [
              0,
              "#0d0887"
             ],
             [
              0.1111111111111111,
              "#46039f"
             ],
             [
              0.2222222222222222,
              "#7201a8"
             ],
             [
              0.3333333333333333,
              "#9c179e"
             ],
             [
              0.4444444444444444,
              "#bd3786"
             ],
             [
              0.5555555555555556,
              "#d8576b"
             ],
             [
              0.6666666666666666,
              "#ed7953"
             ],
             [
              0.7777777777777778,
              "#fb9f3a"
             ],
             [
              0.8888888888888888,
              "#fdca26"
             ],
             [
              1,
              "#f0f921"
             ]
            ],
            "type": "heatmap"
           }
          ],
          "histogram": [
           {
            "marker": {
             "pattern": {
              "fillmode": "overlay",
              "size": 10,
              "solidity": 0.2
             }
            },
            "type": "histogram"
           }
          ],
          "histogram2d": [
           {
            "colorbar": {
             "outlinewidth": 0,
             "ticks": ""
            },
            "colorscale": [
             [
              0,
              "#0d0887"
             ],
             [
              0.1111111111111111,
              "#46039f"
             ],
             [
              0.2222222222222222,
              "#7201a8"
             ],
             [
              0.3333333333333333,
              "#9c179e"
             ],
             [
              0.4444444444444444,
              "#bd3786"
             ],
             [
              0.5555555555555556,
              "#d8576b"
             ],
             [
              0.6666666666666666,
              "#ed7953"
             ],
             [
              0.7777777777777778,
              "#fb9f3a"
             ],
             [
              0.8888888888888888,
              "#fdca26"
             ],
             [
              1,
              "#f0f921"
             ]
            ],
            "type": "histogram2d"
           }
          ],
          "histogram2dcontour": [
           {
            "colorbar": {
             "outlinewidth": 0,
             "ticks": ""
            },
            "colorscale": [
             [
              0,
              "#0d0887"
             ],
             [
              0.1111111111111111,
              "#46039f"
             ],
             [
              0.2222222222222222,
              "#7201a8"
             ],
             [
              0.3333333333333333,
              "#9c179e"
             ],
             [
              0.4444444444444444,
              "#bd3786"
             ],
             [
              0.5555555555555556,
              "#d8576b"
             ],
             [
              0.6666666666666666,
              "#ed7953"
             ],
             [
              0.7777777777777778,
              "#fb9f3a"
             ],
             [
              0.8888888888888888,
              "#fdca26"
             ],
             [
              1,
              "#f0f921"
             ]
            ],
            "type": "histogram2dcontour"
           }
          ],
          "mesh3d": [
           {
            "colorbar": {
             "outlinewidth": 0,
             "ticks": ""
            },
            "type": "mesh3d"
           }
          ],
          "parcoords": [
           {
            "line": {
             "colorbar": {
              "outlinewidth": 0,
              "ticks": ""
             }
            },
            "type": "parcoords"
           }
          ],
          "pie": [
           {
            "automargin": true,
            "type": "pie"
           }
          ],
          "scatter": [
           {
            "fillpattern": {
             "fillmode": "overlay",
             "size": 10,
             "solidity": 0.2
            },
            "type": "scatter"
           }
          ],
          "scatter3d": [
           {
            "line": {
             "colorbar": {
              "outlinewidth": 0,
              "ticks": ""
             }
            },
            "marker": {
             "colorbar": {
              "outlinewidth": 0,
              "ticks": ""
             }
            },
            "type": "scatter3d"
           }
          ],
          "scattercarpet": [
           {
            "marker": {
             "colorbar": {
              "outlinewidth": 0,
              "ticks": ""
             }
            },
            "type": "scattercarpet"
           }
          ],
          "scattergeo": [
           {
            "marker": {
             "colorbar": {
              "outlinewidth": 0,
              "ticks": ""
             }
            },
            "type": "scattergeo"
           }
          ],
          "scattergl": [
           {
            "marker": {
             "colorbar": {
              "outlinewidth": 0,
              "ticks": ""
             }
            },
            "type": "scattergl"
           }
          ],
          "scattermap": [
           {
            "marker": {
             "colorbar": {
              "outlinewidth": 0,
              "ticks": ""
             }
            },
            "type": "scattermap"
           }
          ],
          "scattermapbox": [
           {
            "marker": {
             "colorbar": {
              "outlinewidth": 0,
              "ticks": ""
             }
            },
            "type": "scattermapbox"
           }
          ],
          "scatterpolar": [
           {
            "marker": {
             "colorbar": {
              "outlinewidth": 0,
              "ticks": ""
             }
            },
            "type": "scatterpolar"
           }
          ],
          "scatterpolargl": [
           {
            "marker": {
             "colorbar": {
              "outlinewidth": 0,
              "ticks": ""
             }
            },
            "type": "scatterpolargl"
           }
          ],
          "scatterternary": [
           {
            "marker": {
             "colorbar": {
              "outlinewidth": 0,
              "ticks": ""
             }
            },
            "type": "scatterternary"
           }
          ],
          "surface": [
           {
            "colorbar": {
             "outlinewidth": 0,
             "ticks": ""
            },
            "colorscale": [
             [
              0,
              "#0d0887"
             ],
             [
              0.1111111111111111,
              "#46039f"
             ],
             [
              0.2222222222222222,
              "#7201a8"
             ],
             [
              0.3333333333333333,
              "#9c179e"
             ],
             [
              0.4444444444444444,
              "#bd3786"
             ],
             [
              0.5555555555555556,
              "#d8576b"
             ],
             [
              0.6666666666666666,
              "#ed7953"
             ],
             [
              0.7777777777777778,
              "#fb9f3a"
             ],
             [
              0.8888888888888888,
              "#fdca26"
             ],
             [
              1,
              "#f0f921"
             ]
            ],
            "type": "surface"
           }
          ],
          "table": [
           {
            "cells": {
             "fill": {
              "color": "#EBF0F8"
             },
             "line": {
              "color": "white"
             }
            },
            "header": {
             "fill": {
              "color": "#C8D4E3"
             },
             "line": {
              "color": "white"
             }
            },
            "type": "table"
           }
          ]
         },
         "layout": {
          "annotationdefaults": {
           "arrowcolor": "#2a3f5f",
           "arrowhead": 0,
           "arrowwidth": 1
          },
          "autotypenumbers": "strict",
          "coloraxis": {
           "colorbar": {
            "outlinewidth": 0,
            "ticks": ""
           }
          },
          "colorscale": {
           "diverging": [
            [
             0,
             "#8e0152"
            ],
            [
             0.1,
             "#c51b7d"
            ],
            [
             0.2,
             "#de77ae"
            ],
            [
             0.3,
             "#f1b6da"
            ],
            [
             0.4,
             "#fde0ef"
            ],
            [
             0.5,
             "#f7f7f7"
            ],
            [
             0.6,
             "#e6f5d0"
            ],
            [
             0.7,
             "#b8e186"
            ],
            [
             0.8,
             "#7fbc41"
            ],
            [
             0.9,
             "#4d9221"
            ],
            [
             1,
             "#276419"
            ]
           ],
           "sequential": [
            [
             0,
             "#0d0887"
            ],
            [
             0.1111111111111111,
             "#46039f"
            ],
            [
             0.2222222222222222,
             "#7201a8"
            ],
            [
             0.3333333333333333,
             "#9c179e"
            ],
            [
             0.4444444444444444,
             "#bd3786"
            ],
            [
             0.5555555555555556,
             "#d8576b"
            ],
            [
             0.6666666666666666,
             "#ed7953"
            ],
            [
             0.7777777777777778,
             "#fb9f3a"
            ],
            [
             0.8888888888888888,
             "#fdca26"
            ],
            [
             1,
             "#f0f921"
            ]
           ],
           "sequentialminus": [
            [
             0,
             "#0d0887"
            ],
            [
             0.1111111111111111,
             "#46039f"
            ],
            [
             0.2222222222222222,
             "#7201a8"
            ],
            [
             0.3333333333333333,
             "#9c179e"
            ],
            [
             0.4444444444444444,
             "#bd3786"
            ],
            [
             0.5555555555555556,
             "#d8576b"
            ],
            [
             0.6666666666666666,
             "#ed7953"
            ],
            [
             0.7777777777777778,
             "#fb9f3a"
            ],
            [
             0.8888888888888888,
             "#fdca26"
            ],
            [
             1,
             "#f0f921"
            ]
           ]
          },
          "colorway": [
           "#636efa",
           "#EF553B",
           "#00cc96",
           "#ab63fa",
           "#FFA15A",
           "#19d3f3",
           "#FF6692",
           "#B6E880",
           "#FF97FF",
           "#FECB52"
          ],
          "font": {
           "color": "#2a3f5f"
          },
          "geo": {
           "bgcolor": "white",
           "lakecolor": "white",
           "landcolor": "white",
           "showlakes": true,
           "showland": true,
           "subunitcolor": "#C8D4E3"
          },
          "hoverlabel": {
           "align": "left"
          },
          "hovermode": "closest",
          "mapbox": {
           "style": "light"
          },
          "paper_bgcolor": "white",
          "plot_bgcolor": "white",
          "polar": {
           "angularaxis": {
            "gridcolor": "#EBF0F8",
            "linecolor": "#EBF0F8",
            "ticks": ""
           },
           "bgcolor": "white",
           "radialaxis": {
            "gridcolor": "#EBF0F8",
            "linecolor": "#EBF0F8",
            "ticks": ""
           }
          },
          "scene": {
           "xaxis": {
            "backgroundcolor": "white",
            "gridcolor": "#DFE8F3",
            "gridwidth": 2,
            "linecolor": "#EBF0F8",
            "showbackground": true,
            "ticks": "",
            "zerolinecolor": "#EBF0F8"
           },
           "yaxis": {
            "backgroundcolor": "white",
            "gridcolor": "#DFE8F3",
            "gridwidth": 2,
            "linecolor": "#EBF0F8",
            "showbackground": true,
            "ticks": "",
            "zerolinecolor": "#EBF0F8"
           },
           "zaxis": {
            "backgroundcolor": "white",
            "gridcolor": "#DFE8F3",
            "gridwidth": 2,
            "linecolor": "#EBF0F8",
            "showbackground": true,
            "ticks": "",
            "zerolinecolor": "#EBF0F8"
           }
          },
          "shapedefaults": {
           "line": {
            "color": "#2a3f5f"
           }
          },
          "ternary": {
           "aaxis": {
            "gridcolor": "#DFE8F3",
            "linecolor": "#A2B1C6",
            "ticks": ""
           },
           "baxis": {
            "gridcolor": "#DFE8F3",
            "linecolor": "#A2B1C6",
            "ticks": ""
           },
           "bgcolor": "white",
           "caxis": {
            "gridcolor": "#DFE8F3",
            "linecolor": "#A2B1C6",
            "ticks": ""
           }
          },
          "title": {
           "x": 0.05
          },
          "xaxis": {
           "automargin": true,
           "gridcolor": "#EBF0F8",
           "linecolor": "#EBF0F8",
           "ticks": "",
           "title": {
            "standoff": 15
           },
           "zerolinecolor": "#EBF0F8",
           "zerolinewidth": 2
          },
          "yaxis": {
           "automargin": true,
           "gridcolor": "#EBF0F8",
           "linecolor": "#EBF0F8",
           "ticks": "",
           "title": {
            "standoff": 15
           },
           "zerolinecolor": "#EBF0F8",
           "zerolinewidth": 2
          }
         }
        },
        "title": {
         "text": "Spectrogram – Hydro (NO3)"
        },
        "xaxis": {
         "title": {
          "text": "Time (hours)"
         }
        },
        "yaxis": {
         "title": {
          "text": "Frequency (1/hour)"
         }
        }
       }
      }
     },
     "metadata": {},
     "output_type": "display_data"
    }
   ],
   "source": [
    "fig_spec, (f, t, Sxx) = plot_spectrogram(df, pricearea=\"NO3\", productiongroup=\"hydro\")\n",
    "fig_spec.show()"
   ]
  }
 ],
 "metadata": {
  "kernelspec": {
   "display_name": ".venv",
   "language": "python",
   "name": "python3"
  },
  "language_info": {
   "codemirror_mode": {
    "name": "ipython",
    "version": 3
   },
   "file_extension": ".py",
   "mimetype": "text/x-python",
   "name": "python",
   "nbconvert_exporter": "python",
   "pygments_lexer": "ipython3",
   "version": "3.12.9"
  }
 },
 "nbformat": 4,
 "nbformat_minor": 5
}

{
 "cells": [
  {
   "cell_type": "code",
   "execution_count": 1,
   "id": "721de61e",
   "metadata": {},
   "outputs": [],
   "source": [
    "from pyspark.sql import SparkSession\n",
    "\n",
    "import plotly.express as px\n",
    "import ipywidgets as widgets\n",
    "\n",
    "import pandas as pd"
   ]
  },
  {
   "cell_type": "code",
   "execution_count": 2,
   "id": "425f1ef3",
   "metadata": {},
   "outputs": [
    {
     "name": "stderr",
     "output_type": "stream",
     "text": [
      "25/10/31 11:26:00 WARN Utils: Your hostname, Fabians-MacBook-Pro.local resolves to a loopback address: 127.0.0.1; using 172.20.10.3 instead (on interface en0)\n",
      "25/10/31 11:26:00 WARN Utils: Set SPARK_LOCAL_IP if you need to bind to another address\n",
      "Ivy Default Cache set to: /Users/fabianheflo/.ivy2/cache\n",
      "The jars for the packages stored in: /Users/fabianheflo/.ivy2/jars\n",
      "com.datastax.spark#spark-cassandra-connector_2.12 added as a dependency\n",
      ":: resolving dependencies :: org.apache.spark#spark-submit-parent-6d471439-ae1d-4441-8da0-6f0e33bc642b;1.0\n",
      "\tconfs: [default]\n"
     ]
    },
    {
     "name": "stdout",
     "output_type": "stream",
     "text": [
      ":: loading settings :: url = jar:file:/Users/fabianheflo/UNI_courses/IND320/IND320/.venv/lib/python3.12/site-packages/pyspark/jars/ivy-2.5.1.jar!/org/apache/ivy/core/settings/ivysettings.xml\n"
     ]
    },
    {
     "name": "stderr",
     "output_type": "stream",
     "text": [
      "\tfound com.datastax.spark#spark-cassandra-connector_2.12;3.5.1 in central\n",
      "\tfound com.datastax.spark#spark-cassandra-connector-driver_2.12;3.5.1 in central\n",
      "\tfound org.scala-lang.modules#scala-collection-compat_2.12;2.11.0 in central\n",
      "\tfound org.apache.cassandra#java-driver-core-shaded;4.18.1 in central\n",
      "\tfound com.datastax.oss#native-protocol;1.5.1 in central\n",
      "\tfound com.datastax.oss#java-driver-shaded-guava;25.1-jre-graal-sub-1 in central\n",
      "\tfound com.typesafe#config;1.4.1 in central\n",
      "\tfound org.slf4j#slf4j-api;1.7.26 in central\n",
      "\tfound io.dropwizard.metrics#metrics-core;4.1.18 in central\n",
      "\tfound org.hdrhistogram#HdrHistogram;2.1.12 in central\n",
      "\tfound org.reactivestreams#reactive-streams;1.0.3 in central\n",
      "\tfound org.apache.cassandra#java-driver-mapper-runtime;4.18.1 in central\n",
      "\tfound org.apache.cassandra#java-driver-query-builder;4.18.1 in central\n",
      "\tfound org.apache.commons#commons-lang3;3.10 in central\n",
      "\tfound com.thoughtworks.paranamer#paranamer;2.8 in central\n",
      "\tfound org.scala-lang#scala-reflect;2.12.19 in central\n",
      ":: resolution report :: resolve 247ms :: artifacts dl 7ms\n",
      "\t:: modules in use:\n",
      "\tcom.datastax.oss#java-driver-shaded-guava;25.1-jre-graal-sub-1 from central in [default]\n",
      "\tcom.datastax.oss#native-protocol;1.5.1 from central in [default]\n",
      "\tcom.datastax.spark#spark-cassandra-connector-driver_2.12;3.5.1 from central in [default]\n",
      "\tcom.datastax.spark#spark-cassandra-connector_2.12;3.5.1 from central in [default]\n",
      "\tcom.thoughtworks.paranamer#paranamer;2.8 from central in [default]\n",
      "\tcom.typesafe#config;1.4.1 from central in [default]\n",
      "\tio.dropwizard.metrics#metrics-core;4.1.18 from central in [default]\n",
      "\torg.apache.cassandra#java-driver-core-shaded;4.18.1 from central in [default]\n",
      "\torg.apache.cassandra#java-driver-mapper-runtime;4.18.1 from central in [default]\n",
      "\torg.apache.cassandra#java-driver-query-builder;4.18.1 from central in [default]\n",
      "\torg.apache.commons#commons-lang3;3.10 from central in [default]\n",
      "\torg.hdrhistogram#HdrHistogram;2.1.12 from central in [default]\n",
      "\torg.reactivestreams#reactive-streams;1.0.3 from central in [default]\n",
      "\torg.scala-lang#scala-reflect;2.12.19 from central in [default]\n",
      "\torg.scala-lang.modules#scala-collection-compat_2.12;2.11.0 from central in [default]\n",
      "\torg.slf4j#slf4j-api;1.7.26 from central in [default]\n",
      "\t---------------------------------------------------------------------\n",
      "\t|                  |            modules            ||   artifacts   |\n",
      "\t|       conf       | number| search|dwnlded|evicted|| number|dwnlded|\n",
      "\t---------------------------------------------------------------------\n",
      "\t|      default     |   16  |   0   |   0   |   0   ||   16  |   0   |\n",
      "\t---------------------------------------------------------------------\n",
      ":: retrieving :: org.apache.spark#spark-submit-parent-6d471439-ae1d-4441-8da0-6f0e33bc642b\n",
      "\tconfs: [default]\n",
      "\t0 artifacts copied, 16 already retrieved (0kB/4ms)\n",
      "25/10/31 11:26:00 WARN NativeCodeLoader: Unable to load native-hadoop library for your platform... using builtin-java classes where applicable\n",
      "Setting default log level to \"WARN\".\n",
      "To adjust logging level use sc.setLogLevel(newLevel). For SparkR, use setLogLevel(newLevel).\n"
     ]
    },
    {
     "name": "stdout",
     "output_type": "stream",
     "text": [
      "✅ SparkSession started with Cassandra integration\n"
     ]
    }
   ],
   "source": [
    "spark = SparkSession.builder \\\n",
    "    .appName(\"ElhubGold\") \\\n",
    "    .master(\"local[*]\") \\\n",
    "    .config(\"spark.jars.packages\", \"com.datastax.spark:spark-cassandra-connector_2.12:3.5.1\") \\\n",
    "    .config(\"spark.cassandra.connection.host\", \"127.0.0.1\") \\\n",
    "    .config(\"spark.cassandra.connection.port\", \"9042\") \\\n",
    "    .config(\"spark.sql.extensions\", \"com.datastax.spark.connector.CassandraSparkExtensions\") \\\n",
    "    .config(\"spark.sql.catalog.mycatalog\", \"com.datastax.spark.connector.datasource.CassandraCatalog\") \\\n",
    "    .config(\"spark.cassandra.output.consistency.level\", \"ONE\") \\\n",
    "    .config(\"spark.cassandra.connection.keepAliveMS\", \"60000\") \\\n",
    "    .getOrCreate()\n",
    "\n",
    "print(\"✅ SparkSession started with Cassandra integration\")"
   ]
  },
  {
   "cell_type": "code",
   "execution_count": 3,
   "id": "9a86ee84",
   "metadata": {},
   "outputs": [
    {
     "name": "stderr",
     "output_type": "stream",
     "text": [
      "                                                                                \r"
     ]
    }
   ],
   "source": [
    "silver_df = (\n",
    "    spark.read\n",
    "    .format(\"org.apache.spark.sql.cassandra\")\n",
    "    .options(table=\"production_silver\", keyspace=\"elhub_data\")\n",
    "    .load()\n",
    ")\n",
    "\n",
    "pdf = silver_df.toPandas()\n",
    "pdf[\"starttime\"] = pd.to_datetime(pdf[\"starttime\"])\n",
    "pdf[\"month\"] = pdf[\"starttime\"].dt.month"
   ]
  },
  {
   "cell_type": "code",
   "execution_count": 4,
   "id": "2dc38572",
   "metadata": {},
   "outputs": [],
   "source": [
    "# Unique price areas\n",
    "price_areas = sorted(pdf[\"pricearea\"].unique())\n",
    "\n",
    "# Month selection\n",
    "month_options = {\n",
    "    \"All year\": 0,\n",
    "    \"January\": 1,\n",
    "    \"February\": 2,\n",
    "    \"March\": 3,\n",
    "    \"April\": 4,\n",
    "    \"May\": 5,\n",
    "    \"June\": 6,\n",
    "    \"July\": 7,\n",
    "    \"August\": 8,\n",
    "    \"September\": 9,\n",
    "    \"October\": 10,\n",
    "    \"November\": 11,\n",
    "    \"December\": 12,\n",
    "}\n",
    "\n",
    "area_dropdown = widgets.Dropdown(\n",
    "    options=price_areas,\n",
    "    value=price_areas[0],\n",
    "    description=\"Area:\",\n",
    ")\n",
    "\n",
    "month_dropdown = widgets.Dropdown(\n",
    "    options=month_options,\n",
    "    value=0,\n",
    "    description=\"Month:\",\n",
    ")"
   ]
  },
  {
   "cell_type": "code",
   "execution_count": 5,
   "id": "2b751842",
   "metadata": {},
   "outputs": [],
   "source": [
    "def update_visuals(price_area, month):\n",
    "    # Filter by selected area\n",
    "    subset = pdf[pdf[\"pricearea\"] == price_area]\n",
    "\n",
    "    # Filter by month (if selected)\n",
    "    if month != 0:\n",
    "        subset = subset[subset[\"month\"] == month]\n",
    "        title_suffix = f\"Month: {month}\"\n",
    "    else:\n",
    "        title_suffix = \"Whole year\"\n",
    "\n",
    "    # --- Pie chart (total production per energy source) ---\n",
    "    pie_data = subset.groupby(\"productiongroup\")[\"quantitykwh\"].sum().reset_index()\n",
    "    fig_pie = px.pie(\n",
    "        pie_data,\n",
    "        values=\"quantitykwh\",\n",
    "        names=\"productiongroup\",\n",
    "        title=f\"Total production in {price_area} ({title_suffix})\",\n",
    "        color_discrete_sequence=px.colors.qualitative.Pastel\n",
    "    )\n",
    "\n",
    "    # --- Line chart (development over time) ---\n",
    "    line_data = (\n",
    "        subset.groupby([\"starttime\", \"productiongroup\"])[\"quantitykwh\"].sum().reset_index()\n",
    "    )\n",
    "    fig_line = px.line(\n",
    "        line_data,\n",
    "        x=\"starttime\",\n",
    "        y=\"quantitykwh\",\n",
    "        color=\"productiongroup\",\n",
    "        title=f\"Production over time in {price_area} ({title_suffix})\",\n",
    "        labels={\"quantitykwh\": \"kWh\", \"starttime\": \"Time\"}\n",
    "    )\n",
    "\n",
    "    # Show both\n",
    "    fig_pie.show()\n",
    "    fig_line.show()"
   ]
  },
  {
   "cell_type": "markdown",
   "id": "e99523bb",
   "metadata": {},
   "source": [
    "### Interactive Plot\n",
    "\n",
    "- Choose area with dropdown. \n",
    "- Choose month wiht dropdown. All year is default.\n",
    "- Click on the colors in the legend to hide it from the plot. Makes it easier to analys the smaller groups.\n"
   ]
  },
  {
   "cell_type": "code",
   "execution_count": 6,
   "id": "89005f44",
   "metadata": {},
   "outputs": [
    {
     "data": {
      "application/vnd.jupyter.widget-view+json": {
       "model_id": "385465590a394754a1d7bf569b18dfd1",
       "version_major": 2,
       "version_minor": 0
      },
      "text/plain": [
       "interactive(children=(Dropdown(description='Area:', options=('NO1', 'NO2', 'NO3', 'NO4', 'NO5'), value='NO1'),…"
      ]
     },
     "execution_count": 6,
     "metadata": {},
     "output_type": "execute_result"
    }
   ],
   "source": [
    "widgets.interactive(\n",
    "    update_visuals,\n",
    "    price_area=area_dropdown,\n",
    "    month=month_dropdown\n",
    ")"
   ]
  },
  {
   "cell_type": "markdown",
   "id": "f1449cf8",
   "metadata": {},
   "source": [
    "# Assignment 3 Parts:"
   ]
  },
  {
   "cell_type": "markdown",
   "id": "1c3f42e1",
   "metadata": {},
   "source": [
    "## STL and Spectrogram "
   ]
  },
  {
   "cell_type": "code",
   "execution_count": 65,
   "id": "9d0b1dc0",
   "metadata": {},
   "outputs": [],
   "source": [
    "import plotly.graph_objects as go\n",
    "from plotly.subplots import make_subplots\n",
    "from statsmodels.tsa.seasonal import STL\n",
    "from scipy import signal\n",
    "import numpy as np\n",
    "import ipywidgets as widgets\n",
    "from IPython.display import display\n",
    "from functools import lru_cache"
   ]
  },
  {
   "cell_type": "code",
   "execution_count": 36,
   "id": "e74809c8",
   "metadata": {},
   "outputs": [],
   "source": [
    "def prepare_production_series(df, pricearea=\"NO3\", productiongroup=\"hydro\"):\n",
    "    df_sel = df[(df[\"pricearea\"] == pricearea) & (df[\"productiongroup\"] == productiongroup)].copy()\n",
    "    df_sel[\"time\"] = pd.to_datetime(df_sel[\"time\"])\n",
    "    df_sel = df_sel.groupby(\"time\", as_index=False)[\"quantitykwh\"].sum()\n",
    "    df_sel[\"production_mwh\"] = df_sel[\"quantitykwh\"] / 1000  # convert for readability\n",
    "    df_sel = df_sel.set_index(\"time\").asfreq(\"h\")  # ensure hourly continuity\n",
    "    return df_sel"
   ]
  },
  {
   "cell_type": "code",
   "execution_count": null,
   "id": "57293086",
   "metadata": {},
   "outputs": [],
   "source": [
    "@lru_cache(maxsize=128)\n",
    "def prepare_data(area, group, period=24, seasonal=13, trend=169):\n",
    "    df_sel = df[(df[\"pricearea\"] == area) & (df[\"productiongroup\"] == group)].copy()\n",
    "    df_sel = df_sel.groupby(\"time\", as_index=False)[\"quantitykwh\"].sum()\n",
    "    df_sel[\"production_mwh\"] = df_sel[\"quantitykwh\"] / 1000\n",
    "    df_sel = df_sel.set_index(\"time\").asfreq(\"h\")\n",
    "    series = df_sel[\"production_mwh\"].interpolate()\n",
    "    \n",
    "    if trend <= period:\n",
    "        trend = period + 1 if (period + 1) % 2 else period + 2\n",
    "    \n",
    "    stl = STL(series, period=period, seasonal=seasonal, trend=trend, robust=True)\n",
    "    res = stl.fit()\n",
    "    \n",
    "    df_sel[\"trend\"] = res.trend\n",
    "    df_sel[\"seasonal\"] = res.seasonal\n",
    "    df_sel[\"resid\"] = res.resid\n",
    "    \n",
    "    return df_sel\n",
    "\n",
    "def interactive_stl_decomposition(df, priceareas=None, groups=None,\n",
    "                                period=24, seasonal_default=13, trend_default=169):\n",
    "    if priceareas is None:\n",
    "        priceareas = sorted(df[\"pricearea\"].unique())\n",
    "    if groups is None:\n",
    "        groups = sorted(df[\"productiongroup\"].unique())\n",
    "\n",
    "    area_widget = widgets.Dropdown(options=priceareas, value=priceareas[0], description=\"Area:\")\n",
    "    group_widget = widgets.Dropdown(options=groups, value=groups[0], description=\"Group:\")\n",
    "    seasonal_widget = widgets.IntSlider(value=seasonal_default, min=5, max=49, step=4, description=\"Seasonal\")\n",
    "    trend_widget = widgets.IntSlider(value=trend_default, min=25, max=289, step=24, description=\"Trend\")\n",
    "\n",
    "    def plot(area, group, seasonal, trend):\n",
    "        df_sel = prepare_data(area, group, period, seasonal, trend)\n",
    "\n",
    "        fig = make_subplots(\n",
    "            rows=4, cols=1, shared_xaxes=True, vertical_spacing=0.03,\n",
    "            subplot_titles=(\"Original\", \"Trend\", \"Seasonal\", \"Residual\")\n",
    "        )\n",
    "        fig.add_trace(go.Scatter(x=df_sel.index, y=df_sel[\"production_mwh\"], name=\"Original\", line=dict(color=\"black\")), row=1, col=1)\n",
    "        fig.add_trace(go.Scatter(x=df_sel.index, y=df_sel[\"trend\"], name=\"Trend\", line=dict(color=\"blue\")), row=2, col=1)\n",
    "        fig.add_trace(go.Scatter(x=df_sel.index, y=df_sel[\"seasonal\"], name=\"Seasonal\", line=dict(color=\"orange\")), row=3, col=1)\n",
    "        fig.add_trace(go.Scatter(x=df_sel.index, y=df_sel[\"resid\"], name=\"Residual\", line=dict(color=\"red\")), row=4, col=1)\n",
    "        fig.update_layout(height=900, width=950, title=f\"STL Decomposition – {group.capitalize()} ({area})\", showlegend=False, template=\"plotly_white\")\n",
    "        fig.update_xaxes(title_text=\"Time\", row=4, col=1)\n",
    "        fig.show()\n",
    "\n",
    "    ui = widgets.HBox([area_widget, group_widget, seasonal_widget, trend_widget])\n",
    "    out = widgets.interactive_output(plot, {\n",
    "        \"area\": area_widget,\n",
    "        \"group\": group_widget,\n",
    "        \"seasonal\": seasonal_widget,\n",
    "        \"trend\": trend_widget\n",
    "    })\n",
    "    display(ui, out)\n"
   ]
  },
  {
   "cell_type": "code",
   "execution_count": 66,
   "id": "91ff8065",
   "metadata": {},
   "outputs": [],
   "source": [
    "@lru_cache(maxsize=64)\n",
    "def _compute_spectrogram_cached(df_id, area, group, window_length, overlap):\n",
    "    # df_id is only used for cache key; actual df is taken from the notebook's `df` variable\n",
    "    df_sel = prepare_production_series(df, area, group)\n",
    "    series = df_sel[\"production_mwh\"].interpolate().values\n",
    "    # ensure sensible nperseg / noverlap\n",
    "    nperseg = min(window_length, len(series))\n",
    "    noverlap = min(overlap, max(0, nperseg - 1))\n",
    "    f, t, Sxx = signal.spectrogram(series, fs=1.0, nperseg=nperseg, noverlap=noverlap)\n",
    "    Sxx_log = 10 * np.log10(Sxx + 1e-10)\n",
    "    return f, t, Sxx, Sxx_log\n",
    "\n",
    "def plot_spectrogram(df, pricearea=\"NO3\", productiongroup=\"hydro\",\n",
    "                     window_length=256, overlap=128):\n",
    "    \"\"\"\n",
    "    Backwards-compatible single-call spectrogram (uses cached computation).\n",
    "    \"\"\"\n",
    "    f, t, Sxx, Sxx_log = _compute_spectrogram_cached(id(df), pricearea, productiongroup, int(window_length), int(overlap))\n",
    "    fig = go.Figure(data=go.Heatmap(\n",
    "        z=Sxx_log,\n",
    "        x=t,\n",
    "        y=f,\n",
    "        colorscale=\"Viridis\",\n",
    "        colorbar=dict(title=\"Power (dB)\")\n",
    "    ))\n",
    "    fig.update_layout(\n",
    "        title=f\"Spectrogram – {productiongroup.capitalize()} ({pricearea})\",\n",
    "        xaxis_title=\"Time (hours)\",\n",
    "        yaxis_title=\"Frequency (1/hour)\",\n",
    "        template=\"plotly_white\",\n",
    "        height=600,\n",
    "    )\n",
    "    return fig, (f, t, Sxx)\n",
    "\n",
    "def interactive_spectrogram(df):\n",
    "    areas = sorted(df[\"pricearea\"].unique())\n",
    "    groups = sorted(df[\"productiongroup\"].unique())\n",
    "\n",
    "    area_w = widgets.Dropdown(options=areas, value=areas[0], description=\"Area:\")\n",
    "    group_w = widgets.Dropdown(options=groups, value=groups[0], description=\"Group:\")\n",
    "    wl_w = widgets.IntSlider(value=256, min=64, max=2048, step=64, description=\"Window\")\n",
    "    ov_w = widgets.IntSlider(value=128, min=0, max=255, step=64, description=\"Overlap\")\n",
    "\n",
    "    def _on_window_change(change):\n",
    "        new_w = max(64, int(change[\"new\"]))\n",
    "        ov_w.max = max(0, new_w - 1)\n",
    "        if ov_w.value >= ov_w.max:\n",
    "            ov_w.value = ov_w.max\n",
    "\n",
    "    wl_w.observe(_on_window_change, names=\"value\")\n",
    "\n",
    "    def _plot(area, group, window_length, overlap):\n",
    "        # guard overlap\n",
    "        if overlap >= window_length:\n",
    "            overlap = max(0, int(window_length) - 1)\n",
    "        f, t, Sxx, Sxx_log = _compute_spectrogram_cached(id(df), area, group, int(window_length), int(overlap))\n",
    "        fig = go.Figure(go.Heatmap(z=Sxx_log, x=t, y=f, colorscale=\"Viridis\", colorbar=dict(title=\"Power (dB)\")))\n",
    "        fig.update_layout(\n",
    "            title=f\"Spectrogram – {group.capitalize()} ({area})\",\n",
    "            xaxis_title=\"Time (hours)\",\n",
    "            yaxis_title=\"Frequency (1/hour)\",\n",
    "            template=\"plotly_white\",\n",
    "            height=600,\n",
    "            width=900\n",
    "        )\n",
    "        fig.show()\n",
    "\n",
    "    ui = widgets.HBox([area_w, group_w, wl_w, ov_w])\n",
    "    out = widgets.interactive_output(_plot, {\"area\": area_w, \"group\": group_w, \"window_length\": wl_w, \"overlap\": ov_w})\n",
    "    display(ui, out)"
   ]
  },
  {
   "cell_type": "code",
   "execution_count": 13,
   "id": "002daca9",
   "metadata": {},
   "outputs": [
    {
     "data": {
      "text/html": [
       "<div>\n",
       "<style scoped>\n",
       "    .dataframe tbody tr th:only-of-type {\n",
       "        vertical-align: middle;\n",
       "    }\n",
       "\n",
       "    .dataframe tbody tr th {\n",
       "        vertical-align: top;\n",
       "    }\n",
       "\n",
       "    .dataframe thead th {\n",
       "        text-align: right;\n",
       "    }\n",
       "</style>\n",
       "<table border=\"1\" class=\"dataframe\">\n",
       "  <thead>\n",
       "    <tr style=\"text-align: right;\">\n",
       "      <th></th>\n",
       "      <th>pricearea</th>\n",
       "      <th>productiongroup</th>\n",
       "      <th>time</th>\n",
       "      <th>quantitykwh</th>\n",
       "      <th>month</th>\n",
       "    </tr>\n",
       "  </thead>\n",
       "  <tbody>\n",
       "    <tr>\n",
       "      <th>0</th>\n",
       "      <td>NO3</td>\n",
       "      <td>hydro</td>\n",
       "      <td>2021-01-01</td>\n",
       "      <td>2836774.000</td>\n",
       "      <td>1</td>\n",
       "    </tr>\n",
       "    <tr>\n",
       "      <th>8760</th>\n",
       "      <td>NO3</td>\n",
       "      <td>other</td>\n",
       "      <td>2021-01-01</td>\n",
       "      <td>0.000</td>\n",
       "      <td>1</td>\n",
       "    </tr>\n",
       "    <tr>\n",
       "      <th>183960</th>\n",
       "      <td>NO5</td>\n",
       "      <td>other</td>\n",
       "      <td>2021-01-01</td>\n",
       "      <td>0.000</td>\n",
       "      <td>1</td>\n",
       "    </tr>\n",
       "    <tr>\n",
       "      <th>175200</th>\n",
       "      <td>NO5</td>\n",
       "      <td>hydro</td>\n",
       "      <td>2021-01-01</td>\n",
       "      <td>4068096.500</td>\n",
       "      <td>1</td>\n",
       "    </tr>\n",
       "    <tr>\n",
       "      <th>17520</th>\n",
       "      <td>NO3</td>\n",
       "      <td>solar</td>\n",
       "      <td>2021-01-01</td>\n",
       "      <td>19.722</td>\n",
       "      <td>1</td>\n",
       "    </tr>\n",
       "  </tbody>\n",
       "</table>\n",
       "</div>"
      ],
      "text/plain": [
       "       pricearea productiongroup       time  quantitykwh  month\n",
       "0            NO3           hydro 2021-01-01  2836774.000      1\n",
       "8760         NO3           other 2021-01-01        0.000      1\n",
       "183960       NO5           other 2021-01-01        0.000      1\n",
       "175200       NO5           hydro 2021-01-01  4068096.500      1\n",
       "17520        NO3           solar 2021-01-01       19.722      1"
      ]
     },
     "execution_count": 13,
     "metadata": {},
     "output_type": "execute_result"
    }
   ],
   "source": [
    "df = pdf.copy()\n",
    "df = df.rename(columns={\"starttime\": \"time\"})\n",
    "df = df.sort_values(\"time\")\n",
    "df.head()"
   ]
  },
  {
   "cell_type": "code",
   "execution_count": 63,
   "id": "454a4b7c",
   "metadata": {},
   "outputs": [
    {
     "data": {
      "application/vnd.jupyter.widget-view+json": {
       "model_id": "5607e5405a0347b9bba8996ee2a54c35",
       "version_major": 2,
       "version_minor": 0
      },
      "text/plain": [
       "HBox(children=(Dropdown(description='Area:', options=('NO1', 'NO2', 'NO3', 'NO4', 'NO5'), value='NO1'), Dropdo…"
      ]
     },
     "metadata": {},
     "output_type": "display_data"
    },
    {
     "data": {
      "application/vnd.jupyter.widget-view+json": {
       "model_id": "c741e6cb174b422fa12d0ff20ffb28ad",
       "version_major": 2,
       "version_minor": 0
      },
      "text/plain": [
       "Output()"
      ]
     },
     "metadata": {},
     "output_type": "display_data"
    }
   ],
   "source": [
    "fig = interactive_stl_decomposition(df)\n",
    "fig"
   ]
  },
  {
   "cell_type": "code",
   "execution_count": 68,
   "id": "15b214cb",
   "metadata": {},
   "outputs": [
    {
     "data": {
      "application/vnd.jupyter.widget-view+json": {
       "model_id": "ad2c96f235524b1e95430ceba236ace4",
       "version_major": 2,
       "version_minor": 0
      },
      "text/plain": [
       "HBox(children=(Dropdown(description='Area:', options=('NO1', 'NO2', 'NO3', 'NO4', 'NO5'), value='NO1'), Dropdo…"
      ]
     },
     "metadata": {},
     "output_type": "display_data"
    },
    {
     "data": {
      "application/vnd.jupyter.widget-view+json": {
       "model_id": "a6982fe3b1d04d2bb49f16f3c3044227",
       "version_major": 2,
       "version_minor": 0
      },
      "text/plain": [
       "Output()"
      ]
     },
     "metadata": {},
     "output_type": "display_data"
    }
   ],
   "source": [
    "fig_spec = interactive_spectrogram(df)"
   ]
  }
 ],
 "metadata": {
  "kernelspec": {
   "display_name": ".venv",
   "language": "python",
   "name": "python3"
  },
  "language_info": {
   "codemirror_mode": {
    "name": "ipython",
    "version": 3
   },
   "file_extension": ".py",
   "mimetype": "text/x-python",
   "name": "python",
   "nbconvert_exporter": "python",
   "pygments_lexer": "ipython3",
   "version": "3.12.9"
  }
 },
 "nbformat": 4,
 "nbformat_minor": 5
}

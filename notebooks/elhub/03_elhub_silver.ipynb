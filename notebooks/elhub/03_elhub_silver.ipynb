{
 "cells": [
  {
   "cell_type": "code",
   "execution_count": null,
   "id": "e403307a",
   "metadata": {},
   "outputs": [],
   "source": [
    "from pyspark.sql import SparkSession\n",
    "from pyspark.sql.functions import col\n",
    "from cassandra.cluster import Cluster"
   ]
  },
  {
   "cell_type": "code",
   "execution_count": 2,
   "id": "a840a4f3",
   "metadata": {},
   "outputs": [
    {
     "name": "stderr",
     "output_type": "stream",
     "text": [
      "25/10/13 13:22:38 WARN Utils: Your hostname, Fabians-MacBook-Pro.local resolves to a loopback address: 127.0.0.1; using 192.168.0.22 instead (on interface en0)\n",
      "25/10/13 13:22:38 WARN Utils: Set SPARK_LOCAL_IP if you need to bind to another address\n",
      "Ivy Default Cache set to: /Users/fabianheflo/.ivy2/cache\n",
      "The jars for the packages stored in: /Users/fabianheflo/.ivy2/jars\n",
      "com.datastax.spark#spark-cassandra-connector_2.12 added as a dependency\n",
      ":: resolving dependencies :: org.apache.spark#spark-submit-parent-c940c31f-9a7f-4e4f-b062-2bbfbd90ab75;1.0\n",
      "\tconfs: [default]\n",
      "\tfound com.datastax.spark#spark-cassandra-connector_2.12;3.5.1 in central\n"
     ]
    },
    {
     "name": "stdout",
     "output_type": "stream",
     "text": [
      ":: loading settings :: url = jar:file:/Users/fabianheflo/UNI_courses/IND320/IND320/.venv/lib/python3.12/site-packages/pyspark/jars/ivy-2.5.1.jar!/org/apache/ivy/core/settings/ivysettings.xml\n"
     ]
    },
    {
     "name": "stderr",
     "output_type": "stream",
     "text": [
      "\tfound com.datastax.spark#spark-cassandra-connector-driver_2.12;3.5.1 in central\n",
      "\tfound org.scala-lang.modules#scala-collection-compat_2.12;2.11.0 in central\n",
      "\tfound org.apache.cassandra#java-driver-core-shaded;4.18.1 in central\n",
      "\tfound com.datastax.oss#native-protocol;1.5.1 in central\n",
      "\tfound com.datastax.oss#java-driver-shaded-guava;25.1-jre-graal-sub-1 in central\n",
      "\tfound com.typesafe#config;1.4.1 in central\n",
      "\tfound org.slf4j#slf4j-api;1.7.26 in central\n",
      "\tfound io.dropwizard.metrics#metrics-core;4.1.18 in central\n",
      "\tfound org.hdrhistogram#HdrHistogram;2.1.12 in central\n",
      "\tfound org.reactivestreams#reactive-streams;1.0.3 in central\n",
      "\tfound org.apache.cassandra#java-driver-mapper-runtime;4.18.1 in central\n",
      "\tfound org.apache.cassandra#java-driver-query-builder;4.18.1 in central\n",
      "\tfound org.apache.commons#commons-lang3;3.10 in central\n",
      "\tfound com.thoughtworks.paranamer#paranamer;2.8 in central\n",
      "\tfound org.scala-lang#scala-reflect;2.12.19 in central\n",
      ":: resolution report :: resolve 240ms :: artifacts dl 7ms\n",
      "\t:: modules in use:\n",
      "\tcom.datastax.oss#java-driver-shaded-guava;25.1-jre-graal-sub-1 from central in [default]\n",
      "\tcom.datastax.oss#native-protocol;1.5.1 from central in [default]\n",
      "\tcom.datastax.spark#spark-cassandra-connector-driver_2.12;3.5.1 from central in [default]\n",
      "\tcom.datastax.spark#spark-cassandra-connector_2.12;3.5.1 from central in [default]\n",
      "\tcom.thoughtworks.paranamer#paranamer;2.8 from central in [default]\n",
      "\tcom.typesafe#config;1.4.1 from central in [default]\n",
      "\tio.dropwizard.metrics#metrics-core;4.1.18 from central in [default]\n",
      "\torg.apache.cassandra#java-driver-core-shaded;4.18.1 from central in [default]\n",
      "\torg.apache.cassandra#java-driver-mapper-runtime;4.18.1 from central in [default]\n",
      "\torg.apache.cassandra#java-driver-query-builder;4.18.1 from central in [default]\n",
      "\torg.apache.commons#commons-lang3;3.10 from central in [default]\n",
      "\torg.hdrhistogram#HdrHistogram;2.1.12 from central in [default]\n",
      "\torg.reactivestreams#reactive-streams;1.0.3 from central in [default]\n",
      "\torg.scala-lang#scala-reflect;2.12.19 from central in [default]\n",
      "\torg.scala-lang.modules#scala-collection-compat_2.12;2.11.0 from central in [default]\n",
      "\torg.slf4j#slf4j-api;1.7.26 from central in [default]\n",
      "\t---------------------------------------------------------------------\n",
      "\t|                  |            modules            ||   artifacts   |\n",
      "\t|       conf       | number| search|dwnlded|evicted|| number|dwnlded|\n",
      "\t---------------------------------------------------------------------\n",
      "\t|      default     |   16  |   0   |   0   |   0   ||   16  |   0   |\n",
      "\t---------------------------------------------------------------------\n",
      ":: retrieving :: org.apache.spark#spark-submit-parent-c940c31f-9a7f-4e4f-b062-2bbfbd90ab75\n",
      "\tconfs: [default]\n",
      "\t0 artifacts copied, 16 already retrieved (0kB/5ms)\n",
      "25/10/13 13:22:39 WARN NativeCodeLoader: Unable to load native-hadoop library for your platform... using builtin-java classes where applicable\n",
      "Setting default log level to \"WARN\".\n",
      "To adjust logging level use sc.setLogLevel(newLevel). For SparkR, use setLogLevel(newLevel).\n"
     ]
    },
    {
     "name": "stdout",
     "output_type": "stream",
     "text": [
      "✅ SparkSession started with Cassandra integration\n"
     ]
    }
   ],
   "source": [
    "spark = SparkSession.builder \\\n",
    "    .appName(\"ElhubSilver\") \\\n",
    "    .master(\"local[*]\") \\\n",
    "    .config(\"spark.jars.packages\", \"com.datastax.spark:spark-cassandra-connector_2.12:3.5.1\") \\\n",
    "    .config(\"spark.cassandra.connection.host\", \"127.0.0.1\") \\\n",
    "    .config(\"spark.cassandra.connection.port\", \"9042\") \\\n",
    "    .config(\"spark.sql.extensions\", \"com.datastax.spark.connector.CassandraSparkExtensions\") \\\n",
    "    .config(\"spark.sql.catalog.mycatalog\", \"com.datastax.spark.connector.datasource.CassandraCatalog\") \\\n",
    "    .config(\"spark.cassandra.output.consistency.level\", \"ONE\") \\\n",
    "    .config(\"spark.cassandra.connection.keepAliveMS\", \"60000\") \\\n",
    "    .getOrCreate()\n",
    "\n",
    "print(\"✅ SparkSession started with Cassandra integration\")"
   ]
  },
  {
   "cell_type": "code",
   "execution_count": 3,
   "id": "3f7e91a9",
   "metadata": {},
   "outputs": [],
   "source": [
    "bronze_df = (\n",
    "    spark.read\n",
    "    .format(\"org.apache.spark.sql.cassandra\")\n",
    "    .options(table=\"production_raw\", keyspace=\"elhub_data\")\n",
    "    .load()\n",
    ")"
   ]
  },
  {
   "cell_type": "code",
   "execution_count": 4,
   "id": "a8c2b75b",
   "metadata": {},
   "outputs": [],
   "source": [
    "silver_df = (\n",
    "    bronze_df\n",
    "    .select(\n",
    "        col(\"priceArea\").alias(\"pricearea\"),\n",
    "        col(\"productionGroup\").alias(\"productiongroup\"),\n",
    "        col(\"startTime\").alias(\"starttime\"),\n",
    "        col(\"quantityKwh\").alias(\"quantitykwh\")\n",
    "    )\n",
    "    .withColumn(\"starttime\", col(\"starttime\").cast(\"timestamp\"))\n",
    "    .withColumn(\"quantitykwh\", col(\"quantitykwh\").cast(\"double\"))\n",
    ")"
   ]
  },
  {
   "cell_type": "code",
   "execution_count": null,
   "id": "1acba4c8",
   "metadata": {},
   "outputs": [
    {
     "data": {
      "text/plain": [
       "<cassandra.cluster.ResultSet at 0x1123299a0>"
      ]
     },
     "execution_count": 7,
     "metadata": {},
     "output_type": "execute_result"
    },
    {
     "name": "stderr",
     "output_type": "stream",
     "text": [
      "WARNING:cassandra.pool:Error attempting to reconnect to ::1:9042, scheduling retry in 600.0 seconds: errors=Timed out creating connection (5 seconds), last_host=None\n",
      "WARNING:cassandra.pool:Error attempting to reconnect to ::1:9042, scheduling retry in 600.0 seconds: errors=Timed out creating connection (5 seconds), last_host=None\n",
      "WARNING:cassandra.pool:Error attempting to reconnect to ::1:9042, scheduling retry in 600.0 seconds: errors=Timed out creating connection (5 seconds), last_host=None\n",
      "WARNING:cassandra.pool:Error attempting to reconnect to ::1:9042, scheduling retry in 600.0 seconds: errors=Timed out creating connection (5 seconds), last_host=None\n",
      "WARNING:cassandra.pool:Error attempting to reconnect to ::1:9042, scheduling retry in 582.0 seconds: errors=Timed out creating connection (5 seconds), last_host=None\n",
      "WARNING:cassandra.pool:Error attempting to reconnect to ::1:9042, scheduling retry in 564.0 seconds: errors=Timed out creating connection (5 seconds), last_host=None\n",
      "WARNING:cassandra.pool:Error attempting to reconnect to ::1:9042, scheduling retry in 600.0 seconds: errors=Timed out creating connection (5 seconds), last_host=None\n",
      "WARNING:cassandra.pool:Error attempting to reconnect to ::1:9042, scheduling retry in 528.0 seconds: errors=Timed out creating connection (5 seconds), last_host=None\n",
      "WARNING:cassandra.pool:Error attempting to reconnect to ::1:9042, scheduling retry in 600.0 seconds: errors=Timed out creating connection (5 seconds), last_host=None\n",
      "WARNING:cassandra.pool:Error attempting to reconnect to ::1:9042, scheduling retry in 600.0 seconds: errors=Timed out creating connection (5 seconds), last_host=None\n",
      "WARNING:cassandra.pool:Error attempting to reconnect to ::1:9042, scheduling retry in 600.0 seconds: errors=Timed out creating connection (5 seconds), last_host=None\n",
      "WARNING:cassandra.pool:Error attempting to reconnect to ::1:9042, scheduling retry in 588.0 seconds: errors=Timed out creating connection (5 seconds), last_host=None\n",
      "WARNING:cassandra.pool:Error attempting to reconnect to ::1:9042, scheduling retry in 534.0 seconds: errors=Timed out creating connection (5 seconds), last_host=None\n",
      "WARNING:cassandra.pool:Error attempting to reconnect to ::1:9042, scheduling retry in 600.0 seconds: errors=Timed out creating connection (5 seconds), last_host=None\n",
      "WARNING:cassandra.pool:Error attempting to reconnect to ::1:9042, scheduling retry in 600.0 seconds: errors=Timed out creating connection (5 seconds), last_host=None\n",
      "WARNING:cassandra.pool:Error attempting to reconnect to ::1:9042, scheduling retry in 600.0 seconds: errors=Timed out creating connection (5 seconds), last_host=None\n",
      "WARNING:cassandra.pool:Error attempting to reconnect to ::1:9042, scheduling retry in 528.0 seconds: errors=Timed out creating connection (5 seconds), last_host=None\n",
      "WARNING:cassandra.pool:Error attempting to reconnect to ::1:9042, scheduling retry in 600.0 seconds: errors=Timed out creating connection (5 seconds), last_host=None\n",
      "WARNING:cassandra.pool:Error attempting to reconnect to ::1:9042, scheduling retry in 546.0 seconds: errors=Timed out creating connection (5 seconds), last_host=None\n",
      "WARNING:cassandra.pool:Error attempting to reconnect to ::1:9042, scheduling retry in 588.0 seconds: errors=Timed out creating connection (5 seconds), last_host=None\n",
      "WARNING:cassandra.pool:Error attempting to reconnect to ::1:9042, scheduling retry in 558.0 seconds: errors=Timed out creating connection (5 seconds), last_host=None\n",
      "WARNING:cassandra.pool:Error attempting to reconnect to ::1:9042, scheduling retry in 600.0 seconds: errors=Timed out creating connection (5 seconds), last_host=None\n",
      "WARNING:cassandra.pool:Error attempting to reconnect to ::1:9042, scheduling retry in 570.0 seconds: errors=Timed out creating connection (5 seconds), last_host=None\n",
      "WARNING:cassandra.pool:Error attempting to reconnect to ::1:9042, scheduling retry in 600.0 seconds: errors=Timed out creating connection (5 seconds), last_host=None\n",
      "WARNING:cassandra.pool:Error attempting to reconnect to ::1:9042, scheduling retry in 528.0 seconds: errors=Timed out creating connection (5 seconds), last_host=None\n",
      "WARNING:cassandra.pool:Error attempting to reconnect to ::1:9042, scheduling retry in 600.0 seconds: errors=Timed out creating connection (5 seconds), last_host=None\n",
      "WARNING:cassandra.pool:Error attempting to reconnect to ::1:9042, scheduling retry in None seconds: errors=Timed out creating connection (5 seconds), last_host=None\n",
      "WARNING:cassandra.pool:Will not continue to retry reconnection attempts due to an exhausted retry schedule\n"
     ]
    }
   ],
   "source": [
    "cluster = Cluster([\"localhost\"])\n",
    "session = cluster.connect(\"elhub_data\")\n",
    "session.execute(\"TRUNCATE production_silver\")"
   ]
  },
  {
   "cell_type": "code",
   "execution_count": null,
   "id": "563ac558",
   "metadata": {},
   "outputs": [
    {
     "name": "stderr",
     "output_type": "stream",
     "text": [
      "[Stage 0:==========================================>              (15 + 5) / 20]\r"
     ]
    },
    {
     "name": "stdout",
     "output_type": "stream",
     "text": [
      "✅ Data skrevet til elhub_data.production_silver (etter truncate)\n"
     ]
    },
    {
     "name": "stderr",
     "output_type": "stream",
     "text": [
      "                                                                                \r"
     ]
    }
   ],
   "source": [
    "(\n",
    "    silver_df\n",
    "    .write\n",
    "    .format(\"org.apache.spark.sql.cassandra\")\n",
    "    .options(table=\"production_silver\", keyspace=\"elhub_data\")\n",
    "    .mode(\"append\")  \n",
    "    .save()\n",
    ")\n",
    "print(\"✅ Data written to elhub_data.production_silver (after truncate)\")"
   ]
  },
  {
   "cell_type": "code",
   "execution_count": null,
   "id": "96336762",
   "metadata": {},
   "outputs": [
    {
     "name": "stdout",
     "output_type": "stream",
     "text": [
      "✅ Ingen manglende verdier i silver_df\n"
     ]
    }
   ],
   "source": [
    "# Check for missing values\n",
    "missing_values = silver_df.filter(\n",
    "    col(\"pricearea\").isNull() |\n",
    "    col(\"productiongroup\").isNull() |\n",
    "    col(\"starttime\").isNull() |\n",
    "    col(\"quantitykwh\").isNull()\n",
    ").count()\n",
    "if missing_values == 0:\n",
    "    print(\"✅ No missing values in silver_df\")\n",
    "else:\n",
    "    print(f\"⚠️ There are {missing_values} rows with missing values in silver_df\")"
   ]
  },
  {
   "cell_type": "code",
   "execution_count": 18,
   "id": "cd0715a3",
   "metadata": {},
   "outputs": [
    {
     "name": "stderr",
     "output_type": "stream",
     "text": [
      "[Stage 23:==========================================>             (15 + 5) / 20]\r"
     ]
    },
    {
     "name": "stdout",
     "output_type": "stream",
     "text": [
      "+-------+---------+---------------+------------------+\n",
      "|summary|pricearea|productiongroup|       quantitykwh|\n",
      "+-------+---------+---------------+------------------+\n",
      "|  count|   215353|         215353|            215353|\n",
      "|   mean|     NULL|           NULL| 729647.3826658479|\n",
      "| stddev|     NULL|           NULL|1549543.7955768798|\n",
      "|    min|      NO1|          hydro|               0.0|\n",
      "|    max|      NO5|           wind|         9715193.0|\n",
      "+-------+---------+---------------+------------------+\n",
      "\n"
     ]
    },
    {
     "name": "stderr",
     "output_type": "stream",
     "text": [
      "                                                                                \r"
     ]
    }
   ],
   "source": [
    "# Describe the dataframe\n",
    "silver_df.describe().show()"
   ]
  }
 ],
 "metadata": {
  "kernelspec": {
   "display_name": ".venv",
   "language": "python",
   "name": "python3"
  },
  "language_info": {
   "codemirror_mode": {
    "name": "ipython",
    "version": 3
   },
   "file_extension": ".py",
   "mimetype": "text/x-python",
   "name": "python",
   "nbconvert_exporter": "python",
   "pygments_lexer": "ipython3",
   "version": "3.12.9"
  }
 },
 "nbformat": 4,
 "nbformat_minor": 5
}

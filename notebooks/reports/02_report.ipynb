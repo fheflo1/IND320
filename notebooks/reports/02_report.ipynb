{
 "cells": [
  {
   "cell_type": "markdown",
   "id": "eb3e5975",
   "metadata": {},
   "source": []
  }
 ],
 "metadata": {
  "language_info": {
   "name": "python"
  }
 },
 "nbformat": 4,
 "nbformat_minor": 5
}

{
 "cells": [
  {
   "cell_type": "markdown",
   "id": "d672b696",
   "metadata": {},
   "source": [
    "### 01_cassandra_setup.ipynb\n",
    "### Purpose: Set up Cassandra keyspace and table, and test Spark–Cassandra connection"
   ]
  },
  {
   "cell_type": "code",
   "execution_count": 7,
   "id": "686dc831",
   "metadata": {},
   "outputs": [],
   "source": [
    "from pyspark.sql import SparkSession\n",
    "from cassandra.cluster import Cluster\n",
    "from datetime import datetime"
   ]
  },
  {
   "cell_type": "code",
   "execution_count": null,
   "id": "dbe817b6",
   "metadata": {},
   "outputs": [
    {
     "name": "stderr",
     "output_type": "stream",
     "text": [
      "25/10/09 15:55:07 WARN Utils: Your hostname, Fabians-MacBook-Pro.local resolves to a loopback address: 127.0.0.1; using 10.20.6.230 instead (on interface en0)\n",
      "25/10/09 15:55:07 WARN Utils: Set SPARK_LOCAL_IP if you need to bind to another address\n",
      "Ivy Default Cache set to: /Users/fabianheflo/.ivy2/cache\n",
      "The jars for the packages stored in: /Users/fabianheflo/.ivy2/jars\n",
      "com.datastax.spark#spark-cassandra-connector_2.12 added as a dependency\n",
      ":: resolving dependencies :: org.apache.spark#spark-submit-parent-19562782-6c3f-4696-b449-c2992e72d337;1.0\n",
      "\tconfs: [default]\n"
     ]
    },
    {
     "name": "stdout",
     "output_type": "stream",
     "text": [
      ":: loading settings :: url = jar:file:/Users/fabianheflo/UNI_courses/IND320/IND320/.venv/lib/python3.12/site-packages/pyspark/jars/ivy-2.5.1.jar!/org/apache/ivy/core/settings/ivysettings.xml\n"
     ]
    },
    {
     "name": "stderr",
     "output_type": "stream",
     "text": [
      "\tfound com.datastax.spark#spark-cassandra-connector_2.12;3.5.1 in central\n",
      "\tfound com.datastax.spark#spark-cassandra-connector-driver_2.12;3.5.1 in central\n",
      "\tfound org.scala-lang.modules#scala-collection-compat_2.12;2.11.0 in central\n",
      "\tfound org.apache.cassandra#java-driver-core-shaded;4.18.1 in central\n",
      "\tfound com.datastax.oss#native-protocol;1.5.1 in central\n",
      "\tfound com.datastax.oss#java-driver-shaded-guava;25.1-jre-graal-sub-1 in central\n",
      "\tfound com.typesafe#config;1.4.1 in central\n",
      "\tfound org.slf4j#slf4j-api;1.7.26 in central\n",
      "\tfound io.dropwizard.metrics#metrics-core;4.1.18 in central\n",
      "\tfound org.hdrhistogram#HdrHistogram;2.1.12 in central\n",
      "\tfound org.reactivestreams#reactive-streams;1.0.3 in central\n",
      "\tfound org.apache.cassandra#java-driver-mapper-runtime;4.18.1 in central\n",
      "\tfound org.apache.cassandra#java-driver-query-builder;4.18.1 in central\n",
      "\tfound org.apache.commons#commons-lang3;3.10 in central\n",
      "\tfound com.thoughtworks.paranamer#paranamer;2.8 in central\n",
      "\tfound org.scala-lang#scala-reflect;2.12.19 in central\n",
      ":: resolution report :: resolve 315ms :: artifacts dl 10ms\n",
      "\t:: modules in use:\n",
      "\tcom.datastax.oss#java-driver-shaded-guava;25.1-jre-graal-sub-1 from central in [default]\n",
      "\tcom.datastax.oss#native-protocol;1.5.1 from central in [default]\n",
      "\tcom.datastax.spark#spark-cassandra-connector-driver_2.12;3.5.1 from central in [default]\n",
      "\tcom.datastax.spark#spark-cassandra-connector_2.12;3.5.1 from central in [default]\n",
      "\tcom.thoughtworks.paranamer#paranamer;2.8 from central in [default]\n",
      "\tcom.typesafe#config;1.4.1 from central in [default]\n",
      "\tio.dropwizard.metrics#metrics-core;4.1.18 from central in [default]\n",
      "\torg.apache.cassandra#java-driver-core-shaded;4.18.1 from central in [default]\n",
      "\torg.apache.cassandra#java-driver-mapper-runtime;4.18.1 from central in [default]\n",
      "\torg.apache.cassandra#java-driver-query-builder;4.18.1 from central in [default]\n",
      "\torg.apache.commons#commons-lang3;3.10 from central in [default]\n",
      "\torg.hdrhistogram#HdrHistogram;2.1.12 from central in [default]\n",
      "\torg.reactivestreams#reactive-streams;1.0.3 from central in [default]\n",
      "\torg.scala-lang#scala-reflect;2.12.19 from central in [default]\n",
      "\torg.scala-lang.modules#scala-collection-compat_2.12;2.11.0 from central in [default]\n",
      "\torg.slf4j#slf4j-api;1.7.26 from central in [default]\n",
      "\t---------------------------------------------------------------------\n",
      "\t|                  |            modules            ||   artifacts   |\n",
      "\t|       conf       | number| search|dwnlded|evicted|| number|dwnlded|\n",
      "\t---------------------------------------------------------------------\n",
      "\t|      default     |   16  |   0   |   0   |   0   ||   16  |   0   |\n",
      "\t---------------------------------------------------------------------\n",
      ":: retrieving :: org.apache.spark#spark-submit-parent-19562782-6c3f-4696-b449-c2992e72d337\n",
      "\tconfs: [default]\n",
      "\t0 artifacts copied, 16 already retrieved (0kB/6ms)\n",
      "25/10/09 15:55:08 WARN NativeCodeLoader: Unable to load native-hadoop library for your platform... using builtin-java classes where applicable\n",
      "Setting default log level to \"WARN\".\n",
      "To adjust logging level use sc.setLogLevel(newLevel). For SparkR, use setLogLevel(newLevel).\n"
     ]
    },
    {
     "name": "stdout",
     "output_type": "stream",
     "text": [
      "✅ SparkSession started with Cassandra integration\n"
     ]
    }
   ],
   "source": [
    "# Start Spark session with Cassandra connector\n",
    "spark = SparkSession.builder \\\n",
    "    .appName(\"ElhubCassandraSetup\") \\\n",
    "    .master(\"local[*]\") \\\n",
    "    .config(\"spark.jars.packages\", \"com.datastax.spark:spark-cassandra-connector_2.12:3.5.1\") \\\n",
    "    .config(\"spark.cassandra.connection.host\", \"127.0.0.1\") \\\n",
    "    .config(\"spark.cassandra.connection.port\", \"9042\") \\\n",
    "    .config(\"spark.sql.extensions\", \"com.datastax.spark.connector.CassandraSparkExtensions\") \\\n",
    "    .config(\"spark.sql.catalog.mycatalog\", \"com.datastax.spark.connector.datasource.CassandraCatalog\") \\\n",
    "    .config(\"spark.cassandra.output.consistency.level\", \"ONE\") \\\n",
    "    .config(\"spark.cassandra.connection.keepAliveMS\", \"60000\") \\\n",
    "    .getOrCreate()\n",
    "\n",
    "print(\"✅ SparkSession started with Cassandra integration\")"
   ]
  },
  {
   "cell_type": "code",
   "execution_count": 3,
   "id": "a780a130",
   "metadata": {},
   "outputs": [
    {
     "name": "stdout",
     "output_type": "stream",
     "text": [
      "✅ Keyspace and table created successfully\n"
     ]
    }
   ],
   "source": [
    "# Connect directly to Cassandra\n",
    "cluster = Cluster(['127.0.0.1'])\n",
    "session = cluster.connect()\n",
    "\n",
    "# Create keyspace (only if it doesn't already exist)\n",
    "session.execute(\"\"\"\n",
    "CREATE KEYSPACE IF NOT EXISTS elhub_data\n",
    "WITH replication = {'class': 'SimpleStrategy', 'replication_factor': '1'}\n",
    "\"\"\")\n",
    "\n",
    "# Create table (matching Elhub PRODUCTION_PER_GROUP_MBA_HOUR schema)\n",
    "session.execute(\"\"\"\n",
    "CREATE TABLE IF NOT EXISTS elhub_data.production_raw (\n",
    "    meteringgridarea TEXT,\n",
    "    time_start TIMESTAMP,\n",
    "    productiontype TEXT,\n",
    "    businesstype TEXT,\n",
    "    quantity DOUBLE,\n",
    "    resolution TEXT,\n",
    "    resourceid TEXT,\n",
    "    time_end TIMESTAMP,\n",
    "    PRIMARY KEY (meteringgridarea, time_start, productiontype)\n",
    ")\n",
    "\"\"\")\n",
    "\n",
    "print(\"✅ Keyspace and table created successfully\")"
   ]
  },
  {
   "cell_type": "code",
   "execution_count": 4,
   "id": "454c2c9b",
   "metadata": {},
   "outputs": [
    {
     "name": "stderr",
     "output_type": "stream",
     "text": [
      "/var/folders/db/2wck1jtn25v9rddfx0kw90qr0000gn/T/ipykernel_47159/722186836.py:3: DeprecationWarning: datetime.datetime.utcnow() is deprecated and scheduled for removal in a future version. Use timezone-aware objects to represent datetimes in UTC: datetime.datetime.now(datetime.UTC).\n",
      "  (\"NO1\", datetime.utcnow(), \"Hydro\", \"A04\", 123.45, \"PT1H\", \"RES001\", datetime.utcnow())\n",
      "[Stage 0:>                                                        (0 + 10) / 10]\r"
     ]
    },
    {
     "name": "stdout",
     "output_type": "stream",
     "text": [
      "✅ Test row written to Cassandra successfully\n"
     ]
    },
    {
     "name": "stderr",
     "output_type": "stream",
     "text": [
      "                                                                                \r"
     ]
    }
   ],
   "source": [
    "# Sample data to test write\n",
    "data = [\n",
    "    (\"NO1\", datetime.utcnow(), \"Hydro\", \"A04\", 123.45, \"PT1H\", \"RES001\", datetime.utcnow())\n",
    "]\n",
    "columns = [\n",
    "    \"meteringgridarea\", \"time_start\", \"productiontype\", \"businesstype\",\n",
    "    \"quantity\", \"resolution\", \"resourceid\", \"time_end\"\n",
    "]\n",
    "\n",
    "df = spark.createDataFrame(data, columns)\n",
    "\n",
    "# Write to Cassandra\n",
    "df.write.format(\"org.apache.spark.sql.cassandra\") \\\n",
    "    .mode(\"append\") \\\n",
    "    .options(table=\"production_raw\", keyspace=\"elhub_data\") \\\n",
    "    .save()\n",
    "\n",
    "print(\"✅ Test row written to Cassandra successfully\")"
   ]
  },
  {
   "cell_type": "code",
   "execution_count": 5,
   "id": "5355fc73",
   "metadata": {},
   "outputs": [
    {
     "name": "stdout",
     "output_type": "stream",
     "text": [
      "+----------------+--------------------+--------------+------------+--------+----------+----------+--------------------+\n",
      "|meteringgridarea|          time_start|productiontype|businesstype|quantity|resolution|resourceid|            time_end|\n",
      "+----------------+--------------------+--------------+------------+--------+----------+----------+--------------------+\n",
      "|             NO1|2025-10-09 13:55:...|         Hydro|         A04|  123.45|      PT1H|    RES001|2025-10-09 13:55:...|\n",
      "+----------------+--------------------+--------------+------------+--------+----------+----------+--------------------+\n",
      "\n",
      "✅ Read 1 rows from Cassandra\n"
     ]
    }
   ],
   "source": [
    "df_read = spark.read \\\n",
    "    .format(\"org.apache.spark.sql.cassandra\") \\\n",
    "    .options(table=\"production_raw\", keyspace=\"elhub_data\") \\\n",
    "    .load()\n",
    "\n",
    "df_read.show()\n",
    "print(f\"✅ Read {df_read.count()} rows from Cassandra\")"
   ]
  },
  {
   "cell_type": "markdown",
   "id": "5a2fb0a3",
   "metadata": {},
   "source": [
    "### Delete Rows in the Table and Keeps Columns and Keys"
   ]
  },
  {
   "cell_type": "code",
   "execution_count": 9,
   "id": "2006d5a6",
   "metadata": {},
   "outputs": [
    {
     "name": "stdout",
     "output_type": "stream",
     "text": [
      "+----------------+----------+--------------+------------+--------+----------+----------+--------+\n",
      "|meteringgridarea|time_start|productiontype|businesstype|quantity|resolution|resourceid|time_end|\n",
      "+----------------+----------+--------------+------------+--------+----------+----------+--------+\n",
      "+----------------+----------+--------------+------------+--------+----------+----------+--------+\n",
      "\n",
      "✅ Table elhub_data.production_raw has been cleared.\n"
     ]
    }
   ],
   "source": [
    "cluster = Cluster(['127.0.0.1'])\n",
    "session = cluster.connect('elhub_data')\n",
    "session.execute(\"TRUNCATE production_raw;\")\n",
    "\n",
    "df_read.show()\n",
    "print(\"✅ Table elhub_data.production_raw has been cleared.\")"
   ]
  }
 ],
 "metadata": {
  "kernelspec": {
   "display_name": ".venv",
   "language": "python",
   "name": "python3"
  },
  "language_info": {
   "codemirror_mode": {
    "name": "ipython",
    "version": 3
   },
   "file_extension": ".py",
   "mimetype": "text/x-python",
   "name": "python",
   "nbconvert_exporter": "python",
   "pygments_lexer": "ipython3",
   "version": "3.12.9"
  }
 },
 "nbformat": 4,
 "nbformat_minor": 5
}

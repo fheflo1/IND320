{
 "cells": [
  {
   "cell_type": "markdown",
   "id": "d672b696",
   "metadata": {},
   "source": [
    "### 01_cassandra_setup.ipynb\n",
    "### Purpose: Set up Cassandra keyspace and table, and test Spark–Cassandra connection"
   ]
  },
  {
   "cell_type": "code",
   "execution_count": 1,
   "id": "686dc831",
   "metadata": {},
   "outputs": [],
   "source": [
    "from pyspark.sql import SparkSession\n",
    "from cassandra.cluster import Cluster\n",
    "from datetime import datetime"
   ]
  },
  {
   "cell_type": "code",
   "execution_count": 7,
   "id": "dbe817b6",
   "metadata": {},
   "outputs": [
    {
     "name": "stdout",
     "output_type": "stream",
     "text": [
      "✅ SparkSession started with Cassandra integration\n"
     ]
    },
    {
     "name": "stderr",
     "output_type": "stream",
     "text": [
      "25/10/13 11:11:27 WARN SparkSession: Using an existing Spark session; only runtime SQL configurations will take effect.\n"
     ]
    }
   ],
   "source": [
    "# Start Spark session with Cassandra connector\n",
    "spark = SparkSession.builder \\\n",
    "    .appName(\"CassandraSetup\") \\\n",
    "    .master(\"local[*]\") \\\n",
    "    .config(\"spark.jars.packages\", \"com.datastax.spark:spark-cassandra-connector_2.12:3.5.1\") \\\n",
    "    .config(\"spark.cassandra.connection.host\", \"127.0.0.1\") \\\n",
    "    .config(\"spark.cassandra.connection.port\", \"9042\") \\\n",
    "    .config(\"spark.sql.extensions\", \"com.datastax.spark.connector.CassandraSparkExtensions\") \\\n",
    "    .config(\"spark.sql.catalog.mycatalog\", \"com.datastax.spark.connector.datasource.CassandraCatalog\") \\\n",
    "    .config(\"spark.cassandra.output.consistency.level\", \"ONE\") \\\n",
    "    .config(\"spark.cassandra.connection.keepAliveMS\", \"60000\") \\\n",
    "    .getOrCreate()\n",
    "\n",
    "print(\"✅ SparkSession started with Cassandra integration\")"
   ]
  },
  {
   "cell_type": "code",
   "execution_count": 8,
   "id": "a780a130",
   "metadata": {},
   "outputs": [
    {
     "name": "stdout",
     "output_type": "stream",
     "text": [
      "✅ Table 'production_raw' recreated to match Elhub API schema\n"
     ]
    }
   ],
   "source": [
    "# Connect directly to Cassandra\n",
    "cluster = Cluster(['127.0.0.1'])\n",
    "session = cluster.connect()\n",
    "\n",
    "# Create keyspace (only if it doesn't already exist)\n",
    "session.execute(\"\"\"\n",
    "DROP TABLE IF EXISTS elhub_data.production_raw\n",
    "\"\"\")\n",
    "\n",
    "session.execute(\"\"\"\n",
    "CREATE TABLE elhub_data.production_raw (\n",
    "    priceArea TEXT,\n",
    "    startTime TIMESTAMP,\n",
    "    endTime TIMESTAMP,\n",
    "    productionGroup TEXT,\n",
    "    quantityKwh DOUBLE,\n",
    "    meteringgridarea TEXT,\n",
    "    lastUpdatedTime TIMESTAMP,\n",
    "    PRIMARY KEY (priceArea, startTime, productionGroup)\n",
    ")\n",
    "\"\"\")\n",
    "\n",
    "print(\"✅ Table 'production_raw' recreated to match Elhub API schema\")\n"
   ]
  },
  {
   "cell_type": "code",
   "execution_count": 4,
   "id": "454c2c9b",
   "metadata": {},
   "outputs": [
    {
     "name": "stderr",
     "output_type": "stream",
     "text": [
      "/var/folders/db/2wck1jtn25v9rddfx0kw90qr0000gn/T/ipykernel_58493/722186836.py:3: DeprecationWarning: datetime.datetime.utcnow() is deprecated and scheduled for removal in a future version. Use timezone-aware objects to represent datetimes in UTC: datetime.datetime.now(datetime.UTC).\n",
      "  (\"NO1\", datetime.utcnow(), \"Hydro\", \"A04\", 123.45, \"PT1H\", \"RES001\", datetime.utcnow())\n",
      "[Stage 0:>                                                        (0 + 10) / 10]\r"
     ]
    },
    {
     "name": "stdout",
     "output_type": "stream",
     "text": [
      "✅ Test row written to Cassandra successfully\n"
     ]
    },
    {
     "name": "stderr",
     "output_type": "stream",
     "text": [
      "                                                                                \r"
     ]
    }
   ],
   "source": [
    "# Sample data to test write\n",
    "data = [\n",
    "    (\"NO1\", datetime.utcnow(), \"Hydro\", \"A04\", 123.45, \"PT1H\", \"RES001\", datetime.utcnow())\n",
    "]\n",
    "columns = [\n",
    "    \"meteringgridarea\", \"time_start\", \"productiontype\", \"businesstype\",\n",
    "    \"quantity\", \"resolution\", \"resourceid\", \"time_end\"\n",
    "]\n",
    "\n",
    "df = spark.createDataFrame(data, columns)\n",
    "\n",
    "# Write to Cassandra\n",
    "df.write.format(\"org.apache.spark.sql.cassandra\") \\\n",
    "    .mode(\"append\") \\\n",
    "    .options(table=\"production_raw\", keyspace=\"elhub_data\") \\\n",
    "    .save()\n",
    "\n",
    "print(\"✅ Test row written to Cassandra successfully\")"
   ]
  },
  {
   "cell_type": "code",
   "execution_count": 5,
   "id": "5355fc73",
   "metadata": {},
   "outputs": [
    {
     "name": "stdout",
     "output_type": "stream",
     "text": [
      "+----------------+--------------------+--------------+------------+--------+----------+----------+--------------------+\n",
      "|meteringgridarea|          time_start|productiontype|businesstype|quantity|resolution|resourceid|            time_end|\n",
      "+----------------+--------------------+--------------+------------+--------+----------+----------+--------------------+\n",
      "|             NO1|2025-10-13 08:49:...|         Hydro|         A04|  123.45|      PT1H|    RES001|2025-10-13 08:49:...|\n",
      "+----------------+--------------------+--------------+------------+--------+----------+----------+--------------------+\n",
      "\n",
      "✅ Read 1 rows from Cassandra\n"
     ]
    }
   ],
   "source": [
    "df_read = spark.read \\\n",
    "    .format(\"org.apache.spark.sql.cassandra\") \\\n",
    "    .options(table=\"production_raw\", keyspace=\"elhub_data\") \\\n",
    "    .load()\n",
    "\n",
    "df_read.show()\n",
    "print(f\"✅ Read {df_read.count()} rows from Cassandra\")"
   ]
  },
  {
   "cell_type": "markdown",
   "id": "5a2fb0a3",
   "metadata": {},
   "source": [
    "### Delete Rows in the Table and Keeps Columns and Keys"
   ]
  },
  {
   "cell_type": "code",
   "execution_count": 6,
   "id": "2006d5a6",
   "metadata": {},
   "outputs": [
    {
     "name": "stdout",
     "output_type": "stream",
     "text": [
      "+----------------+----------+--------------+------------+--------+----------+----------+--------+\n",
      "|meteringgridarea|time_start|productiontype|businesstype|quantity|resolution|resourceid|time_end|\n",
      "+----------------+----------+--------------+------------+--------+----------+----------+--------+\n",
      "+----------------+----------+--------------+------------+--------+----------+----------+--------+\n",
      "\n",
      "✅ Table elhub_data.production_raw has been cleared.\n"
     ]
    }
   ],
   "source": [
    "cluster = Cluster(['127.0.0.1'])\n",
    "session = cluster.connect('elhub_data')\n",
    "session.execute(\"TRUNCATE production_raw;\")\n",
    "\n",
    "df_read.show()\n",
    "print(\"✅ Table elhub_data.production_raw has been cleared.\")"
   ]
  }
 ],
 "metadata": {
  "kernelspec": {
   "display_name": ".venv",
   "language": "python",
   "name": "python3"
  },
  "language_info": {
   "codemirror_mode": {
    "name": "ipython",
    "version": 3
   },
   "file_extension": ".py",
   "mimetype": "text/x-python",
   "name": "python",
   "nbconvert_exporter": "python",
   "pygments_lexer": "ipython3",
   "version": "3.12.9"
  }
 },
 "nbformat": 4,
 "nbformat_minor": 5
}
